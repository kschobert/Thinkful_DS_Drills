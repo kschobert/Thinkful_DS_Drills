{
 "cells": [
  {
   "cell_type": "markdown",
   "metadata": {},
   "source": [
    "# NLP Challenge -- Kristofer Schobert\n",
    "\n",
    "For this challenge assignment, we will create a supervised NLP model that predicts which act a given paragraph of William Shakesheare's *Hamlet* is from. The play has five acts all roughly 200 paragraphs longs. We will use two methods of feature generation, \"Bag of Words\" and \"tf-idf,\" in combination with three classifiers: a random forest classifier, logistic regression, and a gradient boosting classifier."
   ]
  },
  {
   "cell_type": "code",
   "execution_count": 83,
   "metadata": {},
   "outputs": [],
   "source": [
    "# importing packages\n",
    "\n",
    "%matplotlib inline\n",
    "import numpy as np\n",
    "import pandas as pd\n",
    "import scipy\n",
    "import sklearn\n",
    "import matplotlib.pyplot as plt\n",
    "import seaborn as sns\n",
    "import re\n",
    "import spacy\n",
    "from collections import Counter\n",
    "from sklearn.linear_model import LogisticRegression\n"
   ]
  },
  {
   "cell_type": "code",
   "execution_count": 314,
   "metadata": {},
   "outputs": [],
   "source": [
    "# Import the data\n",
    "from nltk.corpus import gutenberg, stopwords\n",
    "\n",
    "# We will analyze Hamlet by William Shakespeare\n",
    "hamlet = gutenberg.raw('shakespeare-hamlet.txt')"
   ]
  },
  {
   "cell_type": "markdown",
   "metadata": {},
   "source": [
    "## Data cleaning / processing / language parsing\n",
    "\n",
    "After sifting through this text, I have found that Act I and Act II are labeled, but the other three acts are not. We do know they begin with a certain string of text. So will will loop through each paragraph and find which index cooresponds to the first paragraph of each act. "
   ]
  },
  {
   "cell_type": "code",
   "execution_count": 6,
   "metadata": {},
   "outputs": [
    {
     "name": "stdout",
     "output_type": "stream",
     "text": [
      "1\n",
      "Actus Primus .\n",
      "230\n",
      "Actus Secundus .\n",
      "392\n",
      "Enter King , Queene , Polonius , Ophelia , Rosincrance , Guildenstern , and Lords .\n",
      "608\n",
      "Enter King .\n",
      "629\n",
      "Enter King .\n",
      "751\n",
      "Enter two Clownes .\n"
     ]
    }
   ],
   "source": [
    "# hamlet_paras is a nested list. We have a list whose elements are paragraphs \n",
    "# whose elements are sentences whose elements are lists.\n",
    "\n",
    "hamlet_paras = gutenberg.paras('shakespeare-hamlet.txt')\n",
    "for index, para in enumerate(hamlet_paras):\n",
    "    joined_first_sent = ' '.join(para[0])\n",
    "    #print(joined_first_sent)\n",
    "    if ('Actus' in joined_first_sent) or \\\n",
    "    ('Enter King , Queene , Polonius , Ophelia , Rosincrance , Guildenstern , and Lords .' in joined_first_sent) or \\\n",
    "    ('Enter King .' in joined_first_sent) or \\\n",
    "    ('Enter two Clownes .' in joined_first_sent):# and 'matters' in joined_third_sent):\n",
    "        print(index)\n",
    "        print(joined_first_sent)\n"
   ]
  },
  {
   "cell_type": "markdown",
   "metadata": {},
   "source": [
    "We have two condenders for the start of the fourth act. (Act IV starts with the sentence \"Enter King .\") Let's look to see what the following paragraph is. By knowing this, we can determine which paragraph is the start of Act 4."
   ]
  },
  {
   "cell_type": "code",
   "execution_count": 7,
   "metadata": {
    "scrolled": true
   },
   "outputs": [
    {
     "name": "stdout",
     "output_type": "stream",
     "text": [
      "[['Enter', 'King', '.']] [['King', '.'], ['There', \"'\", 's', 'matters', 'in', 'these', 'sighes', '.'], ['These', 'profound', 'heaues', 'You', 'must', 'translate', ';', 'Tis', 'fit', 'we', 'vnderstand', 'them', '.'], ['Where', 'is', 'your', 'Sonne', '?'], ['Qu', '.'], ['Ah', 'my', 'good', 'Lord', ',', 'what', 'haue', 'I', 'seene', 'to', 'night', '?'], ['King', '.'], ['What', 'Gertrude', '?'], ['How', 'do', \"'\", 's', 'Hamlet', '?'], ['Qu', '.'], ['Mad', 'as', 'the', 'Seas', ',', 'and', 'winde', ',', 'when', 'both', 'contend', 'Which', 'is', 'the', 'Mightier', ',', 'in', 'his', 'lawlesse', 'fit', 'Behinde', 'the', 'Arras', ',', 'hearing', 'something', 'stirre', ',', 'He', 'whips', 'his', 'Rapier', 'out', ',', 'and', 'cries', 'a', 'Rat', ',', 'a', 'Rat', ',', 'And', 'in', 'his', 'brainish', 'apprehension', 'killes', 'The', 'vnseene', 'good', 'old', 'man']]\n",
      "[['Enter', 'King', '.']] [['King', '.'], ['I', 'haue', 'sent', 'to', 'seeke', 'him', ',', 'and', 'to', 'find', 'the', 'bodie', ':', 'How', 'dangerous', 'is', 'it', 'that', 'this', 'man', 'goes', 'loose', ':', 'Yet', 'must', 'not', 'we', 'put', 'the', 'strong', 'Law', 'on', 'him', ':', 'Hee', \"'\", 's', 'loued', 'of', 'the', 'distracted', 'multitude', ',', 'Who', 'like', 'not', 'in', 'their', 'iudgement', ',', 'but', 'their', 'eyes', ':', 'And', 'where', \"'\", 'tis', 'so', ',', 'th', \"'\", 'Offenders', 'scourge', 'is', 'weigh', \"'\", 'd', 'But', 'neerer', 'the', 'offence', ':', 'to', 'beare', 'all', 'smooth', ',', 'and', 'euen', ',', 'This', 'sodaine', 'sending', 'him', 'away', ',', 'must', 'seeme', 'Deliberate', 'pause', ',', 'diseases', 'desperate', 'growne', ',', 'By', 'desperate', 'appliance', 'are', 'releeued', ',', 'Or', 'not', 'at', 'all', '.'], ['Enter', 'Rosincrane', '.']]\n"
     ]
    }
   ],
   "source": [
    "print(hamlet_paras[608], hamlet_paras[609])\n",
    "print(hamlet_paras[629], hamlet_paras[630])"
   ]
  },
  {
   "cell_type": "markdown",
   "metadata": {},
   "source": [
    "hamlet_paras[608] is the start of our fourth act. "
   ]
  },
  {
   "cell_type": "code",
   "execution_count": 8,
   "metadata": {},
   "outputs": [],
   "source": [
    "# sectioning hamlet_paras into the five acts\n",
    "# begining with index 1 to get rid of the title of the book\n",
    "hamlet_paras_1 = hamlet_paras[1:230]\n",
    "hamlet_paras_2 = hamlet_paras[230:392]\n",
    "hamlet_paras_3 = hamlet_paras[392:608]\n",
    "hamlet_paras_4 = hamlet_paras[608:751]\n",
    "hamlet_paras_5 = hamlet_paras[751:]"
   ]
  },
  {
   "cell_type": "code",
   "execution_count": 322,
   "metadata": {},
   "outputs": [],
   "source": [
    "# this function takes in hamlet_paras_n which is nested list for act n with the same structure as hamlet_paras\n",
    "# this function return a list of paragraphs where each paragraph is now one continuous string.\n",
    "\n",
    "def concat_sentences(text):\n",
    "    \n",
    "    #initializing list of lists which elements being the words of a given paragraph\n",
    "    para_list = []\n",
    "    \n",
    "    #looping through each paragraph with nested sentences and words\n",
    "    for para in text:\n",
    "        para_combined = []\n",
    "        \n",
    "        #looping thorugh each sentence with words as elements\n",
    "        for sent in para:\n",
    "            \n",
    "            # creating a list with elements that are all the words of a paragraph.\n",
    "            para_combined = para_combined + sent\n",
    "         \n",
    "        # creating a list of those lists with elements that are all the words of a paragraph.\n",
    "        para_list.append(para_combined)  \n",
    "    para_str = []   \n",
    "    \n",
    "    # for each list of words of a paragraph\n",
    "    for para in para_list:\n",
    "        # combine them into one string.\n",
    "        para_str.append(' '.join(para))\n",
    "    return para_str  "
   ]
  },
  {
   "cell_type": "code",
   "execution_count": 323,
   "metadata": {},
   "outputs": [],
   "source": [
    "# Turning hamlet_paras_n into hamlet_n which is a list of paragraphs. \n",
    "# Each element in this list is a continuous string\n",
    "hamlet_1 = concat_sentences(hamlet_paras_1)\n",
    "hamlet_2 = concat_sentences(hamlet_paras_2)\n",
    "hamlet_3 = concat_sentences(hamlet_paras_3)\n",
    "hamlet_4 = concat_sentences(hamlet_paras_4)\n",
    "hamlet_5 = concat_sentences(hamlet_paras_5)"
   ]
  },
  {
   "cell_type": "code",
   "execution_count": 12,
   "metadata": {},
   "outputs": [],
   "source": [
    "# Parse the cleaned novels. This can take a bit.\n",
    "nlp = spacy.load('en')\n",
    "\n",
    "# inputing the list of paragraphs for act n\n",
    "# outputing the spaCy analysed paragrphs in a similar list\n",
    "\n",
    "def nlping(hamlet_n):\n",
    "    hamlet_n_doc = []\n",
    "    for para in hamlet_n:\n",
    "        hamlet_n_doc.append(nlp(para))\n",
    "    return hamlet_n_doc\n",
    "    \n",
    "    \n",
    "hamlet_1_doc = nlping(hamlet_1)\n",
    "hamlet_2_doc = nlping(hamlet_2)\n",
    "hamlet_3_doc = nlping(hamlet_3)\n",
    "hamlet_4_doc = nlping(hamlet_4)\n",
    "hamlet_5_doc = nlping(hamlet_5)\n"
   ]
  },
  {
   "cell_type": "code",
   "execution_count": 55,
   "metadata": {
    "scrolled": true
   },
   "outputs": [
    {
     "data": {
      "text/html": [
       "<div>\n",
       "<style scoped>\n",
       "    .dataframe tbody tr th:only-of-type {\n",
       "        vertical-align: middle;\n",
       "    }\n",
       "\n",
       "    .dataframe tbody tr th {\n",
       "        vertical-align: top;\n",
       "    }\n",
       "\n",
       "    .dataframe thead th {\n",
       "        text-align: right;\n",
       "    }\n",
       "</style>\n",
       "<table border=\"1\" class=\"dataframe\">\n",
       "  <thead>\n",
       "    <tr style=\"text-align: right;\">\n",
       "      <th></th>\n",
       "      <th>0</th>\n",
       "      <th>1</th>\n",
       "    </tr>\n",
       "  </thead>\n",
       "  <tbody>\n",
       "    <tr>\n",
       "      <th>0</th>\n",
       "      <td>(Actus, Primus, ., Scoena, Prima, .)</td>\n",
       "      <td>1</td>\n",
       "    </tr>\n",
       "    <tr>\n",
       "      <th>1</th>\n",
       "      <td>(Enter, Barnardo, and, Francisco, two, Centine...</td>\n",
       "      <td>1</td>\n",
       "    </tr>\n",
       "    <tr>\n",
       "      <th>2</th>\n",
       "      <td>(Barnardo, ., Who, ', s, there, ?, Fran, ., Na...</td>\n",
       "      <td>1</td>\n",
       "    </tr>\n",
       "    <tr>\n",
       "      <th>3</th>\n",
       "      <td>(Bar, ., Long, liue, the, King)</td>\n",
       "      <td>1</td>\n",
       "    </tr>\n",
       "    <tr>\n",
       "      <th>4</th>\n",
       "      <td>(Fran, ., Barnardo, ?, Bar, ., He)</td>\n",
       "      <td>1</td>\n",
       "    </tr>\n",
       "  </tbody>\n",
       "</table>\n",
       "</div>"
      ],
      "text/plain": [
       "                                                   0  1\n",
       "0               (Actus, Primus, ., Scoena, Prima, .)  1\n",
       "1  (Enter, Barnardo, and, Francisco, two, Centine...  1\n",
       "2  (Barnardo, ., Who, ', s, there, ?, Fran, ., Na...  1\n",
       "3                    (Bar, ., Long, liue, the, King)  1\n",
       "4                 (Fran, ., Barnardo, ?, Bar, ., He)  1"
      ]
     },
     "execution_count": 55,
     "metadata": {},
     "output_type": "execute_result"
    }
   ],
   "source": [
    "# Creating 2d lists to form the desired data frame.\n",
    "hamlet_1_ = [[para, '1'] for para in hamlet_1_doc]\n",
    "hamlet_2_ = [[para, '2'] for para in hamlet_2_doc]\n",
    "hamlet_3_ = [[para, '3'] for para in hamlet_3_doc]\n",
    "hamlet_4_ = [[para, '4'] for para in hamlet_4_doc]\n",
    "hamlet_5_ = [[para, '5'] for para in hamlet_5_doc]\n",
    "\n",
    "\n",
    "# Combine the pragraphs from the five acts into one data frame.\n",
    "para_df = pd.DataFrame(hamlet_1_ + hamlet_2_ + hamlet_3_ + hamlet_4_ + hamlet_5_)\n",
    "para_df.head()"
   ]
  },
  {
   "cell_type": "markdown",
   "metadata": {},
   "source": [
    "## Bag of Words"
   ]
  },
  {
   "cell_type": "code",
   "execution_count": 37,
   "metadata": {},
   "outputs": [],
   "source": [
    "# Utility function to create a list of the 500 most common words of each act\n",
    "def bag_of_words(text):\n",
    "    \n",
    "    # Loop through each doc (which is each paragraph) and filter out punctuation and stop words.\n",
    "    # we will collect the 500 most common words from each act.\n",
    "    \n",
    "    allwords = []\n",
    "    for doc in text:\n",
    "        for token in doc:\n",
    "            if not token.is_punct and not token.is_stop:\n",
    "                allwords.append(token.lemma_)\n",
    "        \n",
    "    \n",
    "    # Return the most common words.\n",
    "    return [item[0] for item in Counter(allwords).most_common(500)]\n",
    "\n",
    "\n",
    "\n",
    "# Set up the bags.\n",
    "act_1_words = bag_of_words(hamlet_1_doc)\n",
    "act_2_words = bag_of_words(hamlet_2_doc)\n",
    "act_3_words = bag_of_words(hamlet_3_doc)\n",
    "act_4_words = bag_of_words(hamlet_4_doc)\n",
    "act_5_words = bag_of_words(hamlet_5_doc)\n",
    "\n",
    "# Combine bags to create a set of unique words.\n",
    "common_words = set(act_1_words + act_2_words + act_3_words + act_4_words + act_5_words)"
   ]
  },
  {
   "cell_type": "code",
   "execution_count": 45,
   "metadata": {},
   "outputs": [
    {
     "data": {
      "text/plain": [
       "1500"
      ]
     },
     "execution_count": 45,
     "metadata": {},
     "output_type": "execute_result"
    }
   ],
   "source": [
    "# Determining the length of our most common words list.\n",
    "len(common_words)"
   ]
  },
  {
   "cell_type": "code",
   "execution_count": 65,
   "metadata": {
    "scrolled": true
   },
   "outputs": [],
   "source": [
    "# creating funtion that takes in our data frame para_df and list of most common words\n",
    "# it outputs a dataframe containing word frequencies for the common words.\n",
    "def bow_features(para_df, common_words):\n",
    "    \n",
    "    # Scaffold the data frame and initialize counts to zero.\n",
    "    df = pd.DataFrame(columns=common_words)\n",
    "    df['text_para'] = para_df[0]\n",
    "    df['act_number'] = para_df[1]\n",
    "    df.loc[:, common_words] = 0\n",
    "    \n",
    "    # Process each row, counting the occurrence of words in each paragraph.\n",
    "    for i, para in enumerate(df['text_para']):\n",
    "        \n",
    "        # Convert the paragraphs to lemmas, then filter out punctuation,\n",
    "        # stop words, and uncommon words.\n",
    "        words = [token.lemma_\n",
    "                 for token in para\n",
    "                 if (\n",
    "                     not token.is_punct\n",
    "                     and not token.is_stop\n",
    "                     and token.lemma_ in common_words\n",
    "                 )]\n",
    "        \n",
    "        # Populate the row with word counts.\n",
    "        for word in words:\n",
    "            df.loc[i, word] += 1\n",
    "        \n",
    "        # This counter is just to make sure the kernel didn't hang.\n",
    "        if i % 50 == 0:\n",
    "            print(\"Processing row {}\".format(i))\n",
    "            \n",
    "    return df"
   ]
  },
  {
   "cell_type": "code",
   "execution_count": 66,
   "metadata": {},
   "outputs": [
    {
     "name": "stdout",
     "output_type": "stream",
     "text": [
      "Processing row 0\n",
      "Processing row 50\n",
      "Processing row 100\n",
      "Processing row 150\n",
      "Processing row 200\n",
      "Processing row 250\n",
      "Processing row 300\n",
      "Processing row 350\n",
      "Processing row 400\n",
      "Processing row 450\n",
      "Processing row 500\n",
      "Processing row 550\n",
      "Processing row 600\n",
      "Processing row 650\n",
      "Processing row 700\n",
      "Processing row 750\n",
      "Processing row 800\n",
      "Processing row 850\n",
      "Processing row 900\n"
     ]
    },
    {
     "data": {
      "text/html": [
       "<div>\n",
       "<style scoped>\n",
       "    .dataframe tbody tr th:only-of-type {\n",
       "        vertical-align: middle;\n",
       "    }\n",
       "\n",
       "    .dataframe tbody tr th {\n",
       "        vertical-align: top;\n",
       "    }\n",
       "\n",
       "    .dataframe thead th {\n",
       "        text-align: right;\n",
       "    }\n",
       "</style>\n",
       "<table border=\"1\" class=\"dataframe\">\n",
       "  <thead>\n",
       "    <tr style=\"text-align: right;\">\n",
       "      <th></th>\n",
       "      <th>sore</th>\n",
       "      <th>assume</th>\n",
       "      <th>begge</th>\n",
       "      <th>doe</th>\n",
       "      <th>greeue</th>\n",
       "      <th>art</th>\n",
       "      <th>offer</th>\n",
       "      <th>Euen</th>\n",
       "      <th>sulleye</th>\n",
       "      <th>Prince</th>\n",
       "      <th>...</th>\n",
       "      <th>Actors</th>\n",
       "      <th>deliuer</th>\n",
       "      <th>idle</th>\n",
       "      <th>action</th>\n",
       "      <th>Apparition</th>\n",
       "      <th>follow</th>\n",
       "      <th>Mes</th>\n",
       "      <th>looke</th>\n",
       "      <th>text_para</th>\n",
       "      <th>act_number</th>\n",
       "    </tr>\n",
       "  </thead>\n",
       "  <tbody>\n",
       "    <tr>\n",
       "      <th>0</th>\n",
       "      <td>0</td>\n",
       "      <td>0</td>\n",
       "      <td>0</td>\n",
       "      <td>0</td>\n",
       "      <td>0</td>\n",
       "      <td>0</td>\n",
       "      <td>0</td>\n",
       "      <td>0</td>\n",
       "      <td>0</td>\n",
       "      <td>0</td>\n",
       "      <td>...</td>\n",
       "      <td>0</td>\n",
       "      <td>0</td>\n",
       "      <td>0</td>\n",
       "      <td>0</td>\n",
       "      <td>0</td>\n",
       "      <td>0</td>\n",
       "      <td>0</td>\n",
       "      <td>0</td>\n",
       "      <td>(Actus, Primus, ., Scoena, Prima, .)</td>\n",
       "      <td>1</td>\n",
       "    </tr>\n",
       "    <tr>\n",
       "      <th>1</th>\n",
       "      <td>0</td>\n",
       "      <td>0</td>\n",
       "      <td>0</td>\n",
       "      <td>0</td>\n",
       "      <td>0</td>\n",
       "      <td>0</td>\n",
       "      <td>0</td>\n",
       "      <td>0</td>\n",
       "      <td>0</td>\n",
       "      <td>0</td>\n",
       "      <td>...</td>\n",
       "      <td>0</td>\n",
       "      <td>0</td>\n",
       "      <td>0</td>\n",
       "      <td>0</td>\n",
       "      <td>0</td>\n",
       "      <td>0</td>\n",
       "      <td>0</td>\n",
       "      <td>0</td>\n",
       "      <td>(Enter, Barnardo, and, Francisco, two, Centine...</td>\n",
       "      <td>1</td>\n",
       "    </tr>\n",
       "    <tr>\n",
       "      <th>2</th>\n",
       "      <td>0</td>\n",
       "      <td>0</td>\n",
       "      <td>0</td>\n",
       "      <td>0</td>\n",
       "      <td>0</td>\n",
       "      <td>0</td>\n",
       "      <td>0</td>\n",
       "      <td>0</td>\n",
       "      <td>0</td>\n",
       "      <td>0</td>\n",
       "      <td>...</td>\n",
       "      <td>0</td>\n",
       "      <td>0</td>\n",
       "      <td>0</td>\n",
       "      <td>0</td>\n",
       "      <td>0</td>\n",
       "      <td>0</td>\n",
       "      <td>0</td>\n",
       "      <td>0</td>\n",
       "      <td>(Barnardo, ., Who, ', s, there, ?, Fran, ., Na...</td>\n",
       "      <td>1</td>\n",
       "    </tr>\n",
       "    <tr>\n",
       "      <th>3</th>\n",
       "      <td>0</td>\n",
       "      <td>0</td>\n",
       "      <td>0</td>\n",
       "      <td>0</td>\n",
       "      <td>0</td>\n",
       "      <td>0</td>\n",
       "      <td>0</td>\n",
       "      <td>0</td>\n",
       "      <td>0</td>\n",
       "      <td>0</td>\n",
       "      <td>...</td>\n",
       "      <td>0</td>\n",
       "      <td>0</td>\n",
       "      <td>0</td>\n",
       "      <td>0</td>\n",
       "      <td>0</td>\n",
       "      <td>0</td>\n",
       "      <td>0</td>\n",
       "      <td>0</td>\n",
       "      <td>(Bar, ., Long, liue, the, King)</td>\n",
       "      <td>1</td>\n",
       "    </tr>\n",
       "    <tr>\n",
       "      <th>4</th>\n",
       "      <td>0</td>\n",
       "      <td>0</td>\n",
       "      <td>0</td>\n",
       "      <td>0</td>\n",
       "      <td>0</td>\n",
       "      <td>0</td>\n",
       "      <td>0</td>\n",
       "      <td>0</td>\n",
       "      <td>0</td>\n",
       "      <td>0</td>\n",
       "      <td>...</td>\n",
       "      <td>0</td>\n",
       "      <td>0</td>\n",
       "      <td>0</td>\n",
       "      <td>0</td>\n",
       "      <td>0</td>\n",
       "      <td>0</td>\n",
       "      <td>0</td>\n",
       "      <td>0</td>\n",
       "      <td>(Fran, ., Barnardo, ?, Bar, ., He)</td>\n",
       "      <td>1</td>\n",
       "    </tr>\n",
       "  </tbody>\n",
       "</table>\n",
       "<p>5 rows × 1502 columns</p>\n",
       "</div>"
      ],
      "text/plain": [
       "  sore assume begge doe greeue art offer Euen sulleye Prince  ... Actors  \\\n",
       "0    0      0     0   0      0   0     0    0       0      0  ...      0   \n",
       "1    0      0     0   0      0   0     0    0       0      0  ...      0   \n",
       "2    0      0     0   0      0   0     0    0       0      0  ...      0   \n",
       "3    0      0     0   0      0   0     0    0       0      0  ...      0   \n",
       "4    0      0     0   0      0   0     0    0       0      0  ...      0   \n",
       "\n",
       "  deliuer idle action Apparition follow Mes looke  \\\n",
       "0       0    0      0          0      0   0     0   \n",
       "1       0    0      0          0      0   0     0   \n",
       "2       0    0      0          0      0   0     0   \n",
       "3       0    0      0          0      0   0     0   \n",
       "4       0    0      0          0      0   0     0   \n",
       "\n",
       "                                           text_para act_number  \n",
       "0               (Actus, Primus, ., Scoena, Prima, .)          1  \n",
       "1  (Enter, Barnardo, and, Francisco, two, Centine...          1  \n",
       "2  (Barnardo, ., Who, ', s, there, ?, Fran, ., Na...          1  \n",
       "3                    (Bar, ., Long, liue, the, King)          1  \n",
       "4                 (Fran, ., Barnardo, ?, Bar, ., He)          1  \n",
       "\n",
       "[5 rows x 1502 columns]"
      ]
     },
     "execution_count": 66,
     "metadata": {},
     "output_type": "execute_result"
    }
   ],
   "source": [
    "word_counts = bow_features(para_df, common_words)\n",
    "word_counts.head()"
   ]
  },
  {
   "cell_type": "markdown",
   "metadata": {},
   "source": [
    "We now have the dataframe that we need. Let's use the three supervised learning classifiers to see which performs best with cross validation. \n",
    "\n",
    "## Supervised Models with BoW as features"
   ]
  },
  {
   "cell_type": "code",
   "execution_count": 82,
   "metadata": {},
   "outputs": [
    {
     "name": "stdout",
     "output_type": "stream",
     "text": [
      "The Cross Validation Mean is 0.40784 +/_ 0.01319\n"
     ]
    }
   ],
   "source": [
    "from sklearn import ensemble\n",
    "from sklearn.model_selection import cross_val_score\n",
    "\n",
    "rfc = ensemble.RandomForestClassifier(n_estimators=100)\n",
    "Y = word_counts['act_number']\n",
    "X = np.array(word_counts.drop(['text_para','act_number'], 1))\n",
    "\n",
    "cvs = cross_val_score(rfc, X, Y, cv=5)\n",
    "print('The Cross Validation Mean is {} +/_ {}'.format(round(np.mean(cvs),5), round(np.std(cvs)/np.sqrt(len(cvs)),5)))\n"
   ]
  },
  {
   "cell_type": "code",
   "execution_count": 86,
   "metadata": {},
   "outputs": [
    {
     "name": "stdout",
     "output_type": "stream",
     "text": [
      "The Cross Validation Mean is 0.45112 +/_ 0.01022\n"
     ]
    }
   ],
   "source": [
    "from sklearn import ensemble\n",
    "from sklearn.model_selection import cross_val_score\n",
    "\n",
    "# using updated default parameters (this gets rid of the warnings announcing the changing default parameters)\n",
    "# I'm also fine with using the updated defaults for a first attempt\n",
    "lr = LogisticRegression(penalty='l2', solver='lbfgs', multi_class='auto')\n",
    "Y = word_counts['act_number']\n",
    "X = np.array(word_counts.drop(['text_para','act_number'], 1))\n",
    "\n",
    "cvs = cross_val_score(lr, X, Y, cv=5)\n",
    "print('The Cross Validation Mean is {} +/_ {}'.format(round(np.mean(cvs),5), round(np.std(cvs)/np.sqrt(len(cvs)),5)))\n"
   ]
  },
  {
   "cell_type": "code",
   "execution_count": 64,
   "metadata": {},
   "outputs": [
    {
     "data": {
      "text/plain": [
       "array([0, 1], dtype=object)"
      ]
     },
     "execution_count": 64,
     "metadata": {},
     "output_type": "execute_result"
    }
   ],
   "source": [
    "word_counts['Actors'].unique()"
   ]
  },
  {
   "cell_type": "code",
   "execution_count": 88,
   "metadata": {},
   "outputs": [
    {
     "name": "stdout",
     "output_type": "stream",
     "text": [
      "The Cross Validation Mean is 0.43353 +/_ 0.02297\n"
     ]
    }
   ],
   "source": [
    "from sklearn import ensemble\n",
    "from sklearn.model_selection import cross_val_score\n",
    "\n",
    "gbc = ensemble.GradientBoostingClassifier()\n",
    "Y = word_counts['act_number']\n",
    "X = np.array(word_counts.drop(['text_para','act_number'], 1))\n",
    "\n",
    "cvs = cross_val_score(gbc, X, Y, cv=5)\n",
    "print('The Cross Validation Mean is {} +/_ {}'.format(round(np.mean(cvs),5), round(np.std(cvs)/np.sqrt(len(cvs)),5)))"
   ]
  },
  {
   "cell_type": "markdown",
   "metadata": {},
   "source": [
    "We have found the logistic regression works best for our bag of words features. Next, let's try tf-idf. I suspect some words are common in each act, thus the idf will help reduce the influence of those common words on our model. "
   ]
  },
  {
   "cell_type": "markdown",
   "metadata": {},
   "source": [
    "## tf-idf as Features of Supervised Model"
   ]
  },
  {
   "cell_type": "code",
   "execution_count": 142,
   "metadata": {},
   "outputs": [],
   "source": [
    "# Here we are creating a column in our simipler dataframe para_df which now contains three columns\n",
    "# We will create a column that contains elements that are long strings connecting every word of a paragraph\n",
    "# by a spacebar\n",
    "para_str = []\n",
    "for index, row in enumerate(para_df[0]):\n",
    "    para_str.append(str(row))\n",
    "    \n",
    "para_df['para_str'] = para_str    "
   ]
  },
  {
   "cell_type": "code",
   "execution_count": 162,
   "metadata": {},
   "outputs": [],
   "source": [
    "# renaming the other two columns of the dataframe to be more telling of the elements of the column\n",
    "para_df = para_df.rename(index=str, columns={0: \"text_list\", 1: \"act_number\"})"
   ]
  },
  {
   "cell_type": "code",
   "execution_count": 186,
   "metadata": {},
   "outputs": [
    {
     "data": {
      "text/html": [
       "<div>\n",
       "<style scoped>\n",
       "    .dataframe tbody tr th:only-of-type {\n",
       "        vertical-align: middle;\n",
       "    }\n",
       "\n",
       "    .dataframe tbody tr th {\n",
       "        vertical-align: top;\n",
       "    }\n",
       "\n",
       "    .dataframe thead th {\n",
       "        text-align: right;\n",
       "    }\n",
       "</style>\n",
       "<table border=\"1\" class=\"dataframe\">\n",
       "  <thead>\n",
       "    <tr style=\"text-align: right;\">\n",
       "      <th></th>\n",
       "      <th>text_list</th>\n",
       "      <th>act_number</th>\n",
       "      <th>para_str</th>\n",
       "    </tr>\n",
       "  </thead>\n",
       "  <tbody>\n",
       "    <tr>\n",
       "      <th>944</th>\n",
       "      <td>(Amb, ., The, sight, is, dismall, ,, And, our,...</td>\n",
       "      <td>5</td>\n",
       "      <td>Amb . The sight is dismall , And our affaires ...</td>\n",
       "    </tr>\n",
       "    <tr>\n",
       "      <th>945</th>\n",
       "      <td>(For, ., Let, vs, hast, to, heare, it, ,, And,...</td>\n",
       "      <td>5</td>\n",
       "      <td>For . Let vs hast to heare it , And call the N...</td>\n",
       "    </tr>\n",
       "    <tr>\n",
       "      <th>946</th>\n",
       "      <td>(For, ., Let, foure, Captaines, Beare, Hamlet,...</td>\n",
       "      <td>5</td>\n",
       "      <td>For . Let foure Captaines Beare Hamlet like a ...</td>\n",
       "    </tr>\n",
       "    <tr>\n",
       "      <th>947</th>\n",
       "      <td>(Exeunt, ., Marching, :, after, the, which, ,,...</td>\n",
       "      <td>5</td>\n",
       "      <td>Exeunt . Marching : after the which , a Peale ...</td>\n",
       "    </tr>\n",
       "    <tr>\n",
       "      <th>948</th>\n",
       "      <td>(FINIS, ., The, tragedie, of, HAMLET, ,, Princ...</td>\n",
       "      <td>5</td>\n",
       "      <td>FINIS . The tragedie of HAMLET , Prince of Den...</td>\n",
       "    </tr>\n",
       "  </tbody>\n",
       "</table>\n",
       "</div>"
      ],
      "text/plain": [
       "                                             text_list act_number  \\\n",
       "944  (Amb, ., The, sight, is, dismall, ,, And, our,...          5   \n",
       "945  (For, ., Let, vs, hast, to, heare, it, ,, And,...          5   \n",
       "946  (For, ., Let, foure, Captaines, Beare, Hamlet,...          5   \n",
       "947  (Exeunt, ., Marching, :, after, the, which, ,,...          5   \n",
       "948  (FINIS, ., The, tragedie, of, HAMLET, ,, Princ...          5   \n",
       "\n",
       "                                              para_str  \n",
       "944  Amb . The sight is dismall , And our affaires ...  \n",
       "945  For . Let vs hast to heare it , And call the N...  \n",
       "946  For . Let foure Captaines Beare Hamlet like a ...  \n",
       "947  Exeunt . Marching : after the which , a Peale ...  \n",
       "948  FINIS . The tragedie of HAMLET , Prince of Den...  "
      ]
     },
     "execution_count": 186,
     "metadata": {},
     "output_type": "execute_result"
    }
   ],
   "source": [
    "para_df.tail()"
   ]
  },
  {
   "cell_type": "code",
   "execution_count": 171,
   "metadata": {},
   "outputs": [],
   "source": [
    "# Joining the lists of paragraphs for each act by a spacebar. Thus, hamlet_n_str is the nth act of hamlet expressed\n",
    "# as one long continuous string\n",
    "hamlet_1_str = ' '.join(hamlet_1)\n",
    "hamlet_2_str = ' '.join(hamlet_2)\n",
    "hamlet_3_str = ' '.join(hamlet_3)\n",
    "hamlet_4_str = ' '.join(hamlet_4)\n",
    "hamlet_5_str = ' '.join(hamlet_5)\n",
    "\n",
    "# creating a list of those 5 strings that are one act long.\n",
    "hamlet_list_acts_as_str = [hamlet_1_str, hamlet_2_str, hamlet_3_str, hamlet_4_str, hamlet_5_str]"
   ]
  },
  {
   "cell_type": "code",
   "execution_count": 326,
   "metadata": {},
   "outputs": [
    {
     "data": {
      "text/plain": [
       "\"Actus Primus . Scoena Prima . Enter Barnardo and Francisco two Centinels . Barnardo . Who ' s there ? Fran . Nay answer me : Stand & vnfold your selfe Bar . Long liue the King Fran . Barnardo ? Bar . He Fran . You come most carefully vpon your houre Bar . ' Tis now strook twelue , get thee to bed Francisco Fran . For this releefe much thankes : ' Tis bitter cold , And I am sicke at heart Barn . Haue you had quiet Guard ? Fran . Not a Mouse stirring Barn . Well , goodnight . If you do meet Horatio and Marcellus , the Riuals of my Watch , bid them make hast . Enter Horatio and Marcellus . Fran . I thinke I heare them . Stand : who ' s there ? Hor . Friends to this ground Mar . And Leige - men to the Dane Fran . Giue you good night Mar . O farwel honest Soldier , who hath relieu ' d you ? Fra . Barnardo ha ' s my place : giue you goodnight . Exit Fran . Mar . Holla Barnardo Bar . Say , what is Horatio there ? Hor . A peece of him Bar . Welcome Horatio , welcome good Marcellus Mar . What , ha ' s this thing appear ' d againe to night Bar . I haue seene nothing Mar . Horatio saies , ' tis but our Fantasie , And will not let beleefe take hold of him Touching this dreaded sight , twice seene of vs , Therefore I haue intreated him along With vs , to watch the minutes of this Night , That if againe this Apparition come , He may approue our eyes , and speake to it Hor . Tush , tush , ' twill not appeare Bar . Sit downe a - while , And let vs once againe assaile your eares , That are so fortified against our Story , What we two Nights haue seene Hor . Well , sit we downe , And let vs heare Barnardo speake of this Barn . Last night of all , When yond same Starre that ' s Westward from the Pole Had made his course t ' illume that part of Heauen Where now it burnes , Marcellus and my selfe , The Bell then beating one Mar . Peace , breake thee of : Enter the Ghost . Looke where it comes againe Barn . In the same figure , like the King that ' s dead Mar . Thou art a Scholler ; speake to it Horatio Barn . Lookes it not like the King ? Marke it Horatio Hora . Most like : It harrowes me with fear & wonder Barn . It would be spoke too Mar . Question it Horatio Hor . What art thou that vsurp ' st this time of night , Together with that Faire and Warlike forme In which the Maiesty of buried Denmarke Did sometimes march : By Heauen I charge thee speake Mar . It is offended Barn . See , it stalkes away Hor . Stay : speake ; speake : I Charge thee , speake . Exit the Ghost . Mar . ' Tis gone , and will not answer Barn . How now Horatio ? You tremble & look pale : Is not this something more then Fantasie ? What thinke you on ' t ? Hor . Before my God , I might not this beleeue Without the sensible and true auouch Of mine owne eyes Mar . Is it not like the King ? Hor . As thou art to thy selfe , Such was the very Armour he had on , When th ' Ambitious Norwey combatted : So frown ' d he once , when in an angry parle He smot the sledded Pollax on the Ice . ' Tis strange Mar . Thus twice before , and iust at this dead houre , With Martiall stalke , hath he gone by our Watch Hor . In what particular thought to work , I know not : But in the grosse and scope of my Opinion , This boades some strange erruption to our State Mar . Good now sit downe , & tell me he that knowes Why this same strict and most obseruant Watch , So nightly toyles the subiect of the Land , And why such dayly Cast of Brazon Cannon And Forraigne Mart for Implements of warre : Why such impresse of Ship - wrights , whose sore Taske Do ' s not diuide the Sunday from the weeke , What might be toward , that this sweaty hast Doth make the Night ioynt - Labourer with the day : Who is ' t that can informe me ? Hor . That can I , At least the whisper goes so : Our last King , Whose Image euen but now appear ' d to vs , Was ( as you know ) by Fortinbras of Norway , ( Thereto prick ' d on by a most emulate Pride ) Dar ' d to the Combate . In which , our Valiant Hamlet , ( For so this side of our knowne world esteem ' d him ) Did slay this Fortinbras : who by a Seal ' d Compact , Well ratified by Law , and Heraldrie , Did forfeite ( with his life ) all those his Lands Which he stood seiz ' d on , to the Conqueror : Against the which , a Moity competent Was gaged by our King : which had return ' d To the Inheritance of Fortinbras , Had he bin Vanquisher , as by the same Cou ' nant And carriage of the Article designe , His fell to Hamlet . Now sir , young Fortinbras , Of vnimproued Mettle , hot and full , Hath in the skirts of Norway , heere and there , Shark ' d vp a List of Landlesse Resolutes , For Foode and Diet , to some Enterprize That hath a stomacke in ' t : which is no other ( And it doth well appeare vnto our State ) But to recouer of vs by strong hand And termes Compulsatiue , those foresaid Lands So by his Father lost : and this ( I take it ) Is the maine Motiue of our Preparations , The Sourse of this our Watch , and the cheefe head Of this post - hast , and Romage in the Land . Enter Ghost againe . But soft , behold : Loe , where it comes againe : Ile crosse it , though it blast me . Stay Illusion : If thou hast any sound , or vse of Voyce , Speake to me . If there be any good thing to be done , That may to thee do ease , and grace to me ; speak to me . If thou art priuy to thy Countries Fate ( Which happily foreknowing may auoyd ) Oh speake . Or , if thou hast vp - hoorded in thy life Extorted Treasure in the wombe of Earth , ( For which , they say , you Spirits oft walke in death ) Speake of it . Stay , and speake . Stop it Marcellus Mar . Shall I strike at it with my Partizan ? Hor . Do , if it will not stand Barn . ' Tis heere Hor . ' Tis heere Mar . ' Tis gone . Exit Ghost . We do it wrong , being so Maiesticall To offer it the shew of Violence , For it is as the Ayre , invulnerable , And our vaine blowes , malicious Mockery Barn . It was about to speake , when the Cocke crew Hor . And then it started , like a guilty thing Vpon a fearfull Summons . I haue heard , The Cocke that is the Trumpet to the day , Doth with his lofty and shrill - sounding Throate Awake the God of Day : and at his warning , Whether in Sea , or Fire , in Earth , or Ayre , Th ' extrauagant , and erring Spirit , hyes To his Confine . And of the truth heerein , This present Obiect made probation Mar . It faded on the crowing of the Cocke . Some sayes , that euer ' gainst that Season comes Wherein our Sauiours Birch is celebrated , The Bird of Dawning singeth all night long : And then ( they say ) no Spirit can walke abroad , The nights are wholsome , then no Planets strike , No Faiery talkes , nor Witch hath power to Charme : So hallow ' d , and so gracious is the time Hor . So haue I heard , and do in part beleeue it . But looke , the Morne in Russet mantle clad , Walkes o ' re the dew of yon high Easterne Hill , Breake we our Watch vp , and by my aduice Let vs impart what we haue seene to night Vnto yong Hamlet . For vpon my life , This Spirit dumbe to vs , will speake to him : Do you consent we shall acquaint him with it , As needfull in our Loues , fitting our Duty ? Mar . Let do ' t I pray , and I this morning know Where we shall finde him most conueniently . Exeunt . Scena Secunda . Enter Claudius King of Denmarke , Gertrude the Queene , Hamlet , Polonius , Laertes , and his Sister Ophelia , Lords Attendant . King . Though yet of Hamlet our deere Brothers death The memory be greene : and that it vs befitted To beare our hearts in greefe , and our whole Kingdome To be contracted in one brow of woe : Yet so farre hath Discretion fought with Nature , That we with wisest sorrow thinke on him , Together with remembrance of our selues . Therefore our sometimes Sister , now our Queene , Th ' imperiall Ioyntresse of this warlike State , Haue we , as ' twere , with a defeated ioy , With one Auspicious , and one Dropping eye , With mirth in Funerall , and with Dirge in Marriage , In equall Scale weighing Delight and Dole Taken to Wife ; nor haue we heerein barr ' d Your better Wisedomes , which haue freely gone With this affaire along , for all our Thankes . Now followes , that you know young Fortinbras , Holding a weake supposall of our worth ; Or thinking by our late deere Brothers death , Our State to be disioynt , and out of Frame , Colleagued with the dreame of his Aduantage ; He hath not fayl ' d to pester vs with Message , Importing the surrender of those Lands Lost by his Father : with all Bonds of Law To our most valiant Brother . So much for him . Enter Voltemand and Cornelius . Now for our selfe , and for this time of meeting Thus much the businesse is . We haue heere writ To Norway , Vncle of young Fortinbras , Who Impotent and Bedrid , scarsely heares Of this his Nephewes purpose , to suppresse His further gate heerein . In that the Leuies , The Lists , and full proportions are all made Out of his subiect : and we heere dispatch You good Cornelius , and you Voltemand , For bearing of this greeting to old Norway , Giuing to you no further personall power To businesse with the King , more then the scope Of these dilated Articles allow : Farewell , and let your hast commend your duty Volt . In that , and all things , will we shew our duty King . We doubt it nothing , heartily farewell . Exit Voltemand and Cornelius . And now Laertes , what ' s the newes with you ? You told vs of some suite . What is ' t Laertes ? You cannot speake of Reason to the Dane , And loose your voyce . What would ' st thou beg Laertes , That shall not be my Offer , not thy Asking ? The Head is not more Natiue to the Heart , The Hand more instrumentall to the Mouth , Then is the Throne of Denmarke to thy Father . What would ' st thou haue Laertes ? Laer . Dread my Lord , Your leaue and fauour to returne to France , From whence , though willingly I came to Denmarke To shew my duty in your Coronation , Yet now I must confesse , that duty done , My thoughts and wishes bend againe towards France , And bow them to your gracious leaue and pardon King . Haue you your Fathers leaue ? What sayes Pollonius ? Pol . He hath my Lord : I do beseech you giue him leaue to go King . Take thy faire houre Laertes , time be thine , And thy best graces spend it at thy will : But now my Cosin Hamlet , and my Sonne ? Ham . A little more then kin , and lesse then kinde King . How is it that the Clouds still hang on you ? Ham . Not so my Lord , I am too much i ' th ' Sun Queen . Good Hamlet cast thy nightly colour off , And let thine eye looke like a Friend on Denmarke . Do not for euer with thy veyled lids Seeke for thy Noble Father in the dust ; Thou know ' st ' tis common , all that liues must dye , Passing through Nature , to Eternity Ham . I Madam , it is common Queen . If it be ; Why seemes it so particular with thee Ham . Seemes Madam ? Nay , it is : I know not Seemes : ' Tis not alone my Inky Cloake ( good Mother ) Nor Customary suites of solemne Blacke , Nor windy suspiration of forc ' d breath , No , nor the fruitfull Riuer in the Eye , Nor the deiected hauiour of the Visage , Together with all Formes , Moods , shewes of Griefe , That can denote me truly . These indeed Seeme , For they are actions that a man might play : But I haue that Within , which passeth show ; These , but the Trappings , and the Suites of woe King . ' Tis sweet and commendable In your Nature Hamlet , To giue these mourning duties to your Father : But you must know , your Father lost a Father , That Father lost , lost his , and the Suruiuer bound In filiall Obligation , for some terme To do obsequious Sorrow . But to perseuer In obstinate Condolement , is a course Of impious stubbornnesse . ' Tis vnmanly greefe , It shewes a will most incorrect to Heauen , A Heart vnfortified , a Minde impatient , An Vnderstanding simple , and vnschool ' d : For , what we know must be , and is as common As any the most vulgar thing to sence , Why should we in our peeuish Opposition Take it to heart ? Fye , ' tis a fault to Heauen , A fault against the Dead , a fault to Nature , To Reason most absurd , whose common Theame Is death of Fathers , and who still hath cried , From the first Coarse , till he that dyed to day , This must be so . We pray you throw to earth This vnpreuayling woe , and thinke of vs As of a Father ; For let the world take note , You are the most immediate to our Throne , And with no lesse Nobility of Loue , Then that which deerest Father beares his Sonne , Do I impart towards you . For your intent In going backe to Schoole in Wittenberg , It is most retrograde to our desire : And we beseech you , bend you to remaine Heere in the cheere and comfort of our eye , Our cheefest Courtier Cosin , and our Sonne Qu . Let not thy Mother lose her Prayers Hamlet : I prythee stay with vs , go not to Wittenberg Ham . I shall in all my best Obey you Madam King . Why ' tis a louing , and a faire Reply , Be as our selfe in Denmarke . Madam come , This gentle and vnforc ' d accord of Hamlet Sits smiling to my heart ; in grace whereof , No iocond health that Denmarke drinkes to day , But the great Cannon to the Clowds shall tell , And the Kings Rouce , the Heauens shall bruite againe , Respeaking earthly Thunder . Come away . Exeunt . Manet Hamlet . Ham . Oh that this too too solid Flesh , would melt , Thaw , and resolue it selfe into a Dew : Or that the Euerlasting had not fixt His Cannon ' gainst Selfe - slaughter . O God , O God ! How weary , stale , flat , and vnprofitable Seemes to me all the vses of this world ? Fie on ' t ? Oh fie , fie , ' tis an vnweeded Garden That growes to Seed : Things rank , and grosse in Nature Possesse it meerely . That it should come to this : But two months dead : Nay , not so much ; not two , So excellent a King , that was to this Hiperion to a Satyre : so louing to my Mother , That he might not beteene the windes of heauen Visit her face too roughly . Heauen and Earth Must I remember : why she would hang on him , As if encrease of Appetite had growne By what is fed on ; and yet within a month ? Let me not thinke on ' t : Frailty , thy name is woman . A little Month , or ere those shooes were old , With which she followed my poore Fathers body Like Niobe , all teares . Why she , euen she . ( O Heauen ! A beast that wants discourse of Reason Would haue mourn ' d longer ) married with mine Vnkle , My Fathers Brother : but no more like my Father , Then I to Hercules . Within a Moneth ? Ere yet the salt of most vnrighteous Teares Had left the flushing of her gauled eyes , She married . O most wicked speed , to post With such dexterity to Incestuous sheets : It is not , nor it cannot come to good . But breake my heart , for I must hold my tongue . Enter Horatio , Barnardo , and Marcellus . Hor . Haile to your Lordship Ham . I am glad to see you well : Horatio , or I do forget my selfe Hor . The same my Lord , And your poore Seruant euer Ham . Sir my good friend , Ile change that name with you : And what make you from Wittenberg Horatio ? Marcellus Mar . My good Lord Ham . I am very glad to see you : good euen Sir . But what in faith make you from Wittemberge ? Hor . A truant disposition , good my Lord Ham . I would not haue your Enemy say so ; Nor shall you doe mine eare that violence , To make it truster of your owne report Against your selfe . I know you are no Truant : But what is your affaire in Elsenour ? Wee ' l teach you to drinke deepe , ere you depart Hor . My Lord , I came to see your Fathers Funerall Ham . I pray thee doe not mock me ( fellow Student ) I thinke it was to see my Mothers Wedding Hor . Indeed my Lord , it followed hard vpon Ham . Thrift thrift Horatio : the Funerall Bakt - meats Did coldly furnish forth the Marriage Tables ; Would I had met my dearest foe in heauen , Ere I had euer seene that day Horatio . My father , me thinkes I see my father Hor . Oh where my Lord ? Ham . In my minds eye ( Horatio ) Hor . I saw him once ; he was a goodly King Ham . He was a man , take him for all in all : I shall not look vpon his like againe Hor . My Lord , I thinke I saw him yesternight Ham . Saw ? Who ? Hor . My Lord , the King your Father Ham . The King my Father ? Hor . Season your admiration for a while With an attent eare ; till I may deliuer Vpon the witnesse of these Gentlemen , This maruell to you Ham . For Heauens loue let me heare Hor . Two nights together , had these Gentlemen ( Marcellus and Barnardo ) on their Watch In the dead wast and middle of the night Beene thus encountred . A figure like your Father , Arm ' d at all points exactly , Cap a Pe , Appeares before them , and with sollemne march Goes slow and stately : By them thrice he walkt , By their opprest and feare - surprized eyes , Within his Truncheons length ; whilst they bestil ' d Almost to Ielly with the Act of feare , Stand dumbe and speake not to him . This to me In dreadfull secrecie impart they did , And I with them the third Night kept the Watch , Whereas they had deliuer ' d both in time , Forme of the thing ; each word made true and good , The Apparition comes . I knew your Father : These hands are not more like Ham . But where was this ? Mar . My Lord vpon the platforme where we watcht Ham . Did you not speake to it ? Hor . My Lord , I did ; But answere made it none : yet once me thought It lifted vp it head , and did addresse It selfe to motion , like as it would speake : But euen then , the Morning Cocke crew lowd ; And at the sound it shrunke in hast away , And vanisht from our sight Ham . Tis very strange Hor . As I doe liue my honourd Lord ' tis true ; And we did thinke it writ downe in our duty To let you know of it Ham . Indeed , indeed Sirs ; but this troubles me . Hold you the watch to Night ? Both . We doe my Lord Ham . Arm ' d , say you ? Both . Arm ' d , my Lord Ham . From top to toe ? Both . My Lord , from head to foote Ham . Then saw you not his face ? Hor . O yes , my Lord , he wore his Beauer vp Ham . What , lookt he frowningly ? Hor . A countenance more in sorrow then in anger Ham . Pale , or red ? Hor . Nay very pale Ham . And fixt his eyes vpon you ? Hor . Most constantly Ham . I would I had beene there Hor . It would haue much amaz ' d you Ham . Very like , very like : staid it long ? Hor . While one with moderate hast might tell a hundred All . Longer , longer Hor . Not when I saw ' t Ham . His Beard was grisly ? no Hor . It was , as I haue seene it in his life , A Sable Siluer ' d Ham . Ile watch to Night ; perchance ' twill wake againe Hor . I warrant you it will Ham . If it assume my noble Fathers person , Ile speake to it , though Hell it selfe should gape And bid me hold my peace . I pray you all , If you haue hitherto conceald this sight ; Let it bee treble in your silence still : And whatsoeuer els shall hap to night , Giue it an vnderstanding but no tongue ; I will requite your loues ; so fare ye well : Vpon the Platforme twixt eleuen and twelue , Ile visit you All . Our duty to your Honour . Exeunt Ham . Your loue , as mine to you : farewell . My Fathers Spirit in Armes ? All is not well : I doubt some foule play : would the Night were come ; Till then sit still my soule ; foule deeds will rise , Though all the earth orewhelm them to mens eies . Enter . Scena Tertia Enter Laertes and Ophelia . Laer . My necessaries are imbark ' t ; Farewell : And Sister , as the Winds giue Benefit , And Conuoy is assistant ; doe not sleepe , But let me heare from you Ophel . Doe you doubt that ? Laer . For Hamlet , and the trifling of his fauours , Hold it a fashion and a toy in Bloude ; A Violet in the youth of Primy Nature ; Froward , not permanent ; sweet not lasting The suppliance of a minute ? No more Ophel . No more but so Laer . Thinke it no more : For nature cressant does not grow alone , In thewes and Bulke : but as his Temple waxes , The inward seruice of the Minde and Soule Growes wide withall . Perhaps he loues you now , And now no soyle nor cautell doth besmerch The vertue of his feare : but you must feare His greatnesse weigh ' d , his will is not his owne ; For hee himselfe is subiect to his Birth : Hee may not , as vnuallued persons doe , Carue for himselfe ; for , on his choyce depends The sanctity and health of the whole State . And therefore must his choyce be circumscrib ' d Vnto the voyce and yeelding of that Body , Whereof he is the Head . Then if he sayes he loues you , It fits your wisedome so farre to beleeue it ; As he in his peculiar Sect and force May giue his saying deed : which is no further , Then the maine voyce of Denmarke goes withall . Then weight what losse your Honour may sustaine , If with too credent eare you list his Songs ; Or lose your Heart ; or your chast Treasure open To his vnmastred importunity . Feare it Ophelia , feare it my deare Sister , And keepe within the reare of your Affection ; Out of the shot and danger of Desire . The chariest Maid is Prodigall enough , If she vnmaske her beauty to the Moone : Vertue it selfe scapes not calumnious stroakes , The Canker Galls , the Infants of the Spring Too oft before the buttons be disclos ' d , And in the Morne and liquid dew of Youth , Contagious blastments are most imminent . Be wary then , best safety lies in feare ; Youth to it selfe rebels , though none else neere Ophe . I shall th ' effect of this good Lesson keepe , As watchmen to my heart : but good my Brother Doe not as some vngracious Pastors doe , Shew me the steepe and thorny way to Heauen ; Whilst like a puft and recklesse Libertine Himselfe , the Primrose path of dalliance treads , And reaks not his owne reade Laer . Oh , feare me not . Enter Polonius . I stay too long ; but here my Father comes : A double blessing is a double grace ; Occasion smiles vpon a second leaue Polon . Yet heere Laertes ? Aboord , aboord for shame , The winde sits in the shoulder of your saile , And you are staid for there : my blessing with you ; And these few Precepts in thy memory , See thou Character . Giue thy thoughts no tongue , Nor any vnproportion ' d thoughts his Act : Be thou familiar ; but by no meanes vulgar : The friends thou hast , and their adoption tride , Grapple them to thy Soule , with hoopes of Steele : But doe not dull thy palme , with entertainment Of each vnhatch ' t , vnfledg ' d Comrade . Beware Of entrance to a quarrell : but being in Bear ' t that th ' opposed may beware of thee . Giue euery man thine eare ; but few thy voyce : Take each mans censure ; but reserue thy iudgement : Costly thy habit as thy purse can buy ; But not exprest in fancie ; rich , not gawdie : For the Apparell oft proclaimes the man . And they in France of the best ranck and station , Are of a most select and generous cheff in that . Neither a borrower , nor a lender be ; For lone oft loses both it selfe and friend : And borrowing duls the edge of Husbandry . This aboue all ; to thine owne selfe be true : And it must follow , as the Night the Day , Thou canst not then be false to any man . Farewell : my Blessing season this in thee Laer . Most humbly doe I take my leaue , my Lord Polon . The time inuites you , goe , your seruants tend Laer . Farewell Ophelia , and remember well What I haue said to you Ophe . Tis in my memory lockt , And you your selfe shall keepe the key of it Laer . Farewell . Exit Laer . Polon . What ist Ophelia he hath said to you ? Ophe . So please you , somthing touching the L [ ord ]. Hamlet Polon . Marry , well bethought : Tis told me he hath very oft of late Giuen priuate time to you ; and you your selfe Haue of your audience beene most free and bounteous . If it be so , as so tis put on me ; And that in way of caution : I must tell you , You doe not vnderstand your selfe so cleerely , As it behoues my Daughter , and your Honour . What is betweene you , giue me vp the truth ? Ophe . He hath my Lord of late , made many tenders Of his affection to me Polon . Affection , puh . You speake like a greene Girle , Vnsifted in such perillous Circumstance . Doe you beleeue his tenders , as you call them ? Ophe . I do not know , my Lord , what I should thinke Polon . Marry Ile teach you ; thinke your selfe a Baby , That you haue tane his tenders for true pay , Which are not starling . Tender your selfe more dearly ; Or not to crack the winde of the poore Phrase , Roaming it thus , you ' l tender me a foole Ophe . My Lord , he hath importun ' d me with loue , In honourable fashion Polon . I , fashion you may call it , go too , go too Ophe . And hath giuen countenance to his speech , My Lord , with all the vowes of Heauen Polon . I , Springes to catch Woodcocks . I doe know When the Bloud burnes , how Prodigall the Soule Giues the tongue vowes : these blazes , Daughter , Giuing more light then heate ; extinct in both , Euen in their promise , as it is a making ; You must not take for fire . For this time Daughter , Be somewhat scanter of your Maiden presence ; Set your entreatments at a higher rate , Then a command to parley . For Lord Hamlet , Beleeue so much in him , that he is young , And with a larger tether may he walke , Then may be giuen you . In few , Ophelia , Doe not beleeue his vowes ; for they are Broakers , Not of the eye , which their Inuestments show : But meere implorators of vnholy Sutes , Breathing like sanctified and pious bonds , The better to beguile . This is for all : I would not , in plaine tearmes , from this time forth , Haue you so slander any moment leisure , As to giue words or talke with the Lord Hamlet : Looke too ' t , I charge you ; come your wayes Ophe . I shall obey my Lord . Exeunt . Enter Hamlet , Horatio , Marcellus . Ham . The Ayre bites shrewdly : is it very cold ? Hor . It is a nipping and an eager ayre Ham . What hower now ? Hor . I thinke it lacks of twelue Mar . No , it is strooke Hor . Indeed I heard it not : then it drawes neere the season , Wherein the Spirit held his wont to walke . What does this meane my Lord ? Ham . The King doth wake to night , and takes his rouse , Keepes wassels and the swaggering vpspring reeles , And as he dreines his draughts of Renish downe , The kettle Drum and Trumpet thus bray out The triumph of his Pledge Horat . Is it a custome ? Ham . I marry ist ; And to my mind , though I am natiue heere , And to the manner borne : It is a Custome More honour ' d in the breach , then the obseruance . Enter Ghost . Hor . Looke my Lord , it comes Ham . Angels and Ministers of Grace defend vs : Be thou a Spirit of health , or Goblin damn ' d , Bring with thee ayres from Heauen , or blasts from Hell , Be thy euents wicked or charitable , Thou com ' st in such a questionable shape That I will speake to thee . Ile call thee Hamlet , King , Father , Royall Dane : Oh , oh , answer me , Let me not burst in Ignorance ; but tell Why thy Canoniz ' d bones Hearsed in death , Haue burst their cerments , why the Sepulcher Wherein we saw thee quietly enurn ' d , Hath op ' d his ponderous and Marble iawes , To cast thee vp againe ? What may this meane ? That thou dead Coarse againe in compleat steele , Reuisits thus the glimpses of the Moone , Making Night hidious ? And we fooles of Nature , So horridly to shake our disposition , With thoughts beyond thee ; reaches of our Soules , Say , why is this ? wherefore ? what should we doe ? Ghost beckens Hamlet . Hor . It beckons you to goe away with it , As if it some impartment did desire To you alone Mar . Looke with what courteous action It wafts you to a more remoued ground : But doe not goe with it Hor . No , by no meanes Ham . It will not speake : then will I follow it Hor . Doe not my Lord Ham . Why , what should be the feare ? I doe not set my life at a pins fee ; And for my Soule , what can it doe to that ? Being a thing immortall as it selfe : It waues me forth againe ; Ile follow it Hor . What if it tempt you toward the Floud my Lord ? Or to the dreadfull Sonnet of the Cliffe , That beetles o ' re his base into the Sea , And there assumes some other horrible forme , Which might depriue your Soueraignty of Reason , And draw you into madnesse thinke of it ? Ham . It wafts me still : goe on , Ile follow thee Mar . You shall not goe my Lord Ham . Hold off your hand Hor . Be rul ' d , you shall not goe Ham . My fate cries out , And makes each petty Artire in this body , As hardy as the Nemian Lions nerue : Still am I cal ' d ? Vnhand me Gentlemen : By Heau ' n , Ile make a Ghost of him that lets me : I say away , goe on , Ile follow thee . Exeunt . Ghost & Hamlet . Hor . He waxes desperate with imagination Mar . Let ' s follow ; ' tis not fit thus to obey him Hor . Haue after , to what issue will this come ? Mar . Something is rotten in the State of Denmarke Hor . Heauen will direct it Mar . Nay , let ' s follow him . Exeunt . Enter Ghost and Hamlet . Ham . Where wilt thou lead me ? speak ; Ile go no further Gho . Marke me Ham . I will Gho . My hower is almost come , When I to sulphurous and tormenting Flames Must render vp my selfe Ham . Alas poore Ghost Gho . Pitty me not , but lend thy serious hearing To what I shall vnfold Ham . Speake , I am bound to heare Gho . So art thou to reuenge , when thou shalt heare Ham . What ? Gho . I am thy Fathers Spirit , Doom ' d for a certaine terme to walke the night ; And for the day confin ' d to fast in Fiers , Till the foule crimes done in my dayes of Nature Are burnt and purg ' d away ? But that I am forbid To tell the secrets of my Prison - House ; I could a Tale vnfold , whose lightest word Would harrow vp thy soule , freeze thy young blood , Make thy two eyes like Starres , start from their Spheres , Thy knotty and combined lockes to part , And each particular haire to stand an end , Like Quilles vpon the fretfull Porpentine : But this eternall blason must not be To eares of flesh and bloud ; list Hamlet , oh list , If thou didst euer thy deare Father loue Ham . Oh Heauen ! Gho . Reuenge his foule and most vnnaturall Murther Ham . Murther ? Ghost . Murther most foule , as in the best it is ; But this most foule , strange , and vnnaturall Ham . Hast , hast me to know it , That with wings as swift As meditation , or the thoughts of Loue , May sweepe to my Reuenge Ghost . I finde thee apt , And duller should ' st thou be then the fat weede That rots it selfe in ease , on Lethe Wharfe , Would ' st thou not stirre in this . Now Hamlet heare : It ' s giuen out , that sleeping in mine Orchard , A Serpent stung me : so the whole eare of Denmarke , Is by a forged processe of my death Rankly abus ' d : But know thou Noble youth , The Serpent that did sting thy Fathers life , Now weares his Crowne Ham . O my Propheticke soule : mine Vncle ? Ghost . I that incestuous , that adulterate Beast With witchcraft of his wits , hath Traitorous guifts . Oh wicked Wit , and Gifts , that haue the power So to seduce ? Won to this shamefull Lust The will of my most seeming vertuous Queene : Oh Hamlet , what a falling off was there , From me , whose loue was of that dignity , That it went hand in hand , euen with the Vow I made to her in Marriage ; and to decline Vpon a wretch , whose Naturall gifts were poore To those of mine . But Vertue , as it neuer wil be moued , Though Lewdnesse court it in a shape of Heauen : So Lust , though to a radiant Angell link ' d , Will sate it selfe in a Celestiall bed , & prey on Garbage . But soft , me thinkes I sent the Mornings Ayre ; Briefe let me be : Sleeping within mine Orchard , My custome alwayes in the afternoone ; Vpon my secure hower thy Vncle stole With iuyce of cursed Hebenon in a Violl , And in the Porches of mine eares did poure The leaperous Distilment ; whose effect Holds such an enmity with bloud of Man , That swift as Quick - siluer , it courses through The naturall Gates and Allies of the body ; And with a sodaine vigour it doth posset And curd , like Aygre droppings into Milke , The thin and wholsome blood : so did it mine ; And a most instant Tetter bak ' d about , Most Lazar - like , with vile and loathsome crust , All my smooth Body . Thus was I , sleeping , by a Brothers hand , Of Life , of Crowne , and Queene at once dispatcht ; Cut off euen in the Blossomes of my Sinne , Vnhouzzled , disappointed , vnnaneld , No reckoning made , but sent to my account With all my imperfections on my head ; Oh horrible Oh horrible , most horrible : If thou hast nature in thee beare it not ; Let not the Royall Bed of Denmarke be A Couch for Luxury and damned Incest . But howsoeuer thou pursuest this Act , Taint not thy mind ; nor let thy Soule contriue Against thy Mother ought ; leaue her to heauen , And to those Thornes that in her bosome lodge , To pricke and sting her . Fare thee well at once ; The Glow - worme showes the Matine to be neere , And gins to pale his vneffectuall Fire : Adue , adue , Hamlet : remember me . Enter . Ham . Oh all you host of Heauen ! Oh Earth ; what els ? And shall I couple Hell ? Oh fie : hold my heart ; And you my sinnewes , grow not instant Old ; But beare me stiffely vp : Remember thee ? I , thou poore Ghost , while memory holds a seate In this distracted Globe : Remember thee ? Yea , from the Table of my Memory , Ile wipe away all triuiall fond Records , All sawes of Bookes , all formes , all presures past , That youth and obseruation coppied there ; And thy Commandment all alone shall liue Within the Booke and Volume of my Braine , Vnmixt with baser matter ; yes yes , by Heauen : Oh most pernicious woman ! Oh Villaine , Villaine , smiling damned Villaine ! My Tables , my Tables ; meet it is I set it downe , That one may smile , and smile and be a Villaine ; At least I ' m sure it may be so in Denmarke ; So Vnckle there you are : now to my word ; It is ; Adue , Adue , Remember me : I haue sworn ' t Hor . & Mar . within . My Lord , my Lord . Enter Horatio and Marcellus . Mar . Lord Hamlet Hor . Heauen secure him Mar . So be it Hor . Illo , ho , ho , my Lord Ham . Hillo , ho , ho , boy ; come bird , come Mar . How ist my Noble Lord ? Hor . What newes , my Lord ? Ham . Oh wonderfull ! Hor . Good my Lord tell it Ham . No you ' l reueale it Hor . Not I , my Lord , by Heauen Mar . Nor I , my Lord Ham . How say you then , would heart of man once think it ? But you ' l be secret ? Both . I , by Heau ' n , my Lord Ham . There ' s nere a villaine dwelling in all Denmarke But hee ' s an arrant knaue Hor . There needs no Ghost my Lord , come from the Graue , to tell vs this Ham . Why right , you are i ' th ' right ; And so , without more circumstance at all , I hold it fit that we shake hands , and part : You , as your busines and desires shall point you : For euery man ha ' s businesse and desire , Such as it is : and for mine owne poore part , Looke you , Ile goe pray Hor . These are but wild and hurling words , my Lord Ham . I ' m sorry they offend you heartily : Yes faith , heartily Hor . There ' s no offence my Lord Ham . Yes , by Saint Patricke , but there is my Lord , And much offence too , touching this Vision heere : It is an honest Ghost , that let me tell you : For your desire to know what is betweene vs , O ' remaster ' t as you may . And now good friends , As you are Friends , Schollers and Soldiers , Giue me one poore request Hor . What is ' t my Lord ? we will Ham . Neuer make known what you haue seen to night Both . My Lord , we will not Ham . Nay , but swear ' t Hor . Infaith my Lord , not I Mar . Nor I my Lord : in faith Ham . Vpon my sword Marcell . We haue sworne my Lord already Ham . Indeed , vpon my sword , Indeed Gho . Sweare . Ghost cries vnder the Stage . Ham . Ah ha boy , sayest thou so . Art thou there truepenny ? Come one you here this fellow in the selleredge Consent to sweare Hor . Propose the Oath my Lord Ham . Neuer to speake of this that you haue seene . Sweare by my sword Gho . Sweare Ham . Hic & vbique ? Then wee ' l shift for grownd , Come hither Gentlemen , And lay your hands againe vpon my sword , Neuer to speake of this that you haue heard : Sweare by my Sword Gho . Sweare Ham . Well said old Mole , can ' st worke i ' th ' ground so fast ? A worthy Pioner , once more remoue good friends Hor . Oh day and night : but this is wondrous strange Ham . And therefore as a stranger giue it welcome . There are more things in Heauen and Earth , Horatio , Then are dream ' t of in our Philosophy . But come , Here as before , neuer so helpe you mercy , How strange or odde so ere I beare my selfe ; ( As I perchance heereafter shall thinke meet To put an Anticke disposition on :) That you at such time seeing me , neuer shall With Armes encombred thus , or thus , head shake ; Or by pronouncing of some doubtfull Phrase ; As well , we know , or we could and if we would , Or if we list to speake ; or there be and if there might , Or such ambiguous giuing out to note , That you know ought of me ; this not to doe : So grace and mercy at your most neede helpe you : Sweare Ghost . Sweare Ham . Rest , rest perturbed Spirit : so Gentlemen , With all my loue I doe commend me to you ; And what so poore a man as Hamlet is , May doe t ' expresse his loue and friending to you , God willing shall not lacke : let vs goe in together , And still your fingers on your lippes I pray , The time is out of ioynt : Oh cursed spight , That euer I was borne to set it right . Nay , come let ' s goe together . Exeunt .\""
      ]
     },
     "execution_count": 326,
     "metadata": {},
     "output_type": "execute_result"
    }
   ],
   "source": [
    "hamlet_1_str"
   ]
  },
  {
   "cell_type": "code",
   "execution_count": 328,
   "metadata": {
    "scrolled": true
   },
   "outputs": [
    {
     "data": {
      "text/plain": [
       "TfidfVectorizer(analyzer='word', binary=False, decode_error='strict',\n",
       "        dtype=<class 'numpy.float64'>, encoding='utf-8', input='content',\n",
       "        lowercase=True, max_df=0.5, max_features=None, min_df=2,\n",
       "        ngram_range=(1, 1), norm='l2', preprocessor=None, smooth_idf=True,\n",
       "        stop_words='english', strip_accents=None, sublinear_tf=False,\n",
       "        token_pattern='(?u)\\\\b\\\\w\\\\w+\\\\b', tokenizer=None, use_idf=True,\n",
       "        vocabulary=None)"
      ]
     },
     "execution_count": 328,
     "metadata": {},
     "output_type": "execute_result"
    }
   ],
   "source": [
    "from sklearn.feature_extraction.text import TfidfVectorizer\n",
    "\n",
    "# setting the parameters of our tf-idf vectorizer\n",
    "vectorizer = TfidfVectorizer(max_df=0.5, # drop words that occur in more than half the acts\n",
    "                             min_df=2, # only use words that appear at least twice\n",
    "                             stop_words='english', \n",
    "                             lowercase=True, #convert everything to lower case \n",
    "                             use_idf=True,#we definitely want to use inverse document frequencies in our weighting\n",
    "                             norm=u'l2', #Applies a correction factor so that longer paragraphs and shorter paragraphs get treated equally\n",
    "                             smooth_idf=True #Adds 1 to all document frequencies, as if an extra document existed that used every word once.  Prevents divide-by-zero errors\n",
    "                            )\n",
    "\n",
    "# fitting the vectorizer to the 5 acts of hamlet:\n",
    "# we are choosing our features (terms) based on what would be best for determing which act a word is from.\n",
    "# what would be \"best\" is determined by our parameter choices of TfidfVectorizer.\n",
    "vectorizer.fit(hamlet_list_acts_as_str)"
   ]
  },
  {
   "cell_type": "code",
   "execution_count": 329,
   "metadata": {},
   "outputs": [
    {
     "name": "stdout",
     "output_type": "stream",
     "text": [
      "['aboord', 'absurd', 'accent', 'accident', 'acte', 'actor', 'acts', 'actus', 'admiration', 'admit', 'adue', 'aduice', 'affaire', 'affection', 'affliction', 'ah', 'ake', 'alacke', 'allowance', 'aloofe', 'alwayes', 'ambassadors', 'ambition', 'angell', 'anticke', 'ape', 'appear', 'appeare', 'apprehension', 'apt', 'argument', 'arm', 'armour', 'arrant', 'arrowes', 'asking', 'assay', 'asse', 'assistant', 'assur', 'assurance', 'auoyd', 'author', 'awake', 'awe', 'axe', 'baby', 'bak', 'baser', 'beasts', 'begger', 'begins', 'beguile', 'bell', 'bend', 'bene', 'birth', 'blast', 'blesse', 'bloody', 'bloud', 'blow', 'blowes', 'bodie', 'bore', 'boy', 'braue', 'breathing', 'breed', 'breeding', 'briefe', 'bruite', 'bulke', 'buriall', 'buried', 'burne', 'burning', 'burst', 'byrlady', 'caesar', 'cal', 'cals', 'canker', 'cannon', 'canst', 'capitall', 'catch', 'caught', 'cease', 'celestiall', 'censure', 'chance', 'character', 'charitable', 'chast', 'cheefe', 'cheere', 'cheerefully', 'childe', 'choyce', 'church', 'close', 'clouds', 'clowne', 'clownes', 'coarse', 'cocke', 'coldly', 'collected', 'collection', 'com', 'comedie', 'commend', 'complexion', 'confine', 'confound', 'coniure', 'consent', 'consequence', 'consider', 'contagion', 'content', 'contriue', 'conuert', 'cornelius', 'cosin', 'cost', 'couch', 'counsell', 'countries', 'country', 'courtier', 'courtiers', 'crack', 'craft', 'creature', 'cried', 'crosse', 'cut', 'dane', 'dar', 'deede', 'defence', 'defend', 'delay', 'delight', 'delights', 'demand', 'demands', 'denmark', 'depends', 'diadem', 'die', 'diet', 'dignity', 'disclos', 'discourse', 'dismall', 'dispatch', 'distemper', 'distraction', 'diuel', 'diuinity', 'dogge', 'doing', 'doomesday', 'doores', 'doubtfull', 'doue', 'dozen', 'drawes', 'dreadfull', 'dreames', 'drinkes', 'drown', 'drowne', 'duty', 'easinesse', 'eate', 'edge', 'effects', 'election', 'em', 'ends', 'ene', 'enemies', 'enemy', 'enterprize', 'entertainment', 'envenom', 'epitaph', 'equall', 'escape', 'estate', 'eternall', 'excellence', 'expell', 'extasie', 'faces', 'faithfull', 'falles', 'falling', 'falne', 'fault', 'fauours', 'feast', 'fee', 'feede', 'fellowship', 'fetch', 'fie', 'fiery', 'fighting', 'findes', 'finding', 'finger', 'fits', 'fixt', 'flame', 'flaming', 'flowers', 'flye', 'foe', 'fond', 'fooles', 'foot', 'forbid', 'forc', 'formes', 'fortunes', 'foure', 'frankely', 'friendship', 'fro', 'fye', 'galls', 'gaming', 'garden', 'gate', 'gather', 'gent', 'ghost', 'gifts', 'giuing', 'glow', 'going', 'golden', 'gonzago', 'goodly', 'got', 'graces', 'grapple', 'grasse', 'greene', 'greeue', 'griefe', 'grownd', 'guil', 'guildenstern', 'guilt', 'guts', 'habite', 'haire', 'happily', 'happy', 'hard', 'harsh', 'haste', 'hat', 'hauing', 'health', 'hearers', 'heares', 'hearts', 'heauenly', 'heerein', 'held', 'hew', 'hey', 'hitherto', 'hits', 'honestie', 'honourable', 'horrid', 'horridly', 'houre', 'houres', 'houses', 'husband', 'husbands', 'iaw', 'ice', 'idle', 'iealousie', 'iest', 'ifaith', 'ignorant', 'iigge', 'impart', 'imperiall', 'importing', 'imports', 'inclination', 'infaith', 'infinite', 'instrument', 'intent', 'intreat', 'inward', 'ioyes', 'ioyne', 'issue', 'ist', 'iudgements', 'iustly', 'kettle', 'kill', 'killes', 'kissing', 'knauish', 'knees', 'labour', 'laide', 'land', 'lands', 'larded', 'lasting', 'laying', 'lest', 'letter', 'letters', 'leuies', 'liberall', 'liberty', 'liege', 'lights', 'likely', 'lines', 'list', 'liued', 'liuing', 'lobby', 'locke', 'lookt', 'louing', 'lowd', 'lyes', 'magots', 'maiden', 'maids', 'maiesticall', 'maiesties', 'maine', 'maker', 'malicious', 'mark', 'married', 'mars', 'masse', 'match', 'meerely', 'meet', 'meete', 'meeting', 'melancholly', 'melt', 'ment', 'merit', 'mettle', 'middle', 'mighty', 'minds', 'mirth', 'mischance', 'mistris', 'moment', 'moneth', 'motion', 'mount', 'mountaines', 'mouse', 'muddy', 'mutes', 'nation', 'natures', 'ne', 'needfull', 'neerer', 'nephewes', 'nights', 'noise', 'norman', 'norwey', 'nose', 'noyse', 'oath', 'obligation', 'obseruance', 'obserue', 'occasion', 'occasions', 'odde', 'offended', 'ones', 'open', 'opinions', 'opposition', 'order', 'outward', 'painted', 'paire', 'palme', 'particular', 'passage', 'passing', 'passionate', 'pastime', 'pate', 'pay', 'peculiar', 'peepe', 'persons', 'pesant', 'pestilent', 'picture', 'pious', 'pit', 'pith', 'pitty', 'plac', 'plague', 'player', 'players', 'pleas', 'pleasure', 'pluck', 'pluckes', 'points', 'pole', 'potent', 'practice', 'precepts', 'precious', 'pregnant', 'preuent', 'prince', 'prison', 'prisoner', 'proclaime', 'proclaimes', 'profound', 'promise', 'pronounc', 'proper', 'property', 'prophesie', 'propose', 'proue', 'prouidence', 'puh', 'pure', 'purging', 'purposes', 'purse', 'pursue', 'quantitie', 'quite', 'ranke', 'rapier', 'rapiers', 'rash', 'rat', 'read', 'reade', 'readie', 'rebellious', 'receiu', 'remaines', 'remoue', 'rend', 'renish', 'repaire', 'reply', 'reueng', 'rewards', 'rich', 'richer', 'rise', 'rises', 'rogue', 'roome', 'rose', 'rosincrane', 'rotten', 'roughly', 'rouse', 'royall', 'rub', 'rude', 'rul', 'run', 'sable', 'safely', 'saluation', 'sate', 'scale', 'scape', 'scena', 'schollers', 'scoene', 'scourge', 'seale', 'seas', 'secrecie', 'secunda', 'seeing', 'seekes', 'seen', 'send', 'sending', 'sends', 'senselesse', 'sensible', 'seru', 'seruants', 'serues', 'shapes', 'shee', 'ship', 'shooes', 'shot', 'shuffling', 'sicknesse', 'sides', 'signifie', 'single', 'sinne', 'sinnes', 'sits', 'slaue', 'slaughter', 'sleeping', 'slow', 'smiling', 'smooth', 'snow', 'soldier', 'solemne', 'somthing', 'songs', 'sooner', 'sore', 'sorry', 'sourse', 'speakes', 'spoke', 'spoken', 'sport', 'spred', 'spurnes', 'staid', 'stands', 'station', 'steele', 'story', 'strew', 'stronger', 'succession', 'suck', 'suffer', 'suite', 'suppresse', 'sweare', 'swearing', 'sweete', 'sworne', 'taken', 'tale', 'talke', 'tearmes', 'tedious', 'teeth', 'tender', 'theame', 'thither', 'thrift', 'throat', 'throate', 'throwne', 'thunder', 'toe', 'tongues', 'tooke', 'toy', 'trade', 'traile', 'translate', 'treacherous', 'treasure', 'tree', 'tremble', 'tribute', 'tricke', 'troubles', 'trumpet', 'try', 'tune', 'turne', 'twill', 'twixt', 'ue', 'valiant', 'vantage', 'variable', 'venome', 'verie', 'vice', 'vilde', 'violets', 'visit', 'visitation', 'vnckle', 'vnction', 'vnderstanding', 'vnlesse', 'vnseene', 'voice', 'volt', 'vow', 'voyage', 'wag', 'wager', 'wait', 'walkes', 'wants', 'warlike', 'warre', 'wary', 'water', 'weake', 'weary', 'wed', 'weeds', 'weigh', 'wel', 'wherefore', 'whil', 'whilst', 'whips', 'wholsome', 'wild', 'wilde', 'willing', 'willingly', 'windes', 'wings', 'wipe', 'wisely', 'wisest', 'wish', 'witchcraft', 'wonderfull', 'wondrous', 'wonted', 'wormes', 'worse', 'wouldest', 'wretched', 'yeare']\n",
      "669\n"
     ]
    }
   ],
   "source": [
    "# what are the names of our features and how many do we have?\n",
    "print(vectorizer.get_feature_names())\n",
    "print(len(vectorizer.get_feature_names()))"
   ]
  },
  {
   "cell_type": "code",
   "execution_count": 330,
   "metadata": {},
   "outputs": [],
   "source": [
    "# use those features to determine the tf-idf elements of our array where each row represents a paragraph\n",
    "X = vectorizer.transform(para_df['para_str'])"
   ]
  },
  {
   "cell_type": "code",
   "execution_count": 331,
   "metadata": {},
   "outputs": [
    {
     "name": "stdout",
     "output_type": "stream",
     "text": [
      "(949, 669)\n"
     ]
    }
   ],
   "source": [
    "# determing the shape of the vectorizer's output\n",
    "print(X.shape)"
   ]
  },
  {
   "cell_type": "code",
   "execution_count": 339,
   "metadata": {},
   "outputs": [],
   "source": [
    "# creating a pandas data frame of our vectorizers output\n",
    "# we will add a column containing the act the paragarph is from and a column giving the paragraph\n",
    "df_tf_idf = pd.DataFrame(X.toarray())\n",
    "df_tf_idf['act_number'] = list(para_df['act_number'])\n",
    "df_tf_idf.columns = vectorizer.get_feature_names() + ['act_number']\n",
    "df_tf_idf['text_para'] = list(para_df['para_str'])"
   ]
  },
  {
   "cell_type": "code",
   "execution_count": 340,
   "metadata": {},
   "outputs": [
    {
     "data": {
      "text/html": [
       "<div>\n",
       "<style scoped>\n",
       "    .dataframe tbody tr th:only-of-type {\n",
       "        vertical-align: middle;\n",
       "    }\n",
       "\n",
       "    .dataframe tbody tr th {\n",
       "        vertical-align: top;\n",
       "    }\n",
       "\n",
       "    .dataframe thead th {\n",
       "        text-align: right;\n",
       "    }\n",
       "</style>\n",
       "<table border=\"1\" class=\"dataframe\">\n",
       "  <thead>\n",
       "    <tr style=\"text-align: right;\">\n",
       "      <th></th>\n",
       "      <th>aboord</th>\n",
       "      <th>absurd</th>\n",
       "      <th>accent</th>\n",
       "      <th>accident</th>\n",
       "      <th>acte</th>\n",
       "      <th>actor</th>\n",
       "      <th>acts</th>\n",
       "      <th>actus</th>\n",
       "      <th>admiration</th>\n",
       "      <th>admit</th>\n",
       "      <th>...</th>\n",
       "      <th>wonderfull</th>\n",
       "      <th>wondrous</th>\n",
       "      <th>wonted</th>\n",
       "      <th>wormes</th>\n",
       "      <th>worse</th>\n",
       "      <th>wouldest</th>\n",
       "      <th>wretched</th>\n",
       "      <th>yeare</th>\n",
       "      <th>act_number</th>\n",
       "      <th>text_para</th>\n",
       "    </tr>\n",
       "  </thead>\n",
       "  <tbody>\n",
       "    <tr>\n",
       "      <th>0</th>\n",
       "      <td>0.0</td>\n",
       "      <td>0.0</td>\n",
       "      <td>0.0</td>\n",
       "      <td>0.0</td>\n",
       "      <td>0.0</td>\n",
       "      <td>0.0</td>\n",
       "      <td>0.0</td>\n",
       "      <td>1.0</td>\n",
       "      <td>0.0</td>\n",
       "      <td>0.0</td>\n",
       "      <td>...</td>\n",
       "      <td>0.0</td>\n",
       "      <td>0.0</td>\n",
       "      <td>0.0</td>\n",
       "      <td>0.0</td>\n",
       "      <td>0.0</td>\n",
       "      <td>0.0</td>\n",
       "      <td>0.0</td>\n",
       "      <td>0.0</td>\n",
       "      <td>1</td>\n",
       "      <td>Actus Primus . Scoena Prima .</td>\n",
       "    </tr>\n",
       "    <tr>\n",
       "      <th>1</th>\n",
       "      <td>0.0</td>\n",
       "      <td>0.0</td>\n",
       "      <td>0.0</td>\n",
       "      <td>0.0</td>\n",
       "      <td>0.0</td>\n",
       "      <td>0.0</td>\n",
       "      <td>0.0</td>\n",
       "      <td>0.0</td>\n",
       "      <td>0.0</td>\n",
       "      <td>0.0</td>\n",
       "      <td>...</td>\n",
       "      <td>0.0</td>\n",
       "      <td>0.0</td>\n",
       "      <td>0.0</td>\n",
       "      <td>0.0</td>\n",
       "      <td>0.0</td>\n",
       "      <td>0.0</td>\n",
       "      <td>0.0</td>\n",
       "      <td>0.0</td>\n",
       "      <td>1</td>\n",
       "      <td>Enter Barnardo and Francisco two Centinels .</td>\n",
       "    </tr>\n",
       "    <tr>\n",
       "      <th>2</th>\n",
       "      <td>0.0</td>\n",
       "      <td>0.0</td>\n",
       "      <td>0.0</td>\n",
       "      <td>0.0</td>\n",
       "      <td>0.0</td>\n",
       "      <td>0.0</td>\n",
       "      <td>0.0</td>\n",
       "      <td>0.0</td>\n",
       "      <td>0.0</td>\n",
       "      <td>0.0</td>\n",
       "      <td>...</td>\n",
       "      <td>0.0</td>\n",
       "      <td>0.0</td>\n",
       "      <td>0.0</td>\n",
       "      <td>0.0</td>\n",
       "      <td>0.0</td>\n",
       "      <td>0.0</td>\n",
       "      <td>0.0</td>\n",
       "      <td>0.0</td>\n",
       "      <td>1</td>\n",
       "      <td>Barnardo . Who ' s there ? Fran . Nay answer m...</td>\n",
       "    </tr>\n",
       "    <tr>\n",
       "      <th>3</th>\n",
       "      <td>0.0</td>\n",
       "      <td>0.0</td>\n",
       "      <td>0.0</td>\n",
       "      <td>0.0</td>\n",
       "      <td>0.0</td>\n",
       "      <td>0.0</td>\n",
       "      <td>0.0</td>\n",
       "      <td>0.0</td>\n",
       "      <td>0.0</td>\n",
       "      <td>0.0</td>\n",
       "      <td>...</td>\n",
       "      <td>0.0</td>\n",
       "      <td>0.0</td>\n",
       "      <td>0.0</td>\n",
       "      <td>0.0</td>\n",
       "      <td>0.0</td>\n",
       "      <td>0.0</td>\n",
       "      <td>0.0</td>\n",
       "      <td>0.0</td>\n",
       "      <td>1</td>\n",
       "      <td>Bar . Long liue the King</td>\n",
       "    </tr>\n",
       "    <tr>\n",
       "      <th>4</th>\n",
       "      <td>0.0</td>\n",
       "      <td>0.0</td>\n",
       "      <td>0.0</td>\n",
       "      <td>0.0</td>\n",
       "      <td>0.0</td>\n",
       "      <td>0.0</td>\n",
       "      <td>0.0</td>\n",
       "      <td>0.0</td>\n",
       "      <td>0.0</td>\n",
       "      <td>0.0</td>\n",
       "      <td>...</td>\n",
       "      <td>0.0</td>\n",
       "      <td>0.0</td>\n",
       "      <td>0.0</td>\n",
       "      <td>0.0</td>\n",
       "      <td>0.0</td>\n",
       "      <td>0.0</td>\n",
       "      <td>0.0</td>\n",
       "      <td>0.0</td>\n",
       "      <td>1</td>\n",
       "      <td>Fran . Barnardo ? Bar . He</td>\n",
       "    </tr>\n",
       "  </tbody>\n",
       "</table>\n",
       "<p>5 rows × 671 columns</p>\n",
       "</div>"
      ],
      "text/plain": [
       "   aboord  absurd  accent  accident  acte  actor  acts  actus  admiration  \\\n",
       "0     0.0     0.0     0.0       0.0   0.0    0.0   0.0    1.0         0.0   \n",
       "1     0.0     0.0     0.0       0.0   0.0    0.0   0.0    0.0         0.0   \n",
       "2     0.0     0.0     0.0       0.0   0.0    0.0   0.0    0.0         0.0   \n",
       "3     0.0     0.0     0.0       0.0   0.0    0.0   0.0    0.0         0.0   \n",
       "4     0.0     0.0     0.0       0.0   0.0    0.0   0.0    0.0         0.0   \n",
       "\n",
       "   admit  ...  wonderfull  wondrous  wonted  wormes  worse  wouldest  \\\n",
       "0    0.0  ...         0.0       0.0     0.0     0.0    0.0       0.0   \n",
       "1    0.0  ...         0.0       0.0     0.0     0.0    0.0       0.0   \n",
       "2    0.0  ...         0.0       0.0     0.0     0.0    0.0       0.0   \n",
       "3    0.0  ...         0.0       0.0     0.0     0.0    0.0       0.0   \n",
       "4    0.0  ...         0.0       0.0     0.0     0.0    0.0       0.0   \n",
       "\n",
       "   wretched  yeare  act_number  \\\n",
       "0       0.0    0.0           1   \n",
       "1       0.0    0.0           1   \n",
       "2       0.0    0.0           1   \n",
       "3       0.0    0.0           1   \n",
       "4       0.0    0.0           1   \n",
       "\n",
       "                                           text_para  \n",
       "0                      Actus Primus . Scoena Prima .  \n",
       "1       Enter Barnardo and Francisco two Centinels .  \n",
       "2  Barnardo . Who ' s there ? Fran . Nay answer m...  \n",
       "3                           Bar . Long liue the King  \n",
       "4                         Fran . Barnardo ? Bar . He  \n",
       "\n",
       "[5 rows x 671 columns]"
      ]
     },
     "execution_count": 340,
     "metadata": {},
     "output_type": "execute_result"
    }
   ],
   "source": [
    "df_tf_idf.head()"
   ]
  },
  {
   "cell_type": "markdown",
   "metadata": {},
   "source": [
    "## Applying the three classifiers to determine which is best"
   ]
  },
  {
   "cell_type": "code",
   "execution_count": 341,
   "metadata": {},
   "outputs": [
    {
     "name": "stdout",
     "output_type": "stream",
     "text": [
      "The Cross Validation Mean is 0.26979 +/_ 0.0062\n"
     ]
    }
   ],
   "source": [
    "from sklearn import ensemble\n",
    "from sklearn.model_selection import cross_val_score\n",
    "\n",
    "rfc = ensemble.RandomForestClassifier(n_estimators=100)\n",
    "Y = df_tf_idf['act_number']\n",
    "X = np.array(df_tf_idf.drop(['text_para','act_number'], 1))\n",
    "\n",
    "cvs = cross_val_score(rfc, X, Y, cv=5)\n",
    "print('The Cross Validation Mean is {} +/_ {}'.format(round(np.mean(cvs),5), round(np.std(cvs)/np.sqrt(len(cvs)),5)))\n"
   ]
  },
  {
   "cell_type": "code",
   "execution_count": 342,
   "metadata": {},
   "outputs": [
    {
     "name": "stdout",
     "output_type": "stream",
     "text": [
      "The Cross Validation Mean is 0.27192 +/_ 0.00624\n"
     ]
    }
   ],
   "source": [
    "from sklearn import ensemble\n",
    "from sklearn.model_selection import cross_val_score\n",
    "\n",
    "# using updated default parameters (this gets rid of the warnings announcing the changing default parameters)\n",
    "# I'm also fine with using the updated defaults for a first attempt\n",
    "lr = LogisticRegression(penalty='l2', solver='lbfgs', multi_class='auto')\n",
    "Y = df_tf_idf['act_number']\n",
    "X = np.array(df_tf_idf.drop(['text_para','act_number'], 1))\n",
    "\n",
    "cvs = cross_val_score(lr, X, Y, cv=5)\n",
    "print('The Cross Validation Mean is {} +/_ {}'.format(round(np.mean(cvs),5), round(np.std(cvs)/np.sqrt(len(cvs)),5)))\n"
   ]
  },
  {
   "cell_type": "code",
   "execution_count": 343,
   "metadata": {},
   "outputs": [
    {
     "name": "stdout",
     "output_type": "stream",
     "text": [
      "The Cross Validation Mean is 0.25596 +/_ 0.0154\n"
     ]
    }
   ],
   "source": [
    "from sklearn import ensemble\n",
    "from sklearn.model_selection import cross_val_score\n",
    "\n",
    "gbc = ensemble.GradientBoostingClassifier()\n",
    "Y = df_tf_idf['act_number']\n",
    "X = np.array(df_tf_idf.drop(['text_para','act_number'], 1))\n",
    "\n",
    "cvs = cross_val_score(gbc, X, Y, cv=5)\n",
    "print('The Cross Validation Mean is {} +/_ {}'.format(round(np.mean(cvs),5), round(np.std(cvs)/np.sqrt(len(cvs)),5)))"
   ]
  },
  {
   "cell_type": "markdown",
   "metadata": {},
   "source": [
    "The classifier which outputs the highest cross validation score is again logistic regression. However, our score is much lower that it was for our bag of words features. Let's try to improve our model by changing the tfidfvecotrizers parameters.\n",
    "\n",
    "## Improving tf-idf model\n",
    "\n",
    "This round, we will have our features be terms that are found in two three or four of the acts. We will disregard terms that appear in just one or all of the acts. Note that last round we ultimately only considered terms that were in two of the acts. That was likely not a good choice. "
   ]
  },
  {
   "cell_type": "code",
   "execution_count": 346,
   "metadata": {},
   "outputs": [
    {
     "data": {
      "text/plain": [
       "TfidfVectorizer(analyzer='word', binary=False, decode_error='strict',\n",
       "        dtype=<class 'numpy.float64'>, encoding='utf-8', input='content',\n",
       "        lowercase=True, max_df=4, max_features=None, min_df=2,\n",
       "        ngram_range=(1, 1), norm='l2', preprocessor=None, smooth_idf=True,\n",
       "        stop_words='english', strip_accents=None, sublinear_tf=False,\n",
       "        token_pattern='(?u)\\\\b\\\\w\\\\w+\\\\b', tokenizer=None, use_idf=True,\n",
       "        vocabulary=None)"
      ]
     },
     "execution_count": 346,
     "metadata": {},
     "output_type": "execute_result"
    }
   ],
   "source": [
    "from sklearn.feature_extraction.text import TfidfVectorizer\n",
    "\n",
    "# setting the parameters of our tf-idf vectorizer\n",
    "vectorizer = TfidfVectorizer(max_df=4, # drop words that occur in all five acts\n",
    "                             min_df=2, # only use words that appear at least twice\n",
    "                             stop_words='english', \n",
    "                             lowercase=True, #convert everything to lower case \n",
    "                             use_idf=True,#we definitely want to use inverse document frequencies in our weighting\n",
    "                             norm=u'l2', #Applies a correction factor so that longer paragraphs and shorter paragraphs get treated equally\n",
    "                             smooth_idf=True #Adds 1 to all document frequencies, as if an extra document existed that used every word once.  Prevents divide-by-zero errors\n",
    "                            )\n",
    "\n",
    "# fitting the vectorizer to the 5 acts of hamlet:\n",
    "# we are choosing our features (terms) based on what would be best for determing which act a word is from.\n",
    "# what would be \"best\" is determined by our parameter choices of TfidfVectorizer.\n",
    "vectorizer.fit(hamlet_list_acts_as_str)"
   ]
  },
  {
   "cell_type": "code",
   "execution_count": 347,
   "metadata": {},
   "outputs": [],
   "source": [
    "# use those features to determine the tf-idf elements of our array where each row represents a paragraph\n",
    "X = vectorizer.transform(para_df['para_str'])"
   ]
  },
  {
   "cell_type": "code",
   "execution_count": 348,
   "metadata": {},
   "outputs": [],
   "source": [
    "# creating a pandas data frame of our vectorizers output\n",
    "# we will add a column containing the act the paragarph is from and a column giving the paragraph\n",
    "df_tf_idf = pd.DataFrame(X.toarray())\n",
    "df_tf_idf['act_number'] = list(para_df['act_number'])\n",
    "df_tf_idf.columns = vectorizer.get_feature_names() + ['act_number']\n",
    "df_tf_idf['text_para'] = list(para_df['para_str'])"
   ]
  },
  {
   "cell_type": "code",
   "execution_count": 349,
   "metadata": {},
   "outputs": [
    {
     "data": {
      "text/html": [
       "<div>\n",
       "<style scoped>\n",
       "    .dataframe tbody tr th:only-of-type {\n",
       "        vertical-align: middle;\n",
       "    }\n",
       "\n",
       "    .dataframe tbody tr th {\n",
       "        vertical-align: top;\n",
       "    }\n",
       "\n",
       "    .dataframe thead th {\n",
       "        text-align: right;\n",
       "    }\n",
       "</style>\n",
       "<table border=\"1\" class=\"dataframe\">\n",
       "  <thead>\n",
       "    <tr style=\"text-align: right;\">\n",
       "      <th></th>\n",
       "      <th>aboord</th>\n",
       "      <th>aboue</th>\n",
       "      <th>absurd</th>\n",
       "      <th>accent</th>\n",
       "      <th>accident</th>\n",
       "      <th>act</th>\n",
       "      <th>acte</th>\n",
       "      <th>action</th>\n",
       "      <th>actor</th>\n",
       "      <th>acts</th>\n",
       "      <th>...</th>\n",
       "      <th>wretch</th>\n",
       "      <th>wretched</th>\n",
       "      <th>wrong</th>\n",
       "      <th>yea</th>\n",
       "      <th>yeare</th>\n",
       "      <th>yong</th>\n",
       "      <th>young</th>\n",
       "      <th>youth</th>\n",
       "      <th>act_number</th>\n",
       "      <th>text_para</th>\n",
       "    </tr>\n",
       "  </thead>\n",
       "  <tbody>\n",
       "    <tr>\n",
       "      <th>0</th>\n",
       "      <td>0.0</td>\n",
       "      <td>0.0</td>\n",
       "      <td>0.0</td>\n",
       "      <td>0.0</td>\n",
       "      <td>0.0</td>\n",
       "      <td>0.0</td>\n",
       "      <td>0.0</td>\n",
       "      <td>0.0</td>\n",
       "      <td>0.0</td>\n",
       "      <td>0.0</td>\n",
       "      <td>...</td>\n",
       "      <td>0.0</td>\n",
       "      <td>0.0</td>\n",
       "      <td>0.0</td>\n",
       "      <td>0.0</td>\n",
       "      <td>0.0</td>\n",
       "      <td>0.0</td>\n",
       "      <td>0.0</td>\n",
       "      <td>0.0</td>\n",
       "      <td>1</td>\n",
       "      <td>Actus Primus . Scoena Prima .</td>\n",
       "    </tr>\n",
       "    <tr>\n",
       "      <th>1</th>\n",
       "      <td>0.0</td>\n",
       "      <td>0.0</td>\n",
       "      <td>0.0</td>\n",
       "      <td>0.0</td>\n",
       "      <td>0.0</td>\n",
       "      <td>0.0</td>\n",
       "      <td>0.0</td>\n",
       "      <td>0.0</td>\n",
       "      <td>0.0</td>\n",
       "      <td>0.0</td>\n",
       "      <td>...</td>\n",
       "      <td>0.0</td>\n",
       "      <td>0.0</td>\n",
       "      <td>0.0</td>\n",
       "      <td>0.0</td>\n",
       "      <td>0.0</td>\n",
       "      <td>0.0</td>\n",
       "      <td>0.0</td>\n",
       "      <td>0.0</td>\n",
       "      <td>1</td>\n",
       "      <td>Enter Barnardo and Francisco two Centinels .</td>\n",
       "    </tr>\n",
       "    <tr>\n",
       "      <th>2</th>\n",
       "      <td>0.0</td>\n",
       "      <td>0.0</td>\n",
       "      <td>0.0</td>\n",
       "      <td>0.0</td>\n",
       "      <td>0.0</td>\n",
       "      <td>0.0</td>\n",
       "      <td>0.0</td>\n",
       "      <td>0.0</td>\n",
       "      <td>0.0</td>\n",
       "      <td>0.0</td>\n",
       "      <td>...</td>\n",
       "      <td>0.0</td>\n",
       "      <td>0.0</td>\n",
       "      <td>0.0</td>\n",
       "      <td>0.0</td>\n",
       "      <td>0.0</td>\n",
       "      <td>0.0</td>\n",
       "      <td>0.0</td>\n",
       "      <td>0.0</td>\n",
       "      <td>1</td>\n",
       "      <td>Barnardo . Who ' s there ? Fran . Nay answer m...</td>\n",
       "    </tr>\n",
       "    <tr>\n",
       "      <th>3</th>\n",
       "      <td>0.0</td>\n",
       "      <td>0.0</td>\n",
       "      <td>0.0</td>\n",
       "      <td>0.0</td>\n",
       "      <td>0.0</td>\n",
       "      <td>0.0</td>\n",
       "      <td>0.0</td>\n",
       "      <td>0.0</td>\n",
       "      <td>0.0</td>\n",
       "      <td>0.0</td>\n",
       "      <td>...</td>\n",
       "      <td>0.0</td>\n",
       "      <td>0.0</td>\n",
       "      <td>0.0</td>\n",
       "      <td>0.0</td>\n",
       "      <td>0.0</td>\n",
       "      <td>0.0</td>\n",
       "      <td>0.0</td>\n",
       "      <td>0.0</td>\n",
       "      <td>1</td>\n",
       "      <td>Bar . Long liue the King</td>\n",
       "    </tr>\n",
       "    <tr>\n",
       "      <th>4</th>\n",
       "      <td>0.0</td>\n",
       "      <td>0.0</td>\n",
       "      <td>0.0</td>\n",
       "      <td>0.0</td>\n",
       "      <td>0.0</td>\n",
       "      <td>0.0</td>\n",
       "      <td>0.0</td>\n",
       "      <td>0.0</td>\n",
       "      <td>0.0</td>\n",
       "      <td>0.0</td>\n",
       "      <td>...</td>\n",
       "      <td>0.0</td>\n",
       "      <td>0.0</td>\n",
       "      <td>0.0</td>\n",
       "      <td>0.0</td>\n",
       "      <td>0.0</td>\n",
       "      <td>0.0</td>\n",
       "      <td>0.0</td>\n",
       "      <td>0.0</td>\n",
       "      <td>1</td>\n",
       "      <td>Fran . Barnardo ? Bar . He</td>\n",
       "    </tr>\n",
       "  </tbody>\n",
       "</table>\n",
       "<p>5 rows × 1203 columns</p>\n",
       "</div>"
      ],
      "text/plain": [
       "   aboord  aboue  absurd  accent  accident  act  acte  action  actor  acts  \\\n",
       "0     0.0    0.0     0.0     0.0       0.0  0.0   0.0     0.0    0.0   0.0   \n",
       "1     0.0    0.0     0.0     0.0       0.0  0.0   0.0     0.0    0.0   0.0   \n",
       "2     0.0    0.0     0.0     0.0       0.0  0.0   0.0     0.0    0.0   0.0   \n",
       "3     0.0    0.0     0.0     0.0       0.0  0.0   0.0     0.0    0.0   0.0   \n",
       "4     0.0    0.0     0.0     0.0       0.0  0.0   0.0     0.0    0.0   0.0   \n",
       "\n",
       "   ...  wretch  wretched  wrong  yea  yeare  yong  young  youth  act_number  \\\n",
       "0  ...     0.0       0.0    0.0  0.0    0.0   0.0    0.0    0.0           1   \n",
       "1  ...     0.0       0.0    0.0  0.0    0.0   0.0    0.0    0.0           1   \n",
       "2  ...     0.0       0.0    0.0  0.0    0.0   0.0    0.0    0.0           1   \n",
       "3  ...     0.0       0.0    0.0  0.0    0.0   0.0    0.0    0.0           1   \n",
       "4  ...     0.0       0.0    0.0  0.0    0.0   0.0    0.0    0.0           1   \n",
       "\n",
       "                                           text_para  \n",
       "0                      Actus Primus . Scoena Prima .  \n",
       "1       Enter Barnardo and Francisco two Centinels .  \n",
       "2  Barnardo . Who ' s there ? Fran . Nay answer m...  \n",
       "3                           Bar . Long liue the King  \n",
       "4                         Fran . Barnardo ? Bar . He  \n",
       "\n",
       "[5 rows x 1203 columns]"
      ]
     },
     "execution_count": 349,
     "metadata": {},
     "output_type": "execute_result"
    }
   ],
   "source": [
    "df_tf_idf.head()"
   ]
  },
  {
   "cell_type": "markdown",
   "metadata": {},
   "source": [
    "## Applying the three classifiers to determine which is best"
   ]
  },
  {
   "cell_type": "code",
   "execution_count": 350,
   "metadata": {},
   "outputs": [
    {
     "name": "stdout",
     "output_type": "stream",
     "text": [
      "The Cross Validation Mean is 0.39563 +/_ 0.02425\n"
     ]
    }
   ],
   "source": [
    "from sklearn import ensemble\n",
    "from sklearn.model_selection import cross_val_score\n",
    "\n",
    "rfc = ensemble.RandomForestClassifier(n_estimators=100)\n",
    "Y = df_tf_idf['act_number']\n",
    "X = np.array(df_tf_idf.drop(['text_para','act_number'], 1))\n",
    "\n",
    "cvs = cross_val_score(rfc, X, Y, cv=5)\n",
    "print('The Cross Validation Mean is {} +/_ {}'.format(round(np.mean(cvs),5), round(np.std(cvs)/np.sqrt(len(cvs)),5)))\n"
   ]
  },
  {
   "cell_type": "code",
   "execution_count": 351,
   "metadata": {},
   "outputs": [
    {
     "name": "stdout",
     "output_type": "stream",
     "text": [
      "The Cross Validation Mean is 0.37239 +/_ 0.02255\n"
     ]
    }
   ],
   "source": [
    "from sklearn import ensemble\n",
    "from sklearn.model_selection import cross_val_score\n",
    "\n",
    "# using updated default parameters (this gets rid of the warnings announcing the changing default parameters)\n",
    "# I'm also fine with using the updated defaults for a first attempt\n",
    "lr = LogisticRegression(penalty='l2', solver='lbfgs', multi_class='auto')\n",
    "Y = df_tf_idf['act_number']\n",
    "X = np.array(df_tf_idf.drop(['text_para','act_number'], 1))\n",
    "\n",
    "cvs = cross_val_score(lr, X, Y, cv=5)\n",
    "print('The Cross Validation Mean is {} +/_ {}'.format(round(np.mean(cvs),5), round(np.std(cvs)/np.sqrt(len(cvs)),5)))\n"
   ]
  },
  {
   "cell_type": "code",
   "execution_count": 352,
   "metadata": {},
   "outputs": [
    {
     "name": "stdout",
     "output_type": "stream",
     "text": [
      "The Cross Validation Mean is 0.33356 +/_ 0.02858\n"
     ]
    }
   ],
   "source": [
    "from sklearn import ensemble\n",
    "from sklearn.model_selection import cross_val_score\n",
    "\n",
    "gbc = ensemble.GradientBoostingClassifier()\n",
    "Y = df_tf_idf['act_number']\n",
    "X = np.array(df_tf_idf.drop(['text_para','act_number'], 1))\n",
    "\n",
    "cvs = cross_val_score(gbc, X, Y, cv=5)\n",
    "print('The Cross Validation Mean is {} +/_ {}'.format(round(np.mean(cvs),5), round(np.std(cvs)/np.sqrt(len(cvs)),5)))"
   ]
  },
  {
   "cell_type": "markdown",
   "metadata": {},
   "source": [
    "### Improvement Results\n",
    "\n",
    "Great. This improved our cross validation scores significantly. They are still really poor however... Our best classifier is the random forest classifier. We have improved our tf-idf score by 12%. "
   ]
  },
  {
   "cell_type": "markdown",
   "metadata": {},
   "source": [
    "# Conclusion and Future Thoughts\n",
    "\n",
    "Our best model is a logistic regression classifier that acts on our bag of words features. Our cross validation score for that winning model is 45.11% +/_ 1.02%. It is proving to be difficult to determin which act a paragraph of *Hamlet* is from. I was hoping that the story arch would make this task achievable. An act with a dark, depressing theme likely have words that reflect that mood, while a cheerful act may have words that reflect that tone. \n",
    "\n",
    "While the five acts only have roughly 200 paragraphs each to work with, there is likely a lot for improvement here. One could use another form of feature selection. Perhaps employing Latent Semantic Analysis would be helpful. We have such a large list of features that we could likely benifit from feature reduction. Perhaps including punctuation could have been helpful. Maybe some acts have more '!' than others. We could have used parts of speech, paragraph length, or maybe dialog length per paragraph (this is a play after all). We could see how many individuals speak per paragraph. There is are tons of ideas to try here. One of them could lead us to a cross validation score significantly greater than what we have found. I am hopeful that that is the case. "
   ]
  },
  {
   "cell_type": "code",
   "execution_count": 311,
   "metadata": {},
   "outputs": [],
   "source": [
    "vect = TfidfVectorizer()\n",
    "\n",
    "xxx = vect.fit_transform(['hi how are you ?', 'bye how is you ?'])"
   ]
  },
  {
   "cell_type": "code",
   "execution_count": 312,
   "metadata": {},
   "outputs": [],
   "source": [
    "dfxxx = pd.DataFrame(xxx.toarray())"
   ]
  },
  {
   "cell_type": "code",
   "execution_count": 313,
   "metadata": {},
   "outputs": [],
   "source": [
    "dfxxx.columns = vect.get_feature_names()"
   ]
  },
  {
   "cell_type": "code",
   "execution_count": 270,
   "metadata": {},
   "outputs": [
    {
     "data": {
      "text/html": [
       "<div>\n",
       "<style scoped>\n",
       "    .dataframe tbody tr th:only-of-type {\n",
       "        vertical-align: middle;\n",
       "    }\n",
       "\n",
       "    .dataframe tbody tr th {\n",
       "        vertical-align: top;\n",
       "    }\n",
       "\n",
       "    .dataframe thead th {\n",
       "        text-align: right;\n",
       "    }\n",
       "</style>\n",
       "<table border=\"1\" class=\"dataframe\">\n",
       "  <thead>\n",
       "    <tr style=\"text-align: right;\">\n",
       "      <th></th>\n",
       "      <th>are</th>\n",
       "      <th>bye</th>\n",
       "      <th>hi</th>\n",
       "      <th>how</th>\n",
       "      <th>is</th>\n",
       "      <th>you</th>\n",
       "    </tr>\n",
       "  </thead>\n",
       "  <tbody>\n",
       "    <tr>\n",
       "      <th>0</th>\n",
       "      <td>0.576152</td>\n",
       "      <td>0.000000</td>\n",
       "      <td>0.576152</td>\n",
       "      <td>0.409937</td>\n",
       "      <td>0.000000</td>\n",
       "      <td>0.409937</td>\n",
       "    </tr>\n",
       "    <tr>\n",
       "      <th>1</th>\n",
       "      <td>0.000000</td>\n",
       "      <td>0.576152</td>\n",
       "      <td>0.000000</td>\n",
       "      <td>0.409937</td>\n",
       "      <td>0.576152</td>\n",
       "      <td>0.409937</td>\n",
       "    </tr>\n",
       "  </tbody>\n",
       "</table>\n",
       "</div>"
      ],
      "text/plain": [
       "        are       bye        hi       how        is       you\n",
       "0  0.576152  0.000000  0.576152  0.409937  0.000000  0.409937\n",
       "1  0.000000  0.576152  0.000000  0.409937  0.576152  0.409937"
      ]
     },
     "execution_count": 270,
     "metadata": {},
     "output_type": "execute_result"
    }
   ],
   "source": [
    "dfxxx"
   ]
  },
  {
   "cell_type": "code",
   "execution_count": 271,
   "metadata": {},
   "outputs": [],
   "source": [
    "yyy = vect.transform(['good day you', 'are you hi ?', 'are you not still hi ?'])"
   ]
  },
  {
   "cell_type": "code",
   "execution_count": 272,
   "metadata": {},
   "outputs": [],
   "source": [
    "dfyyy = pd.DataFrame(yyy.toarray())\n",
    "dfyyy.columns = vect.get_feature_names()"
   ]
  },
  {
   "cell_type": "code",
   "execution_count": 273,
   "metadata": {},
   "outputs": [
    {
     "data": {
      "text/html": [
       "<div>\n",
       "<style scoped>\n",
       "    .dataframe tbody tr th:only-of-type {\n",
       "        vertical-align: middle;\n",
       "    }\n",
       "\n",
       "    .dataframe tbody tr th {\n",
       "        vertical-align: top;\n",
       "    }\n",
       "\n",
       "    .dataframe thead th {\n",
       "        text-align: right;\n",
       "    }\n",
       "</style>\n",
       "<table border=\"1\" class=\"dataframe\">\n",
       "  <thead>\n",
       "    <tr style=\"text-align: right;\">\n",
       "      <th></th>\n",
       "      <th>are</th>\n",
       "      <th>bye</th>\n",
       "      <th>hi</th>\n",
       "      <th>how</th>\n",
       "      <th>is</th>\n",
       "      <th>you</th>\n",
       "    </tr>\n",
       "  </thead>\n",
       "  <tbody>\n",
       "    <tr>\n",
       "      <th>0</th>\n",
       "      <td>0.000000</td>\n",
       "      <td>0.0</td>\n",
       "      <td>0.000000</td>\n",
       "      <td>0.0</td>\n",
       "      <td>0.0</td>\n",
       "      <td>1.000000</td>\n",
       "    </tr>\n",
       "    <tr>\n",
       "      <th>1</th>\n",
       "      <td>0.631667</td>\n",
       "      <td>0.0</td>\n",
       "      <td>0.631667</td>\n",
       "      <td>0.0</td>\n",
       "      <td>0.0</td>\n",
       "      <td>0.449436</td>\n",
       "    </tr>\n",
       "    <tr>\n",
       "      <th>2</th>\n",
       "      <td>0.631667</td>\n",
       "      <td>0.0</td>\n",
       "      <td>0.631667</td>\n",
       "      <td>0.0</td>\n",
       "      <td>0.0</td>\n",
       "      <td>0.449436</td>\n",
       "    </tr>\n",
       "  </tbody>\n",
       "</table>\n",
       "</div>"
      ],
      "text/plain": [
       "        are  bye        hi  how   is       you\n",
       "0  0.000000  0.0  0.000000  0.0  0.0  1.000000\n",
       "1  0.631667  0.0  0.631667  0.0  0.0  0.449436\n",
       "2  0.631667  0.0  0.631667  0.0  0.0  0.449436"
      ]
     },
     "execution_count": 273,
     "metadata": {},
     "output_type": "execute_result"
    }
   ],
   "source": [
    "dfyyy"
   ]
  },
  {
   "cell_type": "code",
   "execution_count": 274,
   "metadata": {},
   "outputs": [
    {
     "data": {
      "text/plain": [
       "0.9999968613340744"
      ]
     },
     "execution_count": 274,
     "metadata": {},
     "output_type": "execute_result"
    }
   ],
   "source": [
    "np.sqrt(0.631667**2 + 0.631667**2 + 0.44943**2)"
   ]
  },
  {
   "cell_type": "code",
   "execution_count": null,
   "metadata": {},
   "outputs": [],
   "source": []
  }
 ],
 "metadata": {
  "kernelspec": {
   "display_name": "Python 3",
   "language": "python",
   "name": "python3"
  },
  "language_info": {
   "codemirror_mode": {
    "name": "ipython",
    "version": 3
   },
   "file_extension": ".py",
   "mimetype": "text/x-python",
   "name": "python",
   "nbconvert_exporter": "python",
   "pygments_lexer": "ipython3",
   "version": "3.7.2"
  }
 },
 "nbformat": 4,
 "nbformat_minor": 2
}
