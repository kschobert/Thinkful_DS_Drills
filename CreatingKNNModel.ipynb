{
 "cells": [
  {
   "cell_type": "markdown",
   "metadata": {},
   "source": [
    "# Creating KNN Model from Scratch -- Kristofer Schobert\n",
    "\n",
    "Here, I have created a KNN Model from scratch. The functions takes in three inputs: a two-dimentional training dataframe with known output values (a dataframe with a total of three columns), the number of nearest neighbors to concider, and a test_point we are seeking to catagorize. "
   ]
  },
  {
   "cell_type": "code",
   "execution_count": 1,
   "metadata": {},
   "outputs": [],
   "source": [
    "import numpy as np\n",
    "import pandas as pd\n",
    "import matplotlib.pyplot as plt\n",
    "import scipy\n",
    "%matplotlib inline"
   ]
  },
  {
   "cell_type": "code",
   "execution_count": 235,
   "metadata": {},
   "outputs": [],
   "source": [
    "df = pd.DataFrame()\n",
    "#data we were given\n",
    "duration = [184, 134, 243, 186, 122, 197, 294, 382, 102, 264, \n",
    "                     205, 110, 307, 110, 397, 153, 190, 192, 210, 403,\n",
    "                     164, 198, 204, 253, 234, 190, 182, 401, 376, 102]\n",
    "#data we were given\n",
    "loudness = [18, 34, 43, 36, 22, 9, 29, 22, 10, 24, \n",
    "                     20, 10, 17, 51, 7, 13, 19, 12, 21, 22,\n",
    "                     16, 18, 4, 23, 34, 19, 14, 11, 37, 42]\n",
    "#data we were given\n",
    "jazz = [1, 0, 0, 0, 1, 1, 0, 1, 1, 0,\n",
    "                  0, 1, 1, 0, 1, 1, 0, 1, 1, 1,\n",
    "                  1, 1, 1, 1, 0, 0, 1, 1, 0, 0]\n",
    "\n",
    "#false data to make sure my code works with strings as catagories and having more than two catagories\n",
    "genre = ['rock','rock','rock','rock','rock','rock','rock','rock','rock','rock',\n",
    "         'rock','rock','blues','blues','blues','blues','blues','blues','blues','blues',\n",
    "         'hip-hop','hip-hop','hip-hop','hip-hop','hip-hop','hip-hop','hip-hop','hip-hop','hip-hop','hip-hop']\n",
    "                  \n",
    "\n",
    "\n",
    "\n",
    "df['x2'] = loudness\n",
    "\n",
    "df['x1'] = duration\n",
    "\n",
    "df['y'] = genre"
   ]
  },
  {
   "cell_type": "code",
   "execution_count": 236,
   "metadata": {},
   "outputs": [
    {
     "data": {
      "text/html": [
       "<div>\n",
       "<style scoped>\n",
       "    .dataframe tbody tr th:only-of-type {\n",
       "        vertical-align: middle;\n",
       "    }\n",
       "\n",
       "    .dataframe tbody tr th {\n",
       "        vertical-align: top;\n",
       "    }\n",
       "\n",
       "    .dataframe thead th {\n",
       "        text-align: right;\n",
       "    }\n",
       "</style>\n",
       "<table border=\"1\" class=\"dataframe\">\n",
       "  <thead>\n",
       "    <tr style=\"text-align: right;\">\n",
       "      <th></th>\n",
       "      <th>x2</th>\n",
       "      <th>x1</th>\n",
       "      <th>y</th>\n",
       "    </tr>\n",
       "  </thead>\n",
       "  <tbody>\n",
       "    <tr>\n",
       "      <th>0</th>\n",
       "      <td>18</td>\n",
       "      <td>184</td>\n",
       "      <td>rock</td>\n",
       "    </tr>\n",
       "    <tr>\n",
       "      <th>1</th>\n",
       "      <td>34</td>\n",
       "      <td>134</td>\n",
       "      <td>rock</td>\n",
       "    </tr>\n",
       "    <tr>\n",
       "      <th>2</th>\n",
       "      <td>43</td>\n",
       "      <td>243</td>\n",
       "      <td>rock</td>\n",
       "    </tr>\n",
       "    <tr>\n",
       "      <th>3</th>\n",
       "      <td>36</td>\n",
       "      <td>186</td>\n",
       "      <td>rock</td>\n",
       "    </tr>\n",
       "    <tr>\n",
       "      <th>4</th>\n",
       "      <td>22</td>\n",
       "      <td>122</td>\n",
       "      <td>rock</td>\n",
       "    </tr>\n",
       "  </tbody>\n",
       "</table>\n",
       "</div>"
      ],
      "text/plain": [
       "   x2   x1     y\n",
       "0  18  184  rock\n",
       "1  34  134  rock\n",
       "2  43  243  rock\n",
       "3  36  186  rock\n",
       "4  22  122  rock"
      ]
     },
     "execution_count": 236,
     "metadata": {},
     "output_type": "execute_result"
    }
   ],
   "source": [
    "df.head()"
   ]
  },
  {
   "cell_type": "code",
   "execution_count": 237,
   "metadata": {},
   "outputs": [],
   "source": [
    "def KNN(k, df, test_point):\n",
    "    #initialize distance_list which will contain the distance from our test point to all other points\n",
    "    distance_list = []\n",
    "    #looping through the df to create distance_list\n",
    "    for point in df.values:\n",
    "        distance = np.sqrt((test_point[0] - point[0])**2 + (test_point[1] - point[1])**2)\n",
    "        distance_list.append(distance)\n",
    "    #create our own dataframe to work with    \n",
    "    df_test = df.copy()\n",
    "    #make a new column that contains the distance from our test_point to each point in the dataframe\n",
    "    df_test['distance'] = distance_list\n",
    "    #sort the dataframe by distance to test_point\n",
    "    df_test = df_test.sort_values(by=['distance'])\n",
    "    #create a new data from containing only the k closest neighbors\n",
    "    df_closest = df_test.iloc[:k]\n",
    "    #finding the mode of y values for the dataframe containing only the k closest neighbors\n",
    "    closest_ys = df_closest.y.values.tolist()\n",
    "    test_y = max(set(closest_ys), key=closest_ys.count)\n",
    "    #return the mode\n",
    "    return test_y\n",
    "    "
   ]
  },
  {
   "cell_type": "code",
   "execution_count": 240,
   "metadata": {},
   "outputs": [
    {
     "name": "stdout",
     "output_type": "stream",
     "text": [
      "hip-hop\n"
     ]
    }
   ],
   "source": [
    "print(KNN(1, df, [34,45]))"
   ]
  },
  {
   "cell_type": "markdown",
   "metadata": {},
   "source": [
    "# Final Thoughts\n",
    "\n",
    "My code works as expected. It would be fun to create a KNN with works with data that is more than two-dimensional. Also, I am intested to see how to make this computation more efficient."
   ]
  }
 ],
 "metadata": {
  "kernelspec": {
   "display_name": "Python 3",
   "language": "python",
   "name": "python3"
  },
  "language_info": {
   "codemirror_mode": {
    "name": "ipython",
    "version": 3
   },
   "file_extension": ".py",
   "mimetype": "text/x-python",
   "name": "python",
   "nbconvert_exporter": "python",
   "pygments_lexer": "ipython3",
   "version": "3.7.0"
  }
 },
 "nbformat": 4,
 "nbformat_minor": 2
}
