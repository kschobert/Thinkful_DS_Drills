{
 "cells": [
  {
   "cell_type": "markdown",
   "metadata": {},
   "source": [
    "# Validating Crime Data Regression Model -- Kristofer Schobert\n",
    "\n",
    "\n",
    "We have taken the data from the FBI's crime data in New York State in 2013, and Conneticut in 2013.\n",
    "\n",
    "https://ucr.fbi.gov/crime-in-the-u.s/2013/crime-in-the-u.s.-2013/tables/table-8/table-8-state-cuts/table_8_offenses_known_to_law_enforcement_new_york_by_city_2013.xls\n",
    "\n",
    "https://ucr.fbi.gov/crime-in-the-u.s/2013/crime-in-the-u.s.-2013/tables/table-8/table-8-state-cuts/table_8_offenses_known_to_law_enforcement_connecticut_by_city_2013.xls\n",
    "\n",
    "We will examine our model that is trained on New York crime data, make adjustments, and test it on Conneticut's crime data.\n",
    "\n",
    "The suggested regression model is the following:\n",
    "\n",
    "$$property\\_crime = \\alpha + population + population^2 + murder + robbery + motor\\_vehicle\\_theft$$\n",
    "\n",
    "\n",
    "Below is the code that cleans the data and prepares it for this model."
   ]
  },
  {
   "cell_type": "code",
   "execution_count": 270,
   "metadata": {},
   "outputs": [],
   "source": [
    "%matplotlib inline\n",
    "import numpy as np\n",
    "import pandas as pd\n",
    "import scipy\n",
    "import sklearn\n",
    "import matplotlib.pyplot as plt\n",
    "import seaborn as sns\n",
    "import math\n",
    "import warnings\n",
    "from IPython.display import display\n",
    "from sklearn import linear_model\n",
    "import statsmodels.formula.api as smf\n",
    "\n",
    "data_path = 'Crime_2013.csv'\n",
    "df = pd.read_csv(data_path, header=None)\n",
    "\n",
    "#note to self: when cleaning data, be mindful of what you dataframe in needed in the end. \n",
    "#I spent way too much time cleaning data that I was just going to drop.\n",
    "\n",
    "df = df.drop([0,1,2,3])\n",
    "df = df.drop([4, 13], axis=1)\n",
    "df.columns = df.iloc[0]\n",
    "df = df.drop([4])\n",
    "df = df.reset_index()\n",
    "df = df.drop('index', axis=1)\n",
    "df.columns.name = None\n",
    "df = df.drop([348,349,350])\n",
    "\n",
    "#df = df.rename(str.lower, axis='columns')\n",
    "df = df.rename(index=str, columns={'City':'city',\n",
    "                                   'Population':'population',\n",
    "                                   'Violent\\rcrime': \"violent_crime\",\n",
    "                                   'Murder and\\rnonnegligent\\rmanslaughter' : \"murder\",\n",
    "                   'Rape\\r(legacy\\rdefinition)2':'rape',\n",
    "                   'Robbery':'robbery',\n",
    "                   'Aggravated\\rassault':'aggravated_assault',\n",
    "                   'Property\\rcrime':'property_crime',\n",
    "                   'Burglary':'burglary',\n",
    "                   'Larceny-\\rtheft':'larceny',\n",
    "                   'Motor\\rvehicle\\rtheft': 'motor_vehicle_theft',\n",
    "                   'Arson3':'arson'})\n",
    "df = df[['population', 'murder', 'robbery','motor_vehicle_theft', 'property_crime']].copy()"
   ]
  },
  {
   "cell_type": "code",
   "execution_count": 271,
   "metadata": {},
   "outputs": [],
   "source": [
    "for col in ['population', 'murder', 'robbery', 'motor_vehicle_theft', 'property_crime']:\n",
    "    df[col] = pd.to_numeric(df[col].str.replace(',',''))\n"
   ]
  },
  {
   "cell_type": "code",
   "execution_count": 272,
   "metadata": {},
   "outputs": [],
   "source": [
    "\n",
    "df.murder = np.where(df.murder == 0 , 0, 1)\n",
    "df.robbery = np.where(df.robbery == 0, 0, 1)\n",
    "df.motor_vehicle_theft = np.where(df.motor_vehicle_theft <= 8, 0, 1)\n"
   ]
  },
  {
   "cell_type": "markdown",
   "metadata": {},
   "source": [
    "NOTE: If motor vehicle theft is less that or equal to 8 it is given the binary value of 0. It is given the value 1 otherwise. "
   ]
  },
  {
   "cell_type": "code",
   "execution_count": 273,
   "metadata": {},
   "outputs": [],
   "source": [
    "df['population_squared'] = df['population']**2\n",
    "list(df.columns.values)\n",
    "df = df[['property_crime', 'murder', 'robbery', 'motor_vehicle_theft', 'population', 'population_squared']]"
   ]
  },
  {
   "cell_type": "code",
   "execution_count": 274,
   "metadata": {},
   "outputs": [
    {
     "data": {
      "text/html": [
       "<div>\n",
       "<style scoped>\n",
       "    .dataframe tbody tr th:only-of-type {\n",
       "        vertical-align: middle;\n",
       "    }\n",
       "\n",
       "    .dataframe tbody tr th {\n",
       "        vertical-align: top;\n",
       "    }\n",
       "\n",
       "    .dataframe thead th {\n",
       "        text-align: right;\n",
       "    }\n",
       "</style>\n",
       "<table border=\"1\" class=\"dataframe\">\n",
       "  <thead>\n",
       "    <tr style=\"text-align: right;\">\n",
       "      <th></th>\n",
       "      <th>property_crime</th>\n",
       "      <th>murder</th>\n",
       "      <th>robbery</th>\n",
       "      <th>motor_vehicle_theft</th>\n",
       "      <th>population</th>\n",
       "      <th>population_squared</th>\n",
       "    </tr>\n",
       "  </thead>\n",
       "  <tbody>\n",
       "    <tr>\n",
       "      <th>0</th>\n",
       "      <td>12</td>\n",
       "      <td>0</td>\n",
       "      <td>0</td>\n",
       "      <td>0</td>\n",
       "      <td>1861</td>\n",
       "      <td>3463321</td>\n",
       "    </tr>\n",
       "    <tr>\n",
       "      <th>1</th>\n",
       "      <td>24</td>\n",
       "      <td>0</td>\n",
       "      <td>0</td>\n",
       "      <td>0</td>\n",
       "      <td>2577</td>\n",
       "      <td>6640929</td>\n",
       "    </tr>\n",
       "    <tr>\n",
       "      <th>2</th>\n",
       "      <td>16</td>\n",
       "      <td>0</td>\n",
       "      <td>0</td>\n",
       "      <td>0</td>\n",
       "      <td>2846</td>\n",
       "      <td>8099716</td>\n",
       "    </tr>\n",
       "    <tr>\n",
       "      <th>3</th>\n",
       "      <td>4090</td>\n",
       "      <td>1</td>\n",
       "      <td>1</td>\n",
       "      <td>1</td>\n",
       "      <td>97956</td>\n",
       "      <td>9595377936</td>\n",
       "    </tr>\n",
       "    <tr>\n",
       "      <th>4</th>\n",
       "      <td>223</td>\n",
       "      <td>0</td>\n",
       "      <td>1</td>\n",
       "      <td>0</td>\n",
       "      <td>6388</td>\n",
       "      <td>40806544</td>\n",
       "    </tr>\n",
       "  </tbody>\n",
       "</table>\n",
       "</div>"
      ],
      "text/plain": [
       "   property_crime  murder  robbery  motor_vehicle_theft  population  \\\n",
       "0              12       0        0                    0        1861   \n",
       "1              24       0        0                    0        2577   \n",
       "2              16       0        0                    0        2846   \n",
       "3            4090       1        1                    1       97956   \n",
       "4             223       0        1                    0        6388   \n",
       "\n",
       "   population_squared  \n",
       "0             3463321  \n",
       "1             6640929  \n",
       "2             8099716  \n",
       "3          9595377936  \n",
       "4            40806544  "
      ]
     },
     "execution_count": 274,
     "metadata": {},
     "output_type": "execute_result"
    }
   ],
   "source": [
    "df.head()"
   ]
  },
  {
   "cell_type": "code",
   "execution_count": 275,
   "metadata": {},
   "outputs": [
    {
     "name": "stdout",
     "output_type": "stream",
     "text": [
      "\n",
      "Coefficients: \n",
      " [ 3.57347433e-02 -2.23804032e-09  6.45235818e+01 -6.93717408e+01\n",
      " -1.71045535e+02]\n",
      "\n",
      "Intercept: \n",
      " -113.61522428558021\n",
      "\n",
      "R-squared:\n",
      "0.996170504189666\n"
     ]
    }
   ],
   "source": [
    "# Instantiate and fit our model.\n",
    "regr = linear_model.LinearRegression()\n",
    "Y = df['property_crime']\n",
    "X = df[['population','population_squared','murder','robbery', 'motor_vehicle_theft']]\n",
    "regr.fit(X, Y)\n",
    "\n",
    "# Inspect the results.\n",
    "print('\\nCoefficients: \\n', regr.coef_)\n",
    "print('\\nIntercept: \\n', regr.intercept_)\n",
    "print('\\nR-squared:')\n",
    "print(regr.score(X, Y))\n"
   ]
  },
  {
   "cell_type": "code",
   "execution_count": 276,
   "metadata": {},
   "outputs": [],
   "source": [
    "predicted = regr.predict(X).ravel()\n",
    "actual = Y\n",
    "# Calculate the error, also called the residual.\n",
    "residual = actual - predicted\n",
    "\n",
    "\n",
    "#removing outlier\n",
    "max(predicted)\n",
    "for index, value in enumerate(predicted):\n",
    "    if value == max(predicted):\n",
    "        outlier_index = index\n",
    "# df_no_outlier = df.drop([216], axis=0)\n",
    "df_no_outlier = df.drop(index='216')"
   ]
  },
  {
   "cell_type": "code",
   "execution_count": 277,
   "metadata": {},
   "outputs": [
    {
     "data": {
      "text/html": [
       "<div>\n",
       "<style scoped>\n",
       "    .dataframe tbody tr th:only-of-type {\n",
       "        vertical-align: middle;\n",
       "    }\n",
       "\n",
       "    .dataframe tbody tr th {\n",
       "        vertical-align: top;\n",
       "    }\n",
       "\n",
       "    .dataframe thead th {\n",
       "        text-align: right;\n",
       "    }\n",
       "</style>\n",
       "<table border=\"1\" class=\"dataframe\">\n",
       "  <thead>\n",
       "    <tr style=\"text-align: right;\">\n",
       "      <th></th>\n",
       "      <th>property_crime</th>\n",
       "      <th>murder</th>\n",
       "      <th>robbery</th>\n",
       "      <th>motor_vehicle_theft</th>\n",
       "      <th>population</th>\n",
       "      <th>population_squared</th>\n",
       "    </tr>\n",
       "  </thead>\n",
       "  <tbody>\n",
       "    <tr>\n",
       "      <th>0</th>\n",
       "      <td>12</td>\n",
       "      <td>0</td>\n",
       "      <td>0</td>\n",
       "      <td>0</td>\n",
       "      <td>1861</td>\n",
       "      <td>3463321</td>\n",
       "    </tr>\n",
       "    <tr>\n",
       "      <th>1</th>\n",
       "      <td>24</td>\n",
       "      <td>0</td>\n",
       "      <td>0</td>\n",
       "      <td>0</td>\n",
       "      <td>2577</td>\n",
       "      <td>6640929</td>\n",
       "    </tr>\n",
       "    <tr>\n",
       "      <th>2</th>\n",
       "      <td>16</td>\n",
       "      <td>0</td>\n",
       "      <td>0</td>\n",
       "      <td>0</td>\n",
       "      <td>2846</td>\n",
       "      <td>8099716</td>\n",
       "    </tr>\n",
       "    <tr>\n",
       "      <th>3</th>\n",
       "      <td>4090</td>\n",
       "      <td>1</td>\n",
       "      <td>1</td>\n",
       "      <td>1</td>\n",
       "      <td>97956</td>\n",
       "      <td>9595377936</td>\n",
       "    </tr>\n",
       "    <tr>\n",
       "      <th>4</th>\n",
       "      <td>223</td>\n",
       "      <td>0</td>\n",
       "      <td>1</td>\n",
       "      <td>0</td>\n",
       "      <td>6388</td>\n",
       "      <td>40806544</td>\n",
       "    </tr>\n",
       "  </tbody>\n",
       "</table>\n",
       "</div>"
      ],
      "text/plain": [
       "   property_crime  murder  robbery  motor_vehicle_theft  population  \\\n",
       "0              12       0        0                    0        1861   \n",
       "1              24       0        0                    0        2577   \n",
       "2              16       0        0                    0        2846   \n",
       "3            4090       1        1                    1       97956   \n",
       "4             223       0        1                    0        6388   \n",
       "\n",
       "   population_squared  \n",
       "0             3463321  \n",
       "1             6640929  \n",
       "2             8099716  \n",
       "3          9595377936  \n",
       "4            40806544  "
      ]
     },
     "execution_count": 277,
     "metadata": {},
     "output_type": "execute_result"
    }
   ],
   "source": [
    "df_no_outlier.head()"
   ]
  },
  {
   "cell_type": "code",
   "execution_count": 278,
   "metadata": {},
   "outputs": [
    {
     "name": "stdout",
     "output_type": "stream",
     "text": [
      "LinearRegression(copy_X=True, fit_intercept=True, n_jobs=1, normalize=False)\n",
      "\n",
      "Coefficients: \n",
      " [8.66691054e-03 1.30128357e-07 1.49641341e+02 7.97535068e+01\n",
      " 2.37473244e+02]\n",
      "\n",
      "Intercept: \n",
      " 0.7070089548450937\n",
      "\n",
      "R-squared:\n",
      "0.8483976957182795\n"
     ]
    },
    {
     "data": {
      "text/plain": [
       "array([0.92700003, 0.800672  , 0.78924552, 0.87427979, 0.32629748])"
      ]
     },
     "execution_count": 278,
     "metadata": {},
     "output_type": "execute_result"
    }
   ],
   "source": [
    "# Instantiate and fit our model.\n",
    "regr = linear_model.LinearRegression()\n",
    "Y = df_no_outlier['property_crime']\n",
    "X = df_no_outlier[['population','population_squared','murder','robbery', 'motor_vehicle_theft']]\n",
    "print(regr.fit(X, Y))\n",
    "\n",
    "# Inspect the results.\n",
    "print('\\nCoefficients: \\n', regr.coef_)\n",
    "print('\\nIntercept: \\n', regr.intercept_)\n",
    "print('\\nR-squared:')\n",
    "print(regr.score(X, Y))\n",
    "\n",
    "y_pred = regr.predict(X)\n",
    "\n",
    "cross_val_score(regr, X, Y, cv=5)\n"
   ]
  },
  {
   "cell_type": "code",
   "execution_count": 279,
   "metadata": {},
   "outputs": [
    {
     "data": {
      "image/png": "[encoded data removed]",
      "text/plain": [
       "<Figure size 432x288 with 1 Axes>"
      ]
     },
     "metadata": {
      "needs_background": "light"
     },
     "output_type": "display_data"
    }
   ],
   "source": [
    "#predicted property crime vs population\n",
    "plt.scatter(df_no_outlier.population, y_pred, color='blue', alpha = .3, linewidth=3)\n",
    "plt.scatter(df_no_outlier.population, df_no_outlier.property_crime, color='red', alpha = .3, linewidth=3)\n",
    "plt.title('Property Crime vs Population')\n",
    "plt.xlabel('Population')\n",
    "plt.ylabel('Property Crime')\n",
    "plt.show()\n",
    "\n",
    "\n",
    "\n",
    "\n",
    "\n"
   ]
  },
  {
   "cell_type": "code",
   "execution_count": 280,
   "metadata": {},
   "outputs": [
    {
     "data": {
      "text/html": [
       "<table class=\"simpletable\">\n",
       "<caption>OLS Regression Results</caption>\n",
       "<tr>\n",
       "  <th>Dep. Variable:</th>     <td>property_crime</td>  <th>  R-squared:         </th> <td>   0.848</td> \n",
       "</tr>\n",
       "<tr>\n",
       "  <th>Model:</th>                   <td>OLS</td>       <th>  Adj. R-squared:    </th> <td>   0.846</td> \n",
       "</tr>\n",
       "<tr>\n",
       "  <th>Method:</th>             <td>Least Squares</td>  <th>  F-statistic:       </th> <td>   381.7</td> \n",
       "</tr>\n",
       "<tr>\n",
       "  <th>Date:</th>             <td>Thu, 07 Feb 2019</td> <th>  Prob (F-statistic):</th> <td>2.71e-137</td>\n",
       "</tr>\n",
       "<tr>\n",
       "  <th>Time:</th>                 <td>17:12:23</td>     <th>  Log-Likelihood:    </th> <td> -2573.3</td> \n",
       "</tr>\n",
       "<tr>\n",
       "  <th>No. Observations:</th>      <td>   347</td>      <th>  AIC:               </th> <td>   5159.</td> \n",
       "</tr>\n",
       "<tr>\n",
       "  <th>Df Residuals:</th>          <td>   341</td>      <th>  BIC:               </th> <td>   5182.</td> \n",
       "</tr>\n",
       "<tr>\n",
       "  <th>Df Model:</th>              <td>     5</td>      <th>                     </th>     <td> </td>    \n",
       "</tr>\n",
       "<tr>\n",
       "  <th>Covariance Type:</th>      <td>nonrobust</td>    <th>                     </th>     <td> </td>    \n",
       "</tr>\n",
       "</table>\n",
       "<table class=\"simpletable\">\n",
       "<tr>\n",
       "           <td></td>              <th>coef</th>     <th>std err</th>      <th>t</th>      <th>P>|t|</th>  <th>[0.025</th>    <th>0.975]</th>  \n",
       "</tr>\n",
       "<tr>\n",
       "  <th>Intercept</th>           <td>    0.7070</td> <td>   36.104</td> <td>    0.020</td> <td> 0.984</td> <td>  -70.307</td> <td>   71.721</td>\n",
       "</tr>\n",
       "<tr>\n",
       "  <th>population</th>          <td>    0.0087</td> <td>    0.003</td> <td>    3.352</td> <td> 0.001</td> <td>    0.004</td> <td>    0.014</td>\n",
       "</tr>\n",
       "<tr>\n",
       "  <th>population_squared</th>  <td> 1.301e-07</td> <td> 1.15e-08</td> <td>   11.325</td> <td> 0.000</td> <td> 1.08e-07</td> <td> 1.53e-07</td>\n",
       "</tr>\n",
       "<tr>\n",
       "  <th>murder</th>              <td>  149.6413</td> <td>   77.318</td> <td>    1.935</td> <td> 0.054</td> <td>   -2.438</td> <td>  301.721</td>\n",
       "</tr>\n",
       "<tr>\n",
       "  <th>robbery</th>             <td>   79.7535</td> <td>   51.055</td> <td>    1.562</td> <td> 0.119</td> <td>  -20.670</td> <td>  180.177</td>\n",
       "</tr>\n",
       "<tr>\n",
       "  <th>motor_vehicle_theft</th> <td>  237.4732</td> <td>   80.138</td> <td>    2.963</td> <td> 0.003</td> <td>   79.846</td> <td>  395.101</td>\n",
       "</tr>\n",
       "</table>\n",
       "<table class=\"simpletable\">\n",
       "<tr>\n",
       "  <th>Omnibus:</th>       <td>391.363</td> <th>  Durbin-Watson:     </th> <td>   2.005</td> \n",
       "</tr>\n",
       "<tr>\n",
       "  <th>Prob(Omnibus):</th> <td> 0.000</td>  <th>  Jarque-Bera (JB):  </th> <td>76250.147</td>\n",
       "</tr>\n",
       "<tr>\n",
       "  <th>Skew:</th>          <td>-4.409</td>  <th>  Prob(JB):          </th> <td>    0.00</td> \n",
       "</tr>\n",
       "<tr>\n",
       "  <th>Kurtosis:</th>      <td>75.084</td>  <th>  Cond. No.          </th> <td>2.05e+10</td> \n",
       "</tr>\n",
       "</table><br/><br/>Warnings:<br/>[1] Standard Errors assume that the covariance matrix of the errors is correctly specified.<br/>[2] The condition number is large, 2.05e+10. This might indicate that there are<br/>strong multicollinearity or other numerical problems."
      ],
      "text/plain": [
       "<class 'statsmodels.iolib.summary.Summary'>\n",
       "\"\"\"\n",
       "                            OLS Regression Results                            \n",
       "==============================================================================\n",
       "Dep. Variable:         property_crime   R-squared:                       0.848\n",
       "Model:                            OLS   Adj. R-squared:                  0.846\n",
       "Method:                 Least Squares   F-statistic:                     381.7\n",
       "Date:                Thu, 07 Feb 2019   Prob (F-statistic):          2.71e-137\n",
       "Time:                        17:12:23   Log-Likelihood:                -2573.3\n",
       "No. Observations:                 347   AIC:                             5159.\n",
       "Df Residuals:                     341   BIC:                             5182.\n",
       "Df Model:                           5                                         \n",
       "Covariance Type:            nonrobust                                         \n",
       "=======================================================================================\n",
       "                          coef    std err          t      P>|t|      [0.025      0.975]\n",
       "---------------------------------------------------------------------------------------\n",
       "Intercept               0.7070     36.104      0.020      0.984     -70.307      71.721\n",
       "population              0.0087      0.003      3.352      0.001       0.004       0.014\n",
       "population_squared   1.301e-07   1.15e-08     11.325      0.000    1.08e-07    1.53e-07\n",
       "murder                149.6413     77.318      1.935      0.054      -2.438     301.721\n",
       "robbery                79.7535     51.055      1.562      0.119     -20.670     180.177\n",
       "motor_vehicle_theft   237.4732     80.138      2.963      0.003      79.846     395.101\n",
       "==============================================================================\n",
       "Omnibus:                      391.363   Durbin-Watson:                   2.005\n",
       "Prob(Omnibus):                  0.000   Jarque-Bera (JB):            76250.147\n",
       "Skew:                          -4.409   Prob(JB):                         0.00\n",
       "Kurtosis:                      75.084   Cond. No.                     2.05e+10\n",
       "==============================================================================\n",
       "\n",
       "Warnings:\n",
       "[1] Standard Errors assume that the covariance matrix of the errors is correctly specified.\n",
       "[2] The condition number is large, 2.05e+10. This might indicate that there are\n",
       "strong multicollinearity or other numerical problems.\n",
       "\"\"\""
      ]
     },
     "execution_count": 280,
     "metadata": {},
     "output_type": "execute_result"
    }
   ],
   "source": [
    "# Write out the model formula.\n",
    "# Your dependent variable on the right, independent variables on the left\n",
    "# Use a ~ to represent an '=' from the functional form\n",
    "linear_formula = 'property_crime ~ population+population_squared+murder+robbery+motor_vehicle_theft'\n",
    "\n",
    "# Fit the model to our data using the formula.\n",
    "lm = smf.ols(formula=linear_formula, data=df_no_outlier).fit()\n",
    "lm.summary()"
   ]
  },
  {
   "cell_type": "markdown",
   "metadata": {},
   "source": [
    "## Recap\n",
    "\n",
    "Our linear regression for New York 2013 Crime Data predicts property crime to a reasonable degree. We have used binary variables for murder, robbery and motor vehicle theft and continuous variable for population. We allowed for population squared to be a feature of our model. After removing an outlier we see our model does an alright job fitting the data. This can be seen most clearly in the last figure. The blue points are the models predictions. Notice that they form what looks to be a parabola due to the population squared feature. Also some of these points are displaced slightly vertically from a true parabola because of the binary features. \n",
    "\n",
    "We have a resonable good R^2 value for our model, and when using crossvalidation we often earn a good score. These data points to not lie on any line well. Thus, we will always have some low scores in this cross validation.\n",
    "\n",
    "Upon inspecting the information from the statsmodels ols function. We see that our features are all generally helping.  The intercept is the only feature that is likely zero. Also we have a large f-statistic, meaning our model fits the data much better than a model that always predicts the mean property crime when given any input.  \n",
    "\n",
    "# Fitting to 2013 Conneticut Crime Data\n",
    "\n",
    "We will now use our model to predict Conneticut's 2013 Crime Data.\n",
    "\n"
   ]
  },
  {
   "cell_type": "code",
   "execution_count": 281,
   "metadata": {},
   "outputs": [],
   "source": [
    "data_path = 'Conneticut_Crime.csv'\n",
    "df_conn = pd.read_csv(data_path, header=None)\n",
    "\n",
    "#note to self: when cleaning data, be mindful of what you dataframe in needed in the end. \n",
    "#I spent way too much time cleaning data that I was just going to drop.\n",
    "\n",
    "df_conn = df_conn.drop([0,1,2,3])\n",
    "df_conn = df_conn.drop([4, 13], axis=1)\n",
    "df_conn.columns = df_conn.iloc[0]\n",
    "df_conn = df_conn.drop([4])\n",
    "df_conn = df_conn.reset_index()\n",
    "df_conn = df_conn.drop('index', axis=1)\n",
    "df_conn.columns.name = None\n",
    "df_conn = df_conn.drop([92,93])\n",
    "\n",
    "\n",
    "#df = df.rename(str.lower, axis='columns')\n",
    "df_conn = df_conn.rename(index=str, columns={'City':'city',\n",
    "                                   'Population':'population',\n",
    "                                   'Violent\\rcrime': \"violent_crime\",\n",
    "                                   'Murder and\\rnonnegligent\\rmanslaughter' : \"murder\",\n",
    "                   'Rape\\r(legacy\\rdefinition)2':'rape',\n",
    "                   'Robbery':'robbery',\n",
    "                   'Aggravated\\rassault':'aggravated_assault',\n",
    "                   'Property\\rcrime':'property_crime',\n",
    "                   'Burglary':'burglary',\n",
    "                   'Larceny-\\rtheft':'larceny',\n",
    "                   'Motor\\rvehicle\\rtheft': 'motor_vehicle_theft',\n",
    "                   'Arson3':'arson'})\n",
    "df_conn = df_conn[['population', 'murder', 'robbery','motor_vehicle_theft', 'property_crime']].copy()"
   ]
  },
  {
   "cell_type": "code",
   "execution_count": 282,
   "metadata": {},
   "outputs": [
    {
     "data": {
      "text/html": [
       "<div>\n",
       "<style scoped>\n",
       "    .dataframe tbody tr th:only-of-type {\n",
       "        vertical-align: middle;\n",
       "    }\n",
       "\n",
       "    .dataframe tbody tr th {\n",
       "        vertical-align: top;\n",
       "    }\n",
       "\n",
       "    .dataframe thead th {\n",
       "        text-align: right;\n",
       "    }\n",
       "</style>\n",
       "<table border=\"1\" class=\"dataframe\">\n",
       "  <thead>\n",
       "    <tr style=\"text-align: right;\">\n",
       "      <th></th>\n",
       "      <th>property_crime</th>\n",
       "      <th>murder</th>\n",
       "      <th>robbery</th>\n",
       "      <th>motor_vehicle_theft</th>\n",
       "      <th>population</th>\n",
       "      <th>population_squared</th>\n",
       "    </tr>\n",
       "  </thead>\n",
       "  <tbody>\n",
       "    <tr>\n",
       "      <th>0</th>\n",
       "      <td>393</td>\n",
       "      <td>0</td>\n",
       "      <td>1</td>\n",
       "      <td>1</td>\n",
       "      <td>19128</td>\n",
       "      <td>365880384</td>\n",
       "    </tr>\n",
       "    <tr>\n",
       "      <th>1</th>\n",
       "      <td>143</td>\n",
       "      <td>0</td>\n",
       "      <td>1</td>\n",
       "      <td>0</td>\n",
       "      <td>18325</td>\n",
       "      <td>335805625</td>\n",
       "    </tr>\n",
       "    <tr>\n",
       "      <th>2</th>\n",
       "      <td>277</td>\n",
       "      <td>0</td>\n",
       "      <td>1</td>\n",
       "      <td>1</td>\n",
       "      <td>20657</td>\n",
       "      <td>426711649</td>\n",
       "    </tr>\n",
       "    <tr>\n",
       "      <th>3</th>\n",
       "      <td>180</td>\n",
       "      <td>0</td>\n",
       "      <td>0</td>\n",
       "      <td>0</td>\n",
       "      <td>19338</td>\n",
       "      <td>373958244</td>\n",
       "    </tr>\n",
       "    <tr>\n",
       "      <th>4</th>\n",
       "      <td>464</td>\n",
       "      <td>1</td>\n",
       "      <td>1</td>\n",
       "      <td>1</td>\n",
       "      <td>20637</td>\n",
       "      <td>425885769</td>\n",
       "    </tr>\n",
       "  </tbody>\n",
       "</table>\n",
       "</div>"
      ],
      "text/plain": [
       "   property_crime  murder  robbery  motor_vehicle_theft  population  \\\n",
       "0             393       0        1                    1       19128   \n",
       "1             143       0        1                    0       18325   \n",
       "2             277       0        1                    1       20657   \n",
       "3             180       0        0                    0       19338   \n",
       "4             464       1        1                    1       20637   \n",
       "\n",
       "   population_squared  \n",
       "0           365880384  \n",
       "1           335805625  \n",
       "2           426711649  \n",
       "3           373958244  \n",
       "4           425885769  "
      ]
     },
     "execution_count": 282,
     "metadata": {},
     "output_type": "execute_result"
    }
   ],
   "source": [
    "for col in ['population', 'murder', 'robbery', 'motor_vehicle_theft', 'property_crime']:\n",
    "    df_conn[col] = pd.to_numeric(df_conn[col].str.replace(',',''))\n",
    "    \n",
    "df_conn.murder = np.where(df_conn.murder == 0, 0, 1)\n",
    "df_conn.robbery = np.where(df_conn.robbery == 0, 0, 1)\n",
    "df_conn.motor_vehicle_theft = np.where(df_conn.motor_vehicle_theft <= 8, 0, 1)  \n",
    "\n",
    "\n",
    "df_conn['population_squared'] = df_conn['population']**2\n",
    "list(df_conn.columns.values)\n",
    "df_conn = df_conn[['property_crime', 'murder', 'robbery', 'motor_vehicle_theft', 'population', 'population_squared']]\n",
    "\n",
    "df_conn.head()"
   ]
  },
  {
   "cell_type": "code",
   "execution_count": 283,
   "metadata": {},
   "outputs": [],
   "source": [
    "Y_conn = df_conn['property_crime']\n",
    "X_conn = df_conn[['population','population_squared','murder','robbery', 'motor_vehicle_theft']]"
   ]
  },
  {
   "cell_type": "code",
   "execution_count": 284,
   "metadata": {},
   "outputs": [
    {
     "name": "stdout",
     "output_type": "stream",
     "text": [
      "\n",
      "R-squared:\n",
      "0.8255480397122551\n"
     ]
    }
   ],
   "source": [
    "print('\\nR-squared:')\n",
    "print(regr.score(X_conn, Y_conn))\n",
    "y_pred_conn = regr.predict(X_conn)"
   ]
  },
  {
   "cell_type": "code",
   "execution_count": 285,
   "metadata": {},
   "outputs": [
    {
     "data": {
      "image/png": "[encoded data removed]",
      "text/plain": [
       "<Figure size 432x288 with 1 Axes>"
      ]
     },
     "metadata": {
      "needs_background": "light"
     },
     "output_type": "display_data"
    }
   ],
   "source": [
    "#predicted property crime vs population\n",
    "plt.scatter(df_conn.population, y_pred_conn, color='blue', alpha = .3, linewidth=3)\n",
    "plt.scatter(df_conn.population, df_conn.property_crime, color='red', alpha = .3, linewidth=3)\n",
    "plt.title('Property Crime vs Population')\n",
    "plt.xlabel('Population')\n",
    "plt.ylabel('Property Crime')\n",
    "plt.show()\n"
   ]
  },
  {
   "cell_type": "markdown",
   "metadata": {},
   "source": [
    "Our model fitted to the New York 2013 data gives reasonable predictions for the Conneticut 2013 crime data. We have an R^2 value of 82% and upon inspecting the plot of Property Crime vs Population we see that the red Conneticut data points roughly follow the blue predicted Conneticut data points. "
   ]
  },
  {
   "cell_type": "code",
   "execution_count": 290,
   "metadata": {},
   "outputs": [
    {
     "data": {
      "image/png": "[encoded data removed]",
      "text/plain": [
       "<Figure size 432x288 with 1 Axes>"
      ]
     },
     "metadata": {
      "needs_background": "light"
     },
     "output_type": "display_data"
    }
   ],
   "source": [
    "residual_conn = y_pred_conn - df_conn.property_crime\n",
    "plt.scatter(y_pred_conn,residual_conn)\n",
    "plt.title('Residuals vs Predicted for Conneticut')\n",
    "plt.xlabel('Predicted')\n",
    "plt.ylabel('Residuals')\n",
    "plt.show()"
   ]
  },
  {
   "cell_type": "markdown",
   "metadata": {},
   "source": [
    "This plot of residuals vs predicted values shows us that our model becomes more inaccuarte as the amount of property crime increases. We see this from the increasing variance of our plot. Our model is much more accuarate for smaller values of property crime."
   ]
  },
  {
   "cell_type": "code",
   "execution_count": 292,
   "metadata": {},
   "outputs": [
    {
     "data": {
      "text/plain": [
       "76.04150103131191"
      ]
     },
     "execution_count": 292,
     "metadata": {},
     "output_type": "execute_result"
    }
   ],
   "source": [
    "np.mean(residual_conn)"
   ]
  },
  {
   "cell_type": "markdown",
   "metadata": {},
   "source": [
    "Our residuals have a positive mean. This indicates that our model, on average, predicts more property damage then their actually is. This may be because Conneticut has lesser crime than New York. "
   ]
  },
  {
   "cell_type": "markdown",
   "metadata": {},
   "source": [
    "# Final Thoughts\n",
    "\n",
    "Our model is fairly successful at predicting the amount of property crime in Conneticut after being trained on New York crime data. The two state seem to show similar behavior in crime. With more population comes more property crime. The same is true for our other binary features. After changing our features some, the features we settled on seem to work well.\n",
    "\n",
    "This may not be true for other states. We have chosen two states near to eachother. This model may not work as well on states belonging to the United States's west coast. \n",
    "\n",
    "However, our model relies heavily on the continuous feature, population. Thus, I expect it would work resonably well on most states crime data. If we were able to create more features from the other crime types, maybe we would have a more accurate model that would predict other states property crime data to an even greater accuracy. "
   ]
  },
  {
   "cell_type": "code",
   "execution_count": null,
   "metadata": {},
   "outputs": [],
   "source": []
  }
 ],
 "metadata": {
  "kernelspec": {
   "display_name": "Python 3",
   "language": "python",
   "name": "python3"
  },
  "language_info": {
   "codemirror_mode": {
    "name": "ipython",
    "version": 3
   },
   "file_extension": ".py",
   "mimetype": "text/x-python",
   "name": "python",
   "nbconvert_exporter": "python",
   "pygments_lexer": "ipython3",
   "version": "3.7.0"
  }
 },
 "nbformat": 4,
 "nbformat_minor": 2
}
