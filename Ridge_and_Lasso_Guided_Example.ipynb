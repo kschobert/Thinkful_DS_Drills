{
 "cells": [
  {
   "cell_type": "markdown",
   "metadata": {},
   "source": [
    "# Introduction to Ridge and Lasso Regression -- Kristofer Schobert\n",
    "\n",
    "## Here I follow along with Thinkful's guided example of Ridge and Lasso Regression"
   ]
  },
  {
   "cell_type": "code",
   "execution_count": 10,
   "metadata": {},
   "outputs": [],
   "source": [
    "import pandas as pd\n",
    "from matplotlib import pyplot as plt\n",
    "import numpy as np\n",
    "import math\n",
    "import seaborn as sns\n",
    "import sklearn\n",
    "from sklearn import linear_model\n",
    "from sklearn import preprocessing\n",
    "%matplotlib inline\n",
    "sns.set_style('white')\n",
    "import warnings\n",
    "warnings.filterwarnings(\"ignore\")"
   ]
  },
  {
   "cell_type": "code",
   "execution_count": 11,
   "metadata": {},
   "outputs": [
    {
     "name": "stdout",
     "output_type": "stream",
     "text": [
      "\n",
      "R-squared simple model:\n",
      "0.5738784962717032\n",
      "\n",
      "R-squared complex model:\n",
      "0.5739734452059888\n",
      "\n",
      "Parameter Estimates for the same predictors for the small model and large model:\n",
      "[[0.014 -0.004]\n",
      " [-0.759 -0.759]\n",
      " [0.000 4157.867]\n",
      " [-0.001 553434.569]]\n"
     ]
    }
   ],
   "source": [
    "# Load air quality data, drop the index column and any missing data columns.\n",
    "df = pd.read_csv(\n",
    "    'https://vincentarelbundock.github.io/Rdatasets/csv/ISLR/Default.csv'\n",
    ").iloc[:, 1:].dropna()\n",
    "\n",
    "# Recode strings to numeric.\n",
    "df['default'] = np.where(df['default'] == 'Yes', 1, 0)\n",
    "df['student'] = np.where(df['student'] == 'Yes', 1, 0)\n",
    "names = df.columns\n",
    "df = pd.DataFrame(preprocessing.scale(df), columns=names)\n",
    "\n",
    "# Define the training and test sizes.\n",
    "trainsize = int(df.shape[0] / 2)\n",
    "df_test = df.iloc[trainsize:, :].copy()\n",
    "df_train = df.iloc[:trainsize, :].copy()\n",
    "\n",
    "# Set up the regression model to predict defaults using all other\n",
    "# variables as features.\n",
    "regr1 = linear_model.LinearRegression()\n",
    "Y_train = df_train['income'].values.reshape(-1, 1)\n",
    "X_train = df_train.loc[:, ~(df_train.columns).isin(['income'])]\n",
    "#print(X_train)\n",
    "regr1.fit(X_train, Y_train)\n",
    "print('\\nR-squared simple model:')\n",
    "print(regr1.score(X_train, Y_train))\n",
    "\n",
    "#Store the parameter estimates.\n",
    "origparams = np.append(regr1.coef_, regr1.intercept_)\n",
    "\n",
    "# Make new features to capture potential quadratic and cubic relationships\n",
    "# between the features.\n",
    "df_train['balance_student'] = df_train['balance'] * df_train['student']\n",
    "df_train['balance_default'] = df_train['balance'] * df_train['default']\n",
    "df_train['student_default'] = df_train['student'] * df_train['default']\n",
    "df_train['balance_sqrt'] = (df_train['balance'] + 100) ** .5\n",
    "df_train['balance2'] = (df_train['balance'] + 100) ** 2\n",
    "df_train['balance3'] = (df_train['balance'] + 100) ** 3\n",
    "\n",
    "# Re-run the model with the new features.\n",
    "regrBig = linear_model.LinearRegression()\n",
    "X_train2 = df_train.loc[:, ~(df_train.columns).isin(['income'])]\n",
    "#print(X_train2)\n",
    "regrBig.fit(X_train2, Y_train)\n",
    "print('\\nR-squared complex model:')\n",
    "print(regrBig.score(X_train2, Y_train))\n",
    "\n",
    "# Store the new parameter estimates for the same features.\n",
    "newparams = np.append(\n",
    "    regrBig.coef_[0,0:(len(origparams)-1)],\n",
    "    regrBig.intercept_)\n",
    "#print(newparams)\n",
    "\n",
    "print('\\nParameter Estimates for the same predictors for the small model '\n",
    "      'and large model:')\n",
    "compare = np.column_stack((origparams, newparams))\n",
    "prettycompare = np.array2string(\n",
    "    compare,\n",
    "    formatter={'float_kind':'{0:.3f}'.format})\n",
    "print(prettycompare)"
   ]
  },
  {
   "cell_type": "code",
   "execution_count": 12,
   "metadata": {},
   "outputs": [
    {
     "name": "stdout",
     "output_type": "stream",
     "text": [
      "\n",
      "R-squared simple model:\n",
      "0.5630697922503316\n",
      "\n",
      "R-squared complex model:\n",
      "0.5630239527355649\n"
     ]
    }
   ],
   "source": [
    "# Test the simpler model with smaller coefficients.\n",
    "Y_test = df_test['income'].values.reshape(-1, 1)\n",
    "X_test = df_test.loc[:, ~(df_test.columns).isin(['income'])]\n",
    "\n",
    "print('\\nR-squared simple model:')\n",
    "print(regr1.score(X_test, Y_test))\n",
    "\n",
    "# Test the more complex model with larger coefficients.\n",
    "df_test['balance_student'] = df_test['balance'] * df_test['student']\n",
    "df_test['balance_default'] = df_test['balance'] * df_test['default']\n",
    "df_test['student_default'] = df_test['student'] * df_test['default']\n",
    "df_test['balance_sqrt'] = (df_test['balance'] + 100) ** .5\n",
    "df_test['balance2'] = (df_test['balance'] + 100) ** 2\n",
    "df_test['balance3'] = (df_test['balance'] + 100) ** 3\n",
    "\n",
    "# Re-run the model with the new features.\n",
    "X_test2 = df_test.loc[:, ~(df_test.columns).isin(['income'])]\n",
    "print('\\nR-squared complex model:')\n",
    "print(regrBig.score(X_test2, Y_test))\n"
   ]
  },
  {
   "cell_type": "code",
   "execution_count": 13,
   "metadata": {},
   "outputs": [
    {
     "name": "stdout",
     "output_type": "stream",
     "text": [
      "0.573873916440288\n",
      "[ 1.36988466e-02 -7.57859433e-01 -3.25298557e-04]\n",
      "0.5739464289613458\n",
      "\n",
      "Parameter Estimates for the same predictors for the small model and large model:\n",
      "[[0.014 -0.002]\n",
      " [-0.758 -0.757]\n",
      " [-0.000 0.048]]\n"
     ]
    }
   ],
   "source": [
    "# Fitting a ridge regression model. Alpha is the regularization\n",
    "# parameter (usually called lambda). As alpha gets larger, parameter\n",
    "# shrinkage grows more pronounced. Note that by convention, the\n",
    "# intercept is not regularized. Since we standardized the data\n",
    "# earlier, the intercept should be equal to zero and can be dropped.\n",
    "\n",
    "ridgeregr = linear_model.Ridge(alpha=10, fit_intercept=False) \n",
    "ridgeregr.fit(X_train, Y_train)\n",
    "print(ridgeregr.score(X_train, Y_train))\n",
    "origparams = ridgeregr.coef_[0]\n",
    "print(origparams)\n",
    "\n",
    "ridgeregrBig = linear_model.Ridge(alpha=10, fit_intercept=False)\n",
    "ridgeregrBig.fit(X_train2, Y_train)\n",
    "print(ridgeregrBig.score(X_train2, Y_train))\n",
    "newparams = ridgeregrBig.coef_[0, 0:len(origparams)]\n",
    "\n",
    "print('\\nParameter Estimates for the same predictors for the small model'\n",
    "      ' and large model:')\n",
    "compare = np.column_stack((origparams, newparams))\n",
    "prettycompare = np.array2string(\n",
    "    compare,\n",
    "    formatter={'float_kind':'{0:.3f}'.format})\n",
    "print(prettycompare)"
   ]
  },
  {
   "cell_type": "markdown",
   "metadata": {},
   "source": [
    "## Ridge Coefficients vs Lambda"
   ]
  },
  {
   "cell_type": "code",
   "execution_count": 14,
   "metadata": {},
   "outputs": [
    {
     "data": {
      "image/png": "[encoded data removed]",
      "text/plain": [
       "<Figure size 432x288 with 1 Axes>"
      ]
     },
     "metadata": {},
     "output_type": "display_data"
    }
   ],
   "source": [
    "# Store estimates.\n",
    "estimates = np.append(ridgeregrBig.coef_, [10])\n",
    "\n",
    "# Storing legend information.\n",
    "labels = []\n",
    "\n",
    "#Run the model for many alphas.\n",
    "for lambd in range(1, 50, 2):\n",
    "    ridgeregrBig = linear_model.Ridge(alpha=lambd, fit_intercept=False)\n",
    "    ridgeregrBig.fit(X_train2, Y_train)\n",
    "    estimates = np.row_stack((\n",
    "        estimates,\n",
    "        np.append(ridgeregrBig.coef_,[lambd])))\n",
    "    #print(estimates)\n",
    "\n",
    "# Make the data pretty.\n",
    "estimates_df = pd.DataFrame(\n",
    "    estimates,\n",
    "    columns=list(X_train2.columns) + ['lambda'])\n",
    "estimates_df.sort_values(by='lambda', inplace=True, ascending=True)\n",
    "\n",
    "# Leave out the 'student' variable.\n",
    "# It has very high values and throws off our plot's scale.\n",
    "varstoplot = list(estimates_df.columns[:9,])\n",
    "varstoplot.remove('student')\n",
    "\n",
    "# Plot a line for each parameter.\n",
    "for var in varstoplot:\n",
    "    plt.plot(estimates_df['lambda'], estimates_df[var])\n",
    "    labels.append(var)\n",
    "plt.xlabel('lambda')\n",
    "plt.ylabel('Parameter estimate size')\n",
    "plt.legend(labels)\n",
    "plt.show()"
   ]
  },
  {
   "cell_type": "code",
   "execution_count": 15,
   "metadata": {},
   "outputs": [
    {
     "name": "stdout",
     "output_type": "stream",
     "text": [
      "R² for the model with few features:\n",
      "0.450062579301185\n",
      "\n",
      "Parameter estimates for the model with few features:\n",
      "[-0.         -0.40657726 -0.          0.00114596]\n",
      "\n",
      "R² for the model with many features:\n",
      "0.4781445089581402\n",
      "\n",
      "Parameter estimates for the model with many features:\n",
      "[ 0.00000000e+00 -4.42303155e-01  0.00000000e+00 -0.00000000e+00\n",
      "  0.00000000e+00 -0.00000000e+00  0.00000000e+00 -2.95207397e-04\n",
      " -2.02390164e-07  3.15513057e+00]\n"
     ]
    }
   ],
   "source": [
    "# Small number of parameters.\n",
    "lass = linear_model.Lasso(alpha=.35)\n",
    "lassfit = lass.fit(X_train, Y_train)\n",
    "print('R² for the model with few features:')\n",
    "print(lass.score(X_train, Y_train))\n",
    "origparams = np.append(lassfit.coef_, lassfit.intercept_)\n",
    "print('\\nParameter estimates for the model with few features:')\n",
    "print(origparams)\n",
    "\n",
    "# Large number of parameters.\n",
    "lassBig = linear_model.Lasso(alpha=.30)\n",
    "lassBig.fit(X_train2, Y_train)\n",
    "print('\\nR² for the model with many features:')\n",
    "print(lassBig.score(X_train2, Y_train))\n",
    "origparams = np.append(lassBig.coef_, lassBig.intercept_)\n",
    "print('\\nParameter estimates for the model with many features:')\n",
    "print(origparams)"
   ]
  },
  {
   "cell_type": "markdown",
   "metadata": {},
   "source": [
    "## Lasso Coefficients vs Lambda"
   ]
  },
  {
   "cell_type": "code",
   "execution_count": 16,
   "metadata": {},
   "outputs": [
    {
     "data": {
      "image/png": "[encoded data removed]",
      "text/plain": [
       "<Figure size 432x288 with 1 Axes>"
      ]
     },
     "metadata": {},
     "output_type": "display_data"
    }
   ],
   "source": [
    "\n",
    "estimates_l = [0,0,0,0,0,0,0,0,0,0]\n",
    "# Storing legend information.\n",
    "labels = []\n",
    "\n",
    "#Run the model for many alphas.\n",
    "for lambd in [x / 1000.0 for x in range(10, 110, 10)]:\n",
    "    lassBig = linear_model.Lasso(alpha=lambd, fit_intercept=False)\n",
    "    lassBig.fit(X_train2, Y_train)\n",
    "    estimates_l = np.row_stack((\n",
    "        estimates_l,\n",
    "        np.append(lassBig.coef_,[lambd])))\n",
    "estimates_l = np.delete(estimates_l, 0, 0)\n",
    "#print(estimates_l)\n",
    "\n",
    "# Make the data pretty.\n",
    "estimates_l_df = pd.DataFrame(\n",
    "    estimates_l,\n",
    "    columns=list(X_train2.columns) + ['lambda'])\n",
    "estimates_l_df.sort_values(by='lambda', inplace=True, ascending=True)\n",
    "#print(estimates_l_df)\n",
    "\n",
    "# Leave out the 'student' variable.\n",
    "# It has very high values and throws off our plot's scale.\n",
    "varstoplot_l = list(estimates_l_df.columns[:9,])\n",
    "#varstoplot_l.remove('student')\n",
    "#varstoplot_l.remove('balance_default')\n",
    "#print(varstoplot_l)\n",
    "\n",
    "# Plot a line for each parameter.\n",
    "for var in varstoplot_l:\n",
    "    plt.plot(estimates_l_df['lambda'], estimates_l_df[var])\n",
    "    labels.append(var)\n",
    "    #print(var)\n",
    "plt.xlabel('lambda')\n",
    "plt.ylabel('Parameter estimate size')\n",
    "plt.legend(labels)\n",
    "plt.show()"
   ]
  },
  {
   "cell_type": "markdown",
   "metadata": {},
   "source": [
    "The first thing I noticed was that lasso requires much smaller values for lamba. Also, many of the features's coefficients are zero or near zero with a lambda value of .01. \n",
    "\n",
    "The coefficient for student is largest and it is decreasing with increasing lambda. Most all the other coefficients are at zero. \n",
    "\n",
    "A similar plot, with the sudent coefficient removed is here:"
   ]
  },
  {
   "cell_type": "code",
   "execution_count": 17,
   "metadata": {},
   "outputs": [
    {
     "data": {
      "image/png": "[encoded data removed]",
      "text/plain": [
       "<Figure size 432x288 with 1 Axes>"
      ]
     },
     "metadata": {},
     "output_type": "display_data"
    }
   ],
   "source": [
    "estimates_l = [0,0,0,0,0,0,0,0,0,0]\n",
    "# Storing legend information.\n",
    "labels = []\n",
    "\n",
    "#Run the model for many alphas.\n",
    "for lambd in [x / 1000.0 for x in range(10, 110, 10)]:\n",
    "    lassBig = linear_model.Lasso(alpha=lambd, fit_intercept=False)\n",
    "    lassBig.fit(X_train2, Y_train)\n",
    "    estimates_l = np.row_stack((\n",
    "        estimates_l,\n",
    "        np.append(lassBig.coef_,[lambd])))\n",
    "estimates_l = np.delete(estimates_l, 0, 0)\n",
    "#print(estimates_l)\n",
    "\n",
    "# Make the data pretty.\n",
    "estimates_l_df = pd.DataFrame(\n",
    "    estimates_l,\n",
    "    columns=list(X_train2.columns) + ['lambda'])\n",
    "estimates_l_df.sort_values(by='lambda', inplace=True, ascending=True)\n",
    "#print(estimates_l_df)\n",
    "\n",
    "# Leave out the 'student' variable.\n",
    "# It has very high values and throws off our plot's scale.\n",
    "varstoplot_l = list(estimates_l_df.columns[:9,])\n",
    "varstoplot_l.remove('student')\n",
    "#varstoplot_l.remove('balance_default')\n",
    "#print(varstoplot_l)\n",
    "\n",
    "# Plot a line for each parameter.\n",
    "for var in varstoplot_l:\n",
    "    plt.plot(estimates_l_df['lambda'], estimates_l_df[var])\n",
    "    labels.append(var)\n",
    "    #print(var)\n",
    "plt.xlabel('lambda')\n",
    "plt.ylabel('Parameter estimate size')\n",
    "plt.legend(labels)\n",
    "plt.show()"
   ]
  },
  {
   "cell_type": "markdown",
   "metadata": {},
   "source": [
    "The coefficient of 'balance_student starts around 0.005 and heads quickly to zero. All the other coefficients are extremely close to zero. The coefficient for student is dominating.\n",
    "\n",
    "Some striking differences of Ridge vs Lasso are the shapes of these coefficient trajectories. In Ridge Regression, they asymptotically approach zero or some other value, while in Lasso Regression they follow what looks to be straight lines to zero. "
   ]
  },
  {
   "cell_type": "markdown",
   "metadata": {},
   "source": [
    "## R^2 values for Ridge and Lasso vs Lambda"
   ]
  },
  {
   "cell_type": "code",
   "execution_count": 25,
   "metadata": {},
   "outputs": [
    {
     "data": {
      "image/png": "[encoded data removed]",
      "text/plain": [
       "<Figure size 432x288 with 1 Axes>"
      ]
     },
     "metadata": {},
     "output_type": "display_data"
    }
   ],
   "source": [
    "# Large number of parameters.\n",
    "# create array to plot, col1=R^2 for ridge, col2 = R^2 fro lasso, col3 = lambda\n",
    "plot_array = []\n",
    "\n",
    "#looping through values of lambda\n",
    "for lambd in list(np.arange(0, 1, 0.01)):\n",
    "    #fitting the data for lasso\n",
    "    lassBig = linear_model.Lasso(alpha=lambd)\n",
    "    lassBig.fit(X_train2, Y_train)\n",
    "\n",
    "    #fitting the data for ridge\n",
    "    ridgeregrBig = linear_model.Ridge(alpha=lambd, fit_intercept=False)\n",
    "    ridgeregrBig.fit(X_train2, Y_train)\n",
    "    \n",
    "    #adding a row to lot array corresponding to the R^2 scores of this lambda\n",
    "    plot_array.append([ridgeregrBig.score(X_train2, Y_train),lassBig.score(X_train2, Y_train),lambd])   \n",
    "plot_array = np.array(plot_array)\n",
    "\n",
    "\n",
    "plt.plot(plot_array[:,2],plot_array[:,0])\n",
    "plt.plot(plot_array[:,2],plot_array[:,1])\n",
    "plt.xlabel('lambda')\n",
    "plt.ylabel('R^2')\n",
    "plt.legend(['Ridge','Lasso'])\n",
    "\n",
    "\n",
    "plt.show()\n"
   ]
  },
  {
   "cell_type": "markdown",
   "metadata": {},
   "source": [
    "As we can see, the R^2 value for lasso regression changes far more drastically with lambda than does the R^2 of ridge regression. There also seems to be a critical value of about lambda = 0.7 where lasso stops decreasing. It is constant from then on. As we know lasso can take all coefficients to zero. When lambda is 0.7 all the coefficients (aside from the y-intercept) must be zero. \n",
    "\n",
    "The R^2 values for ridge regression is not constant. It has a negative slope and it is just very small. "
   ]
  },
  {
   "cell_type": "code",
   "execution_count": 26,
   "metadata": {},
   "outputs": [
    {
     "data": {
      "text/plain": [
       "array([[0.57397331, 0.57394445, 0.        ],\n",
       "       [0.57397234, 0.5737681 , 0.01      ],\n",
       "       [0.57397234, 0.57337393, 0.02      ],\n",
       "       [0.57397233, 0.57275184, 0.03      ],\n",
       "       [0.57397233, 0.57200873, 0.04      ],\n",
       "       [0.57397232, 0.5710533 , 0.05      ],\n",
       "       [0.57397231, 0.56988499, 0.06      ],\n",
       "       [0.5739723 , 0.56850466, 0.07      ],\n",
       "       [0.57397229, 0.56691197, 0.08      ],\n",
       "       [0.57397228, 0.56510691, 0.09      ],\n",
       "       [0.57397227, 0.56308949, 0.1       ],\n",
       "       [0.57397225, 0.56085971, 0.11      ],\n",
       "       [0.57397224, 0.55841756, 0.12      ],\n",
       "       [0.57397222, 0.55576304, 0.13      ],\n",
       "       [0.5739722 , 0.55289617, 0.14      ],\n",
       "       [0.57397218, 0.54981692, 0.15      ],\n",
       "       [0.57397216, 0.54652531, 0.16      ],\n",
       "       [0.57397214, 0.54302134, 0.17      ],\n",
       "       [0.57397211, 0.539305  , 0.18      ],\n",
       "       [0.57397209, 0.5353763 , 0.19      ],\n",
       "       [0.57397207, 0.53123523, 0.2       ],\n",
       "       [0.57397204, 0.5268818 , 0.21      ],\n",
       "       [0.57397201, 0.52231601, 0.22      ],\n",
       "       [0.57397199, 0.51753784, 0.23      ],\n",
       "       [0.57397196, 0.51254732, 0.24      ],\n",
       "       [0.57397193, 0.50734443, 0.25      ],\n",
       "       [0.5739719 , 0.50192917, 0.26      ],\n",
       "       [0.57397187, 0.49630155, 0.27      ],\n",
       "       [0.57397184, 0.49046157, 0.28      ],\n",
       "       [0.57397181, 0.48440922, 0.29      ],\n",
       "       [0.57397177, 0.47814451, 0.3       ],\n",
       "       [0.57397174, 0.47166743, 0.31      ],\n",
       "       [0.57397171, 0.46497671, 0.32      ],\n",
       "       [0.57397167, 0.45807477, 0.33      ],\n",
       "       [0.57397164, 0.45096045, 0.34      ],\n",
       "       [0.5739716 , 0.44363377, 0.35      ],\n",
       "       [0.57397156, 0.43609471, 0.36      ],\n",
       "       [0.57397153, 0.42834329, 0.37      ],\n",
       "       [0.57397149, 0.42037952, 0.38      ],\n",
       "       [0.57397145, 0.41220336, 0.39      ],\n",
       "       [0.57397141, 0.40381486, 0.4       ],\n",
       "       [0.57397137, 0.39521399, 0.41      ],\n",
       "       [0.57397133, 0.38640075, 0.42      ],\n",
       "       [0.57397129, 0.3773751 , 0.43      ],\n",
       "       [0.57397125, 0.36813712, 0.44      ],\n",
       "       [0.57397121, 0.35868682, 0.45      ],\n",
       "       [0.57397117, 0.3490241 , 0.46      ],\n",
       "       [0.57397113, 0.33914902, 0.47      ],\n",
       "       [0.57397109, 0.32906157, 0.48      ],\n",
       "       [0.57397104, 0.31876175, 0.49      ],\n",
       "       [0.573971  , 0.30824961, 0.5       ],\n",
       "       [0.57397096, 0.29752505, 0.51      ],\n",
       "       [0.57397091, 0.28658817, 0.52      ],\n",
       "       [0.57397087, 0.27543888, 0.53      ],\n",
       "       [0.57397083, 0.26407722, 0.54      ],\n",
       "       [0.57397078, 0.25250324, 0.55      ],\n",
       "       [0.57397074, 0.24071684, 0.56      ],\n",
       "       [0.57397069, 0.22871812, 0.57      ],\n",
       "       [0.57397065, 0.21650602, 0.58      ],\n",
       "       [0.5739706 , 0.20408256, 0.59      ],\n",
       "       [0.57397055, 0.19144674, 0.6       ],\n",
       "       [0.57397051, 0.17859855, 0.61      ],\n",
       "       [0.57397046, 0.16553799, 0.62      ],\n",
       "       [0.57397042, 0.15226507, 0.63      ],\n",
       "       [0.57397037, 0.13877942, 0.64      ],\n",
       "       [0.57397032, 0.12508173, 0.65      ],\n",
       "       [0.57397028, 0.11117168, 0.66      ],\n",
       "       [0.57397023, 0.09704927, 0.67      ],\n",
       "       [0.57397018, 0.08271448, 0.68      ],\n",
       "       [0.57397013, 0.06816733, 0.69      ],\n",
       "       [0.57397008, 0.05340781, 0.7       ],\n",
       "       [0.57397004, 0.03843593, 0.71      ],\n",
       "       [0.57396999, 0.02683413, 0.72      ],\n",
       "       [0.57396994, 0.02683413, 0.73      ],\n",
       "       [0.57396989, 0.02683413, 0.74      ],\n",
       "       [0.57396984, 0.02683413, 0.75      ],\n",
       "       [0.57396979, 0.02683413, 0.76      ],\n",
       "       [0.57396975, 0.02683413, 0.77      ],\n",
       "       [0.5739697 , 0.02683413, 0.78      ],\n",
       "       [0.57396965, 0.02683413, 0.79      ],\n",
       "       [0.5739696 , 0.02683413, 0.8       ],\n",
       "       [0.57396955, 0.02683413, 0.81      ],\n",
       "       [0.5739695 , 0.02683413, 0.82      ],\n",
       "       [0.57396945, 0.02683413, 0.83      ],\n",
       "       [0.5739694 , 0.02683413, 0.84      ],\n",
       "       [0.57396935, 0.02683413, 0.85      ],\n",
       "       [0.5739693 , 0.02683413, 0.86      ],\n",
       "       [0.57396925, 0.02683413, 0.87      ],\n",
       "       [0.5739692 , 0.02683413, 0.88      ],\n",
       "       [0.57396915, 0.02683413, 0.89      ],\n",
       "       [0.5739691 , 0.02683413, 0.9       ],\n",
       "       [0.57396905, 0.02683413, 0.91      ],\n",
       "       [0.573969  , 0.02683413, 0.92      ],\n",
       "       [0.57396895, 0.02683413, 0.93      ],\n",
       "       [0.5739689 , 0.02683413, 0.94      ],\n",
       "       [0.57396885, 0.02683413, 0.95      ],\n",
       "       [0.5739688 , 0.02683413, 0.96      ],\n",
       "       [0.57396875, 0.02683413, 0.97      ],\n",
       "       [0.5739687 , 0.02683413, 0.98      ],\n",
       "       [0.57396865, 0.02683413, 0.99      ]])"
      ]
     },
     "execution_count": 26,
     "metadata": {},
     "output_type": "execute_result"
    }
   ],
   "source": [
    "# viewing the array again col1 = ridge_R^2, col2 = lasso_R^2, col3=lambda\n",
    "plot_array"
   ]
  }
 ],
 "metadata": {
  "kernelspec": {
   "display_name": "Python 3",
   "language": "python",
   "name": "python3"
  },
  "language_info": {
   "codemirror_mode": {
    "name": "ipython",
    "version": 3
   },
   "file_extension": ".py",
   "mimetype": "text/x-python",
   "name": "python",
   "nbconvert_exporter": "python",
   "pygments_lexer": "ipython3",
   "version": "3.7.0"
  }
 },
 "nbformat": 4,
 "nbformat_minor": 2
}
