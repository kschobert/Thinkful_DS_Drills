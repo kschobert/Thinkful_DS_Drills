{
 "cells": [
  {
   "cell_type": "markdown",
   "metadata": {},
   "source": [
    "# Preparing Data for Regression Model -- Kristofer Schobert\n",
    "\n",
    "We have taken the data from the FBI's crime data in New York State in 2013. \n",
    "\n",
    "https://ucr.fbi.gov/crime-in-the-u.s/2013/crime-in-the-u.s.-2013/tables/table-8/table-8-state-cuts/table_8_offenses_known_to_law_enforcement_new_york_by_city_2013.xls\n",
    "\n",
    "In this file we are only preparing it for a regression model following:\n",
    "\n",
    "$$property\\_crime = \\alpha + population + population^2 + murder + robbery$$"
   ]
  },
  {
   "cell_type": "code",
   "execution_count": 226,
   "metadata": {},
   "outputs": [],
   "source": [
    "%matplotlib inline\n",
    "import numpy as np\n",
    "import pandas as pd\n",
    "import scipy\n",
    "import sklearn\n",
    "import matplotlib.pyplot as plt\n",
    "import seaborn as sns\n",
    "\n",
    "data_path = 'Crime_2013.csv'\n",
    "df = pd.read_csv(data_path, header=None)\n",
    "\n",
    "#note to self: when cleaning data, be mindful of what you dataframe in needed in the end. \n",
    "#I spent way too much time cleaning data that I was just going to drop.\n",
    "\n",
    "df = df.drop([0,1,2,3])\n",
    "df = df.drop([4, 13], axis=1)\n",
    "df.columns = df.iloc[0]\n",
    "df = df.drop([4])\n",
    "df = df.reset_index()\n",
    "df = df.drop('index', axis=1)\n",
    "df.columns.name = None\n",
    "df = df.drop([348,349,350])\n",
    "\n",
    "#df = df.rename(str.lower, axis='columns')\n",
    "df = df.rename(index=str, columns={'City':'city',\n",
    "                                   'Population':'population',\n",
    "                                   'Violent\\rcrime': \"violent_crime\",\n",
    "                                   'Murder and\\rnonnegligent\\rmanslaughter' : \"murder\",\n",
    "                   'Rape\\r(legacy\\rdefinition)2':'rape',\n",
    "                   'Robbery':'robbery',\n",
    "                   'Aggravated\\rassault':'aggravated_assault',\n",
    "                   'Property\\rcrime':'property_crime',\n",
    "                   'Burglary':'burglary',\n",
    "                   'Larceny-\\rtheft':'larceny',\n",
    "                   'Motor\\rvehicle\\rtheft': 'motor_vehicle_theft',\n",
    "                   'Arson3':'arson'})\n",
    "df = df[['population', 'murder', 'robbery', 'property_crime']].copy()"
   ]
  },
  {
   "cell_type": "code",
   "execution_count": 227,
   "metadata": {},
   "outputs": [],
   "source": [
    "for col in ['population', 'murder', 'robbery', 'property_crime']:\n",
    "    df[col] = pd.to_numeric(df[col].str.replace(',',''))\n"
   ]
  },
  {
   "cell_type": "code",
   "execution_count": 230,
   "metadata": {},
   "outputs": [],
   "source": [
    "df.murder = np.where(df.murder == 0, 0, 1)\n",
    "df.robbery = np.where(df.robbery == 0, 0, 1)\n",
    "#df.population_squared = df['population']**2"
   ]
  },
  {
   "cell_type": "code",
   "execution_count": 238,
   "metadata": {},
   "outputs": [],
   "source": [
    "df['population_squared'] = df['population']**2\n",
    "list(df.columns.values)\n",
    "df = df[['property_crime', 'murder', 'robbery', 'population', 'population_squared']]"
   ]
  },
  {
   "cell_type": "code",
   "execution_count": 240,
   "metadata": {},
   "outputs": [
    {
     "data": {
      "text/html": [
       "<div>\n",
       "<style scoped>\n",
       "    .dataframe tbody tr th:only-of-type {\n",
       "        vertical-align: middle;\n",
       "    }\n",
       "\n",
       "    .dataframe tbody tr th {\n",
       "        vertical-align: top;\n",
       "    }\n",
       "\n",
       "    .dataframe thead th {\n",
       "        text-align: right;\n",
       "    }\n",
       "</style>\n",
       "<table border=\"1\" class=\"dataframe\">\n",
       "  <thead>\n",
       "    <tr style=\"text-align: right;\">\n",
       "      <th></th>\n",
       "      <th>property_crime</th>\n",
       "      <th>murder</th>\n",
       "      <th>robbery</th>\n",
       "      <th>population</th>\n",
       "      <th>population_squared</th>\n",
       "    </tr>\n",
       "  </thead>\n",
       "  <tbody>\n",
       "    <tr>\n",
       "      <th>0</th>\n",
       "      <td>12</td>\n",
       "      <td>0</td>\n",
       "      <td>0</td>\n",
       "      <td>1861</td>\n",
       "      <td>3463321</td>\n",
       "    </tr>\n",
       "    <tr>\n",
       "      <th>1</th>\n",
       "      <td>24</td>\n",
       "      <td>0</td>\n",
       "      <td>0</td>\n",
       "      <td>2577</td>\n",
       "      <td>6640929</td>\n",
       "    </tr>\n",
       "    <tr>\n",
       "      <th>2</th>\n",
       "      <td>16</td>\n",
       "      <td>0</td>\n",
       "      <td>0</td>\n",
       "      <td>2846</td>\n",
       "      <td>8099716</td>\n",
       "    </tr>\n",
       "    <tr>\n",
       "      <th>3</th>\n",
       "      <td>4090</td>\n",
       "      <td>1</td>\n",
       "      <td>1</td>\n",
       "      <td>97956</td>\n",
       "      <td>9595377936</td>\n",
       "    </tr>\n",
       "    <tr>\n",
       "      <th>4</th>\n",
       "      <td>223</td>\n",
       "      <td>0</td>\n",
       "      <td>1</td>\n",
       "      <td>6388</td>\n",
       "      <td>40806544</td>\n",
       "    </tr>\n",
       "  </tbody>\n",
       "</table>\n",
       "</div>"
      ],
      "text/plain": [
       "   property_crime  murder  robbery  population  population_squared\n",
       "0              12       0        0        1861             3463321\n",
       "1              24       0        0        2577             6640929\n",
       "2              16       0        0        2846             8099716\n",
       "3            4090       1        1       97956          9595377936\n",
       "4             223       0        1        6388            40806544"
      ]
     },
     "execution_count": 240,
     "metadata": {},
     "output_type": "execute_result"
    }
   ],
   "source": [
    "df.head()"
   ]
  }
 ],
 "metadata": {
  "kernelspec": {
   "display_name": "Python 3",
   "language": "python",
   "name": "python3"
  },
  "language_info": {
   "codemirror_mode": {
    "name": "ipython",
    "version": 3
   },
   "file_extension": ".py",
   "mimetype": "text/x-python",
   "name": "python",
   "nbconvert_exporter": "python",
   "pygments_lexer": "ipython3",
   "version": "3.7.0"
  }
 },
 "nbformat": 4,
 "nbformat_minor": 2
}
