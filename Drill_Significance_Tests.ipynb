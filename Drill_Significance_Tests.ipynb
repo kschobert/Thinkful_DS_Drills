{
 "cells": [
  {
   "cell_type": "markdown",
   "metadata": {},
   "source": [
    "# Drill: Which Test to Use -- Kristofer Schobert\n",
    "\n",
    "In this notebook, we complete the Thinkful challenge involving solving six problems regarding data from a 2012 and 2014 survey of people in Europe. \n",
    "\n",
    "More information on this data can be found here: https://thinkful-ed.github.io/data-201-resources/ESS_practice_data/ESS_codebook.html#sclact\n",
    "\n",
    "We will answer the questions in order. Let's begin."
   ]
  },
  {
   "cell_type": "code",
   "execution_count": 96,
   "metadata": {},
   "outputs": [],
   "source": [
    "import numpy as np\n",
    "import pandas as pd\n",
    "import matplotlib.pyplot as plt\n",
    "from scipy import stats\n",
    "%matplotlib inline"
   ]
  },
  {
   "cell_type": "code",
   "execution_count": 7,
   "metadata": {},
   "outputs": [],
   "source": [
    "df_main = pd.read_csv('https://raw.githubusercontent.com/Thinkful-Ed/' \\\n",
    "                      'data-201-resources/master/ESS_practice_data/ESSdata_Thinkful.csv') \n"
   ]
  },
  {
   "cell_type": "code",
   "execution_count": 10,
   "metadata": {},
   "outputs": [
    {
     "data": {
      "text/html": [
       "<div>\n",
       "<style scoped>\n",
       "    .dataframe tbody tr th:only-of-type {\n",
       "        vertical-align: middle;\n",
       "    }\n",
       "\n",
       "    .dataframe tbody tr th {\n",
       "        vertical-align: top;\n",
       "    }\n",
       "\n",
       "    .dataframe thead th {\n",
       "        text-align: right;\n",
       "    }\n",
       "</style>\n",
       "<table border=\"1\" class=\"dataframe\">\n",
       "  <thead>\n",
       "    <tr style=\"text-align: right;\">\n",
       "      <th></th>\n",
       "      <th>cntry</th>\n",
       "      <th>idno</th>\n",
       "      <th>year</th>\n",
       "      <th>tvtot</th>\n",
       "      <th>ppltrst</th>\n",
       "      <th>pplfair</th>\n",
       "      <th>pplhlp</th>\n",
       "      <th>happy</th>\n",
       "      <th>sclmeet</th>\n",
       "      <th>sclact</th>\n",
       "      <th>gndr</th>\n",
       "      <th>agea</th>\n",
       "      <th>partner</th>\n",
       "    </tr>\n",
       "  </thead>\n",
       "  <tbody>\n",
       "    <tr>\n",
       "      <th>0</th>\n",
       "      <td>CH</td>\n",
       "      <td>5.0</td>\n",
       "      <td>6</td>\n",
       "      <td>3.0</td>\n",
       "      <td>3.0</td>\n",
       "      <td>10.0</td>\n",
       "      <td>5.0</td>\n",
       "      <td>8.0</td>\n",
       "      <td>5.0</td>\n",
       "      <td>4.0</td>\n",
       "      <td>2.0</td>\n",
       "      <td>60.0</td>\n",
       "      <td>1.0</td>\n",
       "    </tr>\n",
       "    <tr>\n",
       "      <th>1</th>\n",
       "      <td>CH</td>\n",
       "      <td>25.0</td>\n",
       "      <td>6</td>\n",
       "      <td>6.0</td>\n",
       "      <td>5.0</td>\n",
       "      <td>7.0</td>\n",
       "      <td>5.0</td>\n",
       "      <td>9.0</td>\n",
       "      <td>3.0</td>\n",
       "      <td>2.0</td>\n",
       "      <td>2.0</td>\n",
       "      <td>59.0</td>\n",
       "      <td>1.0</td>\n",
       "    </tr>\n",
       "    <tr>\n",
       "      <th>2</th>\n",
       "      <td>CH</td>\n",
       "      <td>26.0</td>\n",
       "      <td>6</td>\n",
       "      <td>1.0</td>\n",
       "      <td>8.0</td>\n",
       "      <td>8.0</td>\n",
       "      <td>8.0</td>\n",
       "      <td>7.0</td>\n",
       "      <td>6.0</td>\n",
       "      <td>3.0</td>\n",
       "      <td>1.0</td>\n",
       "      <td>24.0</td>\n",
       "      <td>2.0</td>\n",
       "    </tr>\n",
       "    <tr>\n",
       "      <th>3</th>\n",
       "      <td>CH</td>\n",
       "      <td>28.0</td>\n",
       "      <td>6</td>\n",
       "      <td>4.0</td>\n",
       "      <td>6.0</td>\n",
       "      <td>6.0</td>\n",
       "      <td>7.0</td>\n",
       "      <td>10.0</td>\n",
       "      <td>6.0</td>\n",
       "      <td>2.0</td>\n",
       "      <td>2.0</td>\n",
       "      <td>64.0</td>\n",
       "      <td>1.0</td>\n",
       "    </tr>\n",
       "    <tr>\n",
       "      <th>4</th>\n",
       "      <td>CH</td>\n",
       "      <td>29.0</td>\n",
       "      <td>6</td>\n",
       "      <td>5.0</td>\n",
       "      <td>6.0</td>\n",
       "      <td>7.0</td>\n",
       "      <td>5.0</td>\n",
       "      <td>8.0</td>\n",
       "      <td>7.0</td>\n",
       "      <td>2.0</td>\n",
       "      <td>2.0</td>\n",
       "      <td>55.0</td>\n",
       "      <td>1.0</td>\n",
       "    </tr>\n",
       "  </tbody>\n",
       "</table>\n",
       "</div>"
      ],
      "text/plain": [
       "  cntry  idno  year  tvtot  ppltrst  pplfair  pplhlp  happy  sclmeet  sclact  \\\n",
       "0    CH   5.0     6    3.0      3.0     10.0     5.0    8.0      5.0     4.0   \n",
       "1    CH  25.0     6    6.0      5.0      7.0     5.0    9.0      3.0     2.0   \n",
       "2    CH  26.0     6    1.0      8.0      8.0     8.0    7.0      6.0     3.0   \n",
       "3    CH  28.0     6    4.0      6.0      6.0     7.0   10.0      6.0     2.0   \n",
       "4    CH  29.0     6    5.0      6.0      7.0     5.0    8.0      7.0     2.0   \n",
       "\n",
       "   gndr  agea  partner  \n",
       "0   2.0  60.0      1.0  \n",
       "1   2.0  59.0      1.0  \n",
       "2   1.0  24.0      2.0  \n",
       "3   2.0  64.0      1.0  \n",
       "4   2.0  55.0      1.0  "
      ]
     },
     "execution_count": 10,
     "metadata": {},
     "output_type": "execute_result"
    }
   ],
   "source": [
    "df_main.head()"
   ]
  },
  {
   "cell_type": "markdown",
   "metadata": {},
   "source": [
    "## Question 1:\n",
    "\n",
    "Did people become less trusting from 2012 to 2014? Compute results for each country in the sample.\n",
    "\n",
    "We will use a depentent t-test to see if these populations are as trusting in both years. "
   ]
  },
  {
   "cell_type": "code",
   "execution_count": 13,
   "metadata": {},
   "outputs": [
    {
     "name": "stdout",
     "output_type": "stream",
     "text": [
      "CH\n",
      "CZ\n",
      "DE\n",
      "ES\n",
      "NO\n",
      "SE\n"
     ]
    }
   ],
   "source": [
    "for country in df_main['cntry'].unique():\n",
    "    "
   ]
  },
  {
   "cell_type": "code",
   "execution_count": 24,
   "metadata": {},
   "outputs": [
    {
     "data": {
      "text/plain": [
       "True"
      ]
     },
     "execution_count": 24,
     "metadata": {},
     "output_type": "execute_result"
    }
   ],
   "source": [
    "list(df_main[(df_main['cntry'] == 'CH') & (df_main['year'] == 6)]['idno']) == list(df_main[(df_main['cntry'] == 'CH') & (df_main['year'] == 7)]['idno'])\n"
   ]
  },
  {
   "cell_type": "markdown",
   "metadata": {},
   "source": [
    "so at least for county 'CH' we have the same individuals responding in 2012 and 2014 we know this because the idno's are the same for both years. They are even listed in the same order. "
   ]
  },
  {
   "cell_type": "code",
   "execution_count": 28,
   "metadata": {},
   "outputs": [
    {
     "name": "stdout",
     "output_type": "stream",
     "text": [
      "True\n",
      "True\n",
      "True\n",
      "True\n",
      "True\n",
      "True\n"
     ]
    }
   ],
   "source": [
    "for country in df_main['cntry'].unique():\n",
    "    print(list(df_main[(df_main['cntry'] == country) & (df_main['year'] == 6)]['idno']) == list(df_main[(df_main['cntry'] == country) & (df_main['year'] == 7)]['idno']))\n",
    "    "
   ]
  },
  {
   "cell_type": "markdown",
   "metadata": {},
   "source": [
    "We have the same individuals reporting in both years. After a closer inspection of the documentation of the data, it seems that it was targeted at undertanding behavior on an individual level. That is why we have True statments when comparting the list of id numbers for each country during both years. \n",
    "\n",
    "Through other data exploration, we have determined that ID numbers ('idno') are only unique within one country. And that we have missing values in our data. "
   ]
  },
  {
   "cell_type": "code",
   "execution_count": 183,
   "metadata": {},
   "outputs": [
    {
     "name": "stdout",
     "output_type": "stream",
     "text": [
      "CH Ttest_relResult(statistic=-0.6586851756725737, pvalue=0.5102943511301135)\n",
      "CZ Ttest_relResult(statistic=-0.5001638336887216, pvalue=0.6171292682404208)\n",
      "DE Ttest_relResult(statistic=-0.18399501804849683, pvalue=0.8568563797095805)\n",
      "ES Ttest_relResult(statistic=2.4561906976601646, pvalue=0.014181580725321856)\n",
      "NO Ttest_relResult(statistic=0.5073077081124404, pvalue=0.6120925701518767)\n",
      "SE Ttest_relResult(statistic=-2.0671082026033982, pvalue=0.0390078167095776)\n"
     ]
    }
   ],
   "source": [
    "# looping through each country to ultimately calculate the depentent t-test statistics for each country\n",
    "\n",
    "# merging the dataframe by idno.\n",
    "# again, idno's are not unique. they are only unique within one country.\n",
    "\n",
    "# we then drop rows this any NaN values. \n",
    "\n",
    "# finally we compute the dependent t-statistic\n",
    "\n",
    "for country in df_main['cntry'].unique():\n",
    "\n",
    "    print(country, stats.ttest_rel(\n",
    "\n",
    "    df_main[(df_main['cntry'] == country) & (df_main['year'] == 6)].merge(\n",
    "        df_main[(df_main['cntry'] == country) & (df_main['year'] == 7)], \n",
    "                                       how='outer', on='idno',\n",
    "                                        suffixes=('_2012', '_2014'))[[\n",
    "        'idno', 'ppltrst_2012', 'ppltrst_2014']].dropna()['ppltrst_2012'],\n",
    "\n",
    "    df_main[(df_main['cntry'] == country) & (df_main['year'] == 6)].merge(\n",
    "        df_main[(df_main['cntry'] == country) & (df_main['year'] == 7)], \n",
    "                                       how='outer', on='idno',\n",
    "                                        suffixes=('_2012', '_2014'))[[\n",
    "        'idno', 'ppltrst_2012', 'ppltrst_2014']].dropna()['ppltrst_2014']))"
   ]
  },
  {
   "cell_type": "markdown",
   "metadata": {},
   "source": [
    "We can see that \"ES\" - Spain, and \"SE\" - Sweden, have a statistically significant change in their mean value for trusting people (their p-values are less than 0.05). The sign of the t-statistic informs us if the change has increased or decreased. I do not know how scipy chooses to calcuate this so I'm not certain which one increased and which country decreased. Let's inspect the means of the differences for these two countries. "
   ]
  },
  {
   "cell_type": "code",
   "execution_count": 197,
   "metadata": {},
   "outputs": [
    {
     "name": "stdout",
     "output_type": "stream",
     "text": [
      "for Spain the change in the mean is: -0.2171758876961189\n",
      "for Sweden the change in the mean is: 0.1986754966887417\n"
     ]
    }
   ],
   "source": [
    "# using the columns of entires for 'ppltrst' in Spain in 2014 and subracting the 2012 values\n",
    "# thus using final minus initial to find the change. and the change is positive.\n",
    " \n",
    "country = 'ES' # Spain\n",
    "print('for Spain the change in the mean is: {}'.format(\n",
    "    np.mean(np.array(df_main[(df_main['cntry'] == country) & (df_main['year'] == 6)].merge(\n",
    "    df_main[(df_main['cntry'] == country) & (df_main['year'] == 7)], \n",
    "                                   how='outer', on='idno',\n",
    "                                    suffixes=('_2012', '_2014'))[[\n",
    "    'idno', 'ppltrst_2012', 'ppltrst_2014']].dropna()['ppltrst_2014']) - np.array(\n",
    "    df_main[(df_main['cntry'] == country) & (df_main['year'] == 6)].merge(\n",
    "    df_main[(df_main['cntry'] == country) & (df_main['year'] == 7)], \n",
    "                                   how='outer', on='idno',\n",
    "                                    suffixes=('_2012', '_2014'))[[\n",
    "    'idno', 'ppltrst_2012', 'ppltrst_2014']].dropna()['ppltrst_2012']))))\n",
    "\n",
    "country = 'SE' # Sweden\n",
    "print('for Sweden the change in the mean is: {}'.format(\n",
    "np.mean(np.array(df_main[(df_main['cntry'] == country) & (df_main['year'] == 6)].merge(\n",
    "    df_main[(df_main['cntry'] == country) & (df_main['year'] == 7)], \n",
    "                                   how='outer', on='idno',\n",
    "                                    suffixes=('_2012', '_2014'))[[\n",
    "    'idno', 'ppltrst_2012', 'ppltrst_2014']].dropna()['ppltrst_2014']) - np.array(\n",
    "    df_main[(df_main['cntry'] == country) & (df_main['year'] == 6)].merge(\n",
    "    df_main[(df_main['cntry'] == country) & (df_main['year'] == 7)], \n",
    "                                   how='outer', on='idno',\n",
    "                                    suffixes=('_2012', '_2014'))[[\n",
    "    'idno', 'ppltrst_2012', 'ppltrst_2014']].dropna()['ppltrst_2012']))))"
   ]
  },
  {
   "cell_type": "markdown",
   "metadata": {},
   "source": [
    "## P.1 Conclusion\n",
    "In Spain people trusted people less and in Sweden people trusted people more on average as time went on from 2012 to 2014. \n",
    "\n",
    "Thus the t-statistic scipy returns involves the first input minus the second. Thus initial minus final for us. "
   ]
  },
  {
   "cell_type": "markdown",
   "metadata": {},
   "source": [
    "## Problem 2\n",
    "\n",
    "Did people become happier from 2012 to 2014? Compute results for each country in the sample.\n",
    "\n",
    "By changing 'ppltrst' to 'happy' in problem 1's block of code, we will have the answer."
   ]
  },
  {
   "cell_type": "code",
   "execution_count": 198,
   "metadata": {},
   "outputs": [
    {
     "name": "stdout",
     "output_type": "stream",
     "text": [
      "CH Ttest_relResult(statistic=-0.319412957862232, pvalue=0.7495001355428359)\n",
      "CZ Ttest_relResult(statistic=-1.4561384833039597, pvalue=0.14584548433894534)\n",
      "DE Ttest_relResult(statistic=-0.8062257748298549, pvalue=0.4346138707734991)\n",
      "ES Ttest_relResult(statistic=1.613832417735418, pvalue=0.1068245155648069)\n",
      "NO Ttest_relResult(statistic=4.2856826576235925, pvalue=2.0674530134057013e-05)\n",
      "SE Ttest_relResult(statistic=-0.5581637086030012, pvalue=0.5768709591234161)\n"
     ]
    }
   ],
   "source": [
    "for country in df_main['cntry'].unique():\n",
    "\n",
    "    print(country, stats.ttest_rel(\n",
    "\n",
    "    df_main[(df_main['cntry'] == country) & (df_main['year'] == 6)].merge(\n",
    "        df_main[(df_main['cntry'] == country) & (df_main['year'] == 7)], \n",
    "                                       how='outer', on='idno',\n",
    "                                        suffixes=('_2012', '_2014'))[[\n",
    "        'idno', 'happy_2012', 'happy_2014']].dropna()['happy_2012'],\n",
    "\n",
    "    df_main[(df_main['cntry'] == country) & (df_main['year'] == 6)].merge(\n",
    "        df_main[(df_main['cntry'] == country) & (df_main['year'] == 7)], \n",
    "                                       how='outer', on='idno',\n",
    "                                        suffixes=('_2012', '_2014'))[[\n",
    "        'idno', 'happy_2012', 'happy_2014']].dropna()['happy_2014']))"
   ]
  },
  {
   "cell_type": "markdown",
   "metadata": {},
   "source": [
    "## Conclusion\n",
    "\n",
    "Only Norway (NO) has had a significant change in their happiness. The change is very significant. We have a p-value of 0.00002. The Norwegian people surveyed were far less happy in 2014 then they were in 2012. "
   ]
  },
  {
   "cell_type": "markdown",
   "metadata": {},
   "source": [
    "## Problem 3\n",
    "\n",
    "Who reported watching more TV in 2012, men or women?"
   ]
  },
  {
   "cell_type": "code",
   "execution_count": 225,
   "metadata": {},
   "outputs": [
    {
     "data": {
      "text/plain": [
       "Ttest_indResult(statistic=-0.6899351288552367, pvalue=0.49027236479485914)"
      ]
     },
     "execution_count": 225,
     "metadata": {},
     "output_type": "execute_result"
    }
   ],
   "source": [
    "stats.ttest_ind(\n",
    "df_main[(df_main['year'] == 6) & (df_main['gndr'] == 1)]['tvtot'].dropna(),\n",
    "                      df_main[(df_main['year'] == 6) & (df_main['gndr'] == 2)]['tvtot'].dropna(),\n",
    "    axis=0, equal_var=False)"
   ]
  },
  {
   "cell_type": "markdown",
   "metadata": {},
   "source": [
    "Neither. Both men and women in 2012 watch a similar amount of TV. The sample distributions are too similar to show a statistically significant difference. "
   ]
  },
  {
   "cell_type": "markdown",
   "metadata": {},
   "source": [
    "## Problem 4\n",
    "\n",
    "Who was more likely to believe people were fair in 2012, people living with a partner or people living alone?\n",
    "\n",
    "Note that partner == 1.0 means the person HAS a partner, 2.0 == no partner. "
   ]
  },
  {
   "cell_type": "code",
   "execution_count": 230,
   "metadata": {},
   "outputs": [
    {
     "data": {
      "text/html": [
       "<div>\n",
       "<style scoped>\n",
       "    .dataframe tbody tr th:only-of-type {\n",
       "        vertical-align: middle;\n",
       "    }\n",
       "\n",
       "    .dataframe tbody tr th {\n",
       "        vertical-align: top;\n",
       "    }\n",
       "\n",
       "    .dataframe thead th {\n",
       "        text-align: right;\n",
       "    }\n",
       "</style>\n",
       "<table border=\"1\" class=\"dataframe\">\n",
       "  <thead>\n",
       "    <tr style=\"text-align: right;\">\n",
       "      <th></th>\n",
       "      <th>idno</th>\n",
       "      <th>year</th>\n",
       "      <th>tvtot</th>\n",
       "      <th>ppltrst</th>\n",
       "      <th>pplfair</th>\n",
       "      <th>pplhlp</th>\n",
       "      <th>happy</th>\n",
       "      <th>sclmeet</th>\n",
       "      <th>sclact</th>\n",
       "      <th>gndr</th>\n",
       "      <th>agea</th>\n",
       "    </tr>\n",
       "    <tr>\n",
       "      <th>partner</th>\n",
       "      <th></th>\n",
       "      <th></th>\n",
       "      <th></th>\n",
       "      <th></th>\n",
       "      <th></th>\n",
       "      <th></th>\n",
       "      <th></th>\n",
       "      <th></th>\n",
       "      <th></th>\n",
       "      <th></th>\n",
       "      <th></th>\n",
       "    </tr>\n",
       "  </thead>\n",
       "  <tbody>\n",
       "    <tr>\n",
       "      <th>1.0</th>\n",
       "      <td>40822.379207</td>\n",
       "      <td>6</td>\n",
       "      <td>3.958427</td>\n",
       "      <td>5.660172</td>\n",
       "      <td>6.080736</td>\n",
       "      <td>5.471139</td>\n",
       "      <td>7.966979</td>\n",
       "      <td>5.054389</td>\n",
       "      <td>2.720965</td>\n",
       "      <td>1.479806</td>\n",
       "      <td>50.745075</td>\n",
       "    </tr>\n",
       "    <tr>\n",
       "      <th>2.0</th>\n",
       "      <td>37591.420792</td>\n",
       "      <td>6</td>\n",
       "      <td>3.855638</td>\n",
       "      <td>5.396648</td>\n",
       "      <td>5.856965</td>\n",
       "      <td>5.249533</td>\n",
       "      <td>7.319202</td>\n",
       "      <td>5.513932</td>\n",
       "      <td>2.772756</td>\n",
       "      <td>1.529084</td>\n",
       "      <td>42.215873</td>\n",
       "    </tr>\n",
       "  </tbody>\n",
       "</table>\n",
       "</div>"
      ],
      "text/plain": [
       "                 idno  year     tvtot   ppltrst   pplfair    pplhlp     happy  \\\n",
       "partner                                                                         \n",
       "1.0      40822.379207     6  3.958427  5.660172  6.080736  5.471139  7.966979   \n",
       "2.0      37591.420792     6  3.855638  5.396648  5.856965  5.249533  7.319202   \n",
       "\n",
       "          sclmeet    sclact      gndr       agea  \n",
       "partner                                           \n",
       "1.0      5.054389  2.720965  1.479806  50.745075  \n",
       "2.0      5.513932  2.772756  1.529084  42.215873  "
      ]
     },
     "execution_count": 230,
     "metadata": {},
     "output_type": "execute_result"
    }
   ],
   "source": [
    "df_main[(df_main['year'] == 6)].groupby('partner').mean()"
   ]
  },
  {
   "cell_type": "markdown",
   "metadata": {},
   "source": [
    "It looks like, in 2012, people with a partner felt that people are more fair. Let's see if this difference in the mean is statistically significant."
   ]
  },
  {
   "cell_type": "code",
   "execution_count": 233,
   "metadata": {},
   "outputs": [
    {
     "data": {
      "text/plain": [
       "Ttest_indResult(statistic=3.3027889746563357, pvalue=0.0009673897763136988)"
      ]
     },
     "execution_count": 233,
     "metadata": {},
     "output_type": "execute_result"
    }
   ],
   "source": [
    "stats.ttest_ind(\n",
    "df_main[(df_main['year'] == 6) & (df_main['partner'] == 1)]['pplfair'].dropna(),\n",
    "                      df_main[(df_main['year'] == 6) & (df_main['partner'] == 2)]['pplfair'].dropna(),\n",
    "    axis=0, equal_var=False)"
   ]
  },
  {
   "cell_type": "markdown",
   "metadata": {},
   "source": [
    "With this low p-value we can conclude that the means are significantly different. People who live with a partner in 2012 believe people were fair moreso than people who lived alone. "
   ]
  },
  {
   "cell_type": "markdown",
   "metadata": {},
   "source": [
    "## Problem 5\n",
    "\n",
    "Pick three or four of the countries in the sample and compare how often people met socially in 2014. Are there differences, and if so, which countries stand out?\n",
    "\n",
    "We will use the 1-way ANOVA to see if the populations all have the same mean. We will use Spain, Norway, and Sweden as our countries to test. "
   ]
  },
  {
   "cell_type": "code",
   "execution_count": 237,
   "metadata": {},
   "outputs": [
    {
     "data": {
      "text/plain": [
       "F_onewayResult(statistic=3.726110434690217, pvalue=0.02420388186106648)"
      ]
     },
     "execution_count": 237,
     "metadata": {},
     "output_type": "execute_result"
    }
   ],
   "source": [
    "stats.f_oneway(\n",
    "    df_main[(df_main['year'] == 7) & (df_main['cntry'] == 'ES')]['sclmeet'].dropna(),\n",
    "    df_main[(df_main['year'] == 7) & (df_main['cntry'] == 'NO')]['sclmeet'].dropna(),\n",
    "    df_main[(df_main['year'] == 7) & (df_main['cntry'] == 'SE')]['sclmeet'].dropna())\n",
    "    "
   ]
  },
  {
   "cell_type": "markdown",
   "metadata": {},
   "source": [
    "With a p-value of 0.024 we have a statistically significant result. There is about a one in forty chance that our means are actually the same. \n",
    "\n",
    "Let's go compare groups and find out who is different, or if they are all different. "
   ]
  },
  {
   "cell_type": "code",
   "execution_count": 240,
   "metadata": {},
   "outputs": [
    {
     "name": "stdout",
     "output_type": "stream",
     "text": [
      "Comparing Spain and Norway:\n",
      "Ttest_indResult(statistic=-0.6463769188235257, pvalue=0.5181256302202837)\n",
      "Comparing Norway and Sweden:\n",
      "Ttest_indResult(statistic=-1.8342603800194623, pvalue=0.06680394483729)\n",
      "Comparing Sweden and Spain:\n",
      "Ttest_indResult(statistic=2.674925718628197, pvalue=0.007534965623985669)\n"
     ]
    }
   ],
   "source": [
    "print('Comparing Spain and Norway:')\n",
    "print(stats.ttest_ind(\n",
    "    df_main[(df_main['year'] == 7) & (df_main['cntry'] == 'ES')]['sclmeet'].dropna(),\n",
    "    df_main[(df_main['year'] == 7) & (df_main['cntry'] == 'NO')]['sclmeet'].dropna(),\n",
    "    axis=0, equal_var=False))\n",
    "\n",
    "print('Comparing Norway and Sweden:')\n",
    "print(stats.ttest_ind(\n",
    "    df_main[(df_main['year'] == 7) & (df_main['cntry'] == 'NO')]['sclmeet'].dropna(),\n",
    "    df_main[(df_main['year'] == 7) & (df_main['cntry'] == 'SE')]['sclmeet'].dropna(),\n",
    "    axis=0, equal_var=False))\n",
    "\n",
    "print('Comparing Sweden and Spain:')\n",
    "print(stats.ttest_ind(\n",
    "    df_main[(df_main['year'] == 7) & (df_main['cntry'] == 'SE')]['sclmeet'].dropna(),\n",
    "    df_main[(df_main['year'] == 7) & (df_main['cntry'] == 'ES')]['sclmeet'].dropna(),\n",
    "    axis=0, equal_var=False))"
   ]
  },
  {
   "cell_type": "markdown",
   "metadata": {},
   "source": [
    "## Conclusion\n",
    "\n",
    "The p-value when comparing Spain and Norway is very high, meaning these two countries have very similar means for meeting socially. However, Norway and Sweden differ by a good amount - we have a near 0.05 p-value, and when comparing Sweden and Spain we have a very low p-value. Thus, Sweden is the most different from the other two groups. We know from the sign of the statistics that Sweden has the higher mean value for meeting socially. We subract the second input from the first when computing t-tests. Thus the negative t-statistic when comparing Norway (less social) to Sweden (more social) in that order. "
   ]
  },
  {
   "cell_type": "code",
   "execution_count": 242,
   "metadata": {},
   "outputs": [
    {
     "data": {
      "text/plain": [
       "cntry\n",
       "CH    5.160622\n",
       "CZ    4.445802\n",
       "DE    4.428571\n",
       "ES    5.260116\n",
       "NO    5.302326\n",
       "SE    5.426211\n",
       "Name: sclmeet, dtype: float64"
      ]
     },
     "execution_count": 242,
     "metadata": {},
     "output_type": "execute_result"
    }
   ],
   "source": [
    "# further justification\n",
    "# here is the means of each country's social meeting metric in 2014\n",
    "df_main[(df_main['year'] == 7)].groupby('cntry').mean()['sclmeet']"
   ]
  },
  {
   "cell_type": "markdown",
   "metadata": {},
   "source": [
    "We see that Sweden (SE) has the highest 'sclmeet' mean value comparied to Norway (NO) and Spain (ES) (and all the other contries though we have not run proper significants testing for that...)"
   ]
  },
  {
   "cell_type": "markdown",
   "metadata": {},
   "source": [
    "## Problem 6\n",
    "\n",
    "Pick three or four of the countries in the sample and compare how often people took part in social activities, relative to others their age, in 2014. Are there differences, and if so, which countries stand out?"
   ]
  },
  {
   "cell_type": "code",
   "execution_count": 243,
   "metadata": {},
   "outputs": [
    {
     "name": "stdout",
     "output_type": "stream",
     "text": [
      "Comparing Spain and Norway:\n",
      "Ttest_indResult(statistic=-5.8598993324432165, pvalue=5.546987698432352e-09)\n",
      "Comparing Norway and Sweden:\n",
      "Ttest_indResult(statistic=-0.4842348224892412, pvalue=0.6282861634242631)\n",
      "Comparing Sweden and Spain:\n",
      "Ttest_indResult(statistic=6.58938516532171, pvalue=5.612166916523823e-11)\n"
     ]
    }
   ],
   "source": [
    "print('Comparing Spain and Norway:')\n",
    "print(stats.ttest_ind(\n",
    "    df_main[(df_main['year'] == 7) & (df_main['cntry'] == 'ES')]['sclact'].dropna(),\n",
    "    df_main[(df_main['year'] == 7) & (df_main['cntry'] == 'NO')]['sclact'].dropna(),\n",
    "    axis=0, equal_var=False))\n",
    "\n",
    "print('Comparing Norway and Sweden:')\n",
    "print(stats.ttest_ind(\n",
    "    df_main[(df_main['year'] == 7) & (df_main['cntry'] == 'NO')]['sclact'].dropna(),\n",
    "    df_main[(df_main['year'] == 7) & (df_main['cntry'] == 'SE')]['sclact'].dropna(),\n",
    "    axis=0, equal_var=False))\n",
    "\n",
    "print('Comparing Sweden and Spain:')\n",
    "print(stats.ttest_ind(\n",
    "    df_main[(df_main['year'] == 7) & (df_main['cntry'] == 'SE')]['sclact'].dropna(),\n",
    "    df_main[(df_main['year'] == 7) & (df_main['cntry'] == 'ES')]['sclact'].dropna(),\n",
    "    axis=0, equal_var=False))"
   ]
  },
  {
   "cell_type": "markdown",
   "metadata": {},
   "source": [
    "## Conclusion\n",
    "\n",
    "Here, Spain stands out. Norway and Sweden have similar means for individuals socializing compared to others of the same age. When either of those two contries are compared to Spain we see an extremely small p-value - those means are not the same. \n",
    "\n",
    "Individuals in Spain feel they socialize with people less often than people their age compared to individuals in Norway or Sweden. It seems individuals in Spain feel they are more solitary than individuals in Norway or Sweden."
   ]
  },
  {
   "cell_type": "code",
   "execution_count": 244,
   "metadata": {},
   "outputs": [
    {
     "data": {
      "text/plain": [
       "cntry\n",
       "CH    2.781699\n",
       "CZ    2.703077\n",
       "DE    2.714286\n",
       "ES    2.616878\n",
       "NO    2.859097\n",
       "SE    2.879425\n",
       "Name: sclact, dtype: float64"
      ]
     },
     "execution_count": 244,
     "metadata": {},
     "output_type": "execute_result"
    }
   ],
   "source": [
    "# further justification\n",
    "# here is the means of each country's social meeting \n",
    "# compared to other's their age metric in 2014\n",
    "df_main[(df_main['year'] == 7)].groupby('cntry').mean()['sclact']"
   ]
  },
  {
   "cell_type": "markdown",
   "metadata": {},
   "source": [
    "Again we see this here. Spain (SE) has the smallest value for this parameter. We have run the significants tests and yes, we can say with very strong certainty (one in a billion), that these means are truly different when comparing Spain to Norway and Spain to Sweden. "
   ]
  },
  {
   "cell_type": "code",
   "execution_count": null,
   "metadata": {},
   "outputs": [],
   "source": []
  }
 ],
 "metadata": {
  "kernelspec": {
   "display_name": "Python 3",
   "language": "python",
   "name": "python3"
  },
  "language_info": {
   "codemirror_mode": {
    "name": "ipython",
    "version": 3
   },
   "file_extension": ".py",
   "mimetype": "text/x-python",
   "name": "python",
   "nbconvert_exporter": "python",
   "pygments_lexer": "ipython3",
   "version": "3.7.2"
  }
 },
 "nbformat": 4,
 "nbformat_minor": 2
}
